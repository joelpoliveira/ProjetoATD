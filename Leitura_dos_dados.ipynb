{
 "cells": [
  {
   "cell_type": "markdown",
   "id": "charged-garden",
   "metadata": {},
   "source": [
    "# Projeto ATD\n",
    "## 2ºsemestre 2020/2021\n",
    "### FCTUC - DEI\n",
    "### Membros:\n",
    "* Joel Oliveira\n",
    "* Tomás Mendes"
   ]
  },
  {
   "cell_type": "code",
   "execution_count": null,
   "id": "requested-links",
   "metadata": {},
   "outputs": [],
   "source": [
    "import numpy as np\n",
    "from sympy import *\n",
    "import matplotlib.pyplot as plt\n",
    "import pandas as pd\n",
    "import seaborn as sns\n",
    "sns.set_style(\"whitegrid\")"
   ]
  },
  {
   "cell_type": "markdown",
   "id": "equipped-milan",
   "metadata": {},
   "source": [
    "## Ler dados do acelerómetro para variável\n",
    "### (1 variável / experiência )\n",
    "###### userA_expB (Experiência B do Sujeito A)"
   ]
  },
  {
   "cell_type": "code",
   "execution_count": null,
   "id": "computational-result",
   "metadata": {},
   "outputs": [],
   "source": [
    "user1_1 = pd.DataFrame(data=np.loadtxt(\"DataPL/acc_exp01_user01.txt\"), columns=['X','Y','Z'])\n",
    "user1_2 = pd.DataFrame(data=np.loadtxt(\"DataPL/acc_exp02_user01.txt\"), columns=['X','Y','Z'])\n",
    "user2_1 = pd.DataFrame(data=np.loadtxt(\"DataPL/acc_exp03_user02.txt\"), columns=['X','Y','Z'])\n",
    "user2_2 = pd.DataFrame(data=np.loadtxt(\"DataPL/acc_exp04_user02.txt\"), columns=['X','Y','Z'])\n",
    "user3_1 = pd.DataFrame(data=np.loadtxt(\"DataPL/acc_exp05_user03.txt\"), columns=['X','Y','Z'])\n",
    "user3_2 = pd.DataFrame(data=np.loadtxt(\"DataPL/acc_exp06_user03.txt\"), columns=['X','Y','Z'])\n",
    "user4_1 = pd.DataFrame(data=np.loadtxt(\"DataPL/acc_exp07_user04.txt\"), columns=['X','Y','Z'])\n",
    "user4_2 = pd.DataFrame(data=np.loadtxt(\"DataPL/acc_exp08_user04.txt\"), columns=['X','Y','Z'])"
   ]
  },
  {
   "cell_type": "markdown",
   "id": "ordinary-journalist",
   "metadata": {},
   "source": [
    "##### Juntar à estrutura com os dados a informação do tempo em minutos de cada experiência"
   ]
  },
  {
   "cell_type": "code",
   "execution_count": null,
   "id": "communist-bhutan",
   "metadata": {},
   "outputs": [],
   "source": [
    "freq = 50 # Hz\n",
    "T = 1/freq # sec\n",
    "\n",
    "user1_1['Time (min)'] = np.arange(0, len(user1_1['X']) * T, T)/60\n",
    "user1_2['Time (min)'] = np.arange(0, len(user1_2['X']) * T, T)/60 \n",
    "user2_1['Time (min)'] = np.arange(0, len(user2_1['X']) * T, T)/60 \n",
    "user2_2['Time (min)'] = np.arange(0, len(user2_2['X']) * T, T)/60 \n",
    "user3_1['Time (min)'] = np.arange(0, len(user3_1['X']) * T, T)/60 \n",
    "user3_2['Time (min)'] = np.arange(0, len(user3_2['X']) * T, T)/60 \n",
    "user4_1['Time (min)'] = np.arange(0, len(user4_1['X']) * T, T)/60 \n",
    "user4_2['Time (min)'] = np.arange(0, len(user4_2['X']) * T, T)/60"
   ]
  },
  {
   "cell_type": "markdown",
   "id": "unable-habitat",
   "metadata": {},
   "source": [
    "#### Guardar os dados das experiências num ficheiro .dat, para ler mais tarde"
   ]
  },
  {
   "cell_type": "code",
   "execution_count": null,
   "id": "indonesian-envelope",
   "metadata": {},
   "outputs": [],
   "source": [
    "users_exp = [user1_1, user1_2, user2_1, user2_2, user3_1, user3_2, user4_1, user4_2]\n",
    "pd.to_pickle(users_exp, \"Exercicio2/users.dat\")"
   ]
  },
  {
   "cell_type": "markdown",
   "id": "mechanical-stretch",
   "metadata": {},
   "source": [
    "### Verificação dos dados presentes no DataSet, através da função 'info()' das DataFrame da livraria Pandas.\n",
    "#### Esta função devolve informações sobre a informação presente na DataFrame. É devolvida uma string com a quantidade de valores presente não nula, a quantidade de valores presente com valor nulo e ainda o tipoda informação presente em cada coluna. \n",
    "#### Assim, é possível verificar que o DataSet está bastante completo, sem falhas de informação, e o tipo de dados existente nele. No caso dados do tipo float."
   ]
  },
  {
   "cell_type": "code",
   "execution_count": null,
   "id": "twelve-blogger",
   "metadata": {},
   "outputs": [],
   "source": [
    "for i in range(len(users_exp)):\n",
    "    print(\"//\" + \"_\"*9 + f\"Sujeito {i//2+1} Experiencia {i%2+1}\" + \"_\"*9 + \"\\\\\\\\\", end = '\\n\\n')\n",
    "    users_exp[i].info()\n",
    "    print(\"\\n\")\n",
    "    "
   ]
  },
  {
   "cell_type": "code",
   "execution_count": null,
   "id": "inside-collectible",
   "metadata": {},
   "outputs": [],
   "source": [
    "for i in range(len(users_exp)):\n",
    "    print(\"//\" + \"_\"*15 + f\"Sujeito {i//2+1} Experiencia {i%2+1}\" + \"_\"*15 + \"\\\\\\\\\", end='\\n\\n')\n",
    "    print(users_exp[i].describe())\n",
    "    print(\"\\n\")\n"
   ]
  },
  {
   "cell_type": "code",
   "execution_count": null,
   "id": "sporting-richmond",
   "metadata": {},
   "outputs": [],
   "source": []
  }
 ],
 "metadata": {
  "kernelspec": {
   "display_name": "Python 3",
   "language": "python",
   "name": "python3"
  },
  "language_info": {
   "codemirror_mode": {
    "name": "ipython",
    "version": 3
   },
   "file_extension": ".py",
   "mimetype": "text/x-python",
   "name": "python",
   "nbconvert_exporter": "python",
   "pygments_lexer": "ipython3",
   "version": "3.8.7"
  },
  "metadata": {
   "interpreter": {
    "hash": "27d4f6ba00e5f9584c5bb13eed1064ec5c4936beebf286aef9eac3e7bf19e409"
   }
  }
 },
 "nbformat": 4,
 "nbformat_minor": 5
}
