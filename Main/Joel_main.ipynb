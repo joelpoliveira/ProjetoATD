{
 "cells": [
  {
   "cell_type": "markdown",
   "metadata": {},
   "source": [
    "# Projeto ATD\n",
    "## 2ºsemestre 2020/2021\n",
    "### FCTUC - DEI\n",
    "### Membros:\n",
    "* Joel Oliveira - 2019227468\n",
    "* Tomás Mendes - 2019232272\n"
   ]
  },
  {
   "cell_type": "code",
   "execution_count": null,
   "metadata": {},
   "outputs": [],
   "source": [
    "import numpy as np\n",
    "from sympy import *\n",
    "import matplotlib.pyplot as plt\n",
    "import pandas as pd\n",
    "import math\n",
    "from scipy import signal\n",
    "import scipy as sy\n",
    "from numpy.fft import fft, fftshift\n",
    "import seaborn as sns\n",
    "import matplotlib\n",
    "\n",
    "#Colocar a False para gráficos claros (concordância com theme branco do jupyter)\n",
    "sns.set_style(\"whitegrid\")\n",
    "dark_background = False\n",
    "if dark_background:\n",
    "    sns.set_palette(\"Paired\")\n",
    "else:\n",
    "    sns.set_palette(\"deep\")"
   ]
  },
  {
   "cell_type": "markdown",
   "metadata": {},
   "source": [
    "### Ler dados do acelerómetro para variável\n",
    "##### userA_expB (Experiência B do Sujeito A)"
   ]
  },
  {
   "cell_type": "code",
   "execution_count": null,
   "metadata": {},
   "outputs": [],
   "source": [
    "user1_1 = pd.DataFrame(data = np.loadtxt(\"Datasets/acc_exp01_user01.txt\"), columns = ['X','Y','Z'])\n",
    "user1_2 = pd.DataFrame(data = np.loadtxt(\"Datasets/acc_exp02_user01.txt\"), columns = ['X','Y','Z'])\n",
    "user2_1 = pd.DataFrame(data = np.loadtxt(\"Datasets/acc_exp03_user02.txt\"), columns = ['X','Y','Z'])\n",
    "user2_2 = pd.DataFrame(data = np.loadtxt(\"Datasets/acc_exp04_user02.txt\"), columns = ['X','Y','Z'])\n",
    "user3_1 = pd.DataFrame(data = np.loadtxt(\"Datasets/acc_exp05_user03.txt\"), columns = ['X','Y','Z'])\n",
    "user3_2 = pd.DataFrame(data = np.loadtxt(\"Datasets/acc_exp06_user03.txt\"), columns = ['X','Y','Z'])\n",
    "user4_1 = pd.DataFrame(data = np.loadtxt(\"Datasets/acc_exp07_user04.txt\"), columns = ['X','Y','Z'])\n",
    "user4_2 = pd.DataFrame(data = np.loadtxt(\"Datasets/acc_exp08_user04.txt\"), columns = ['X','Y','Z'])"
   ]
  },
  {
   "cell_type": "markdown",
   "metadata": {},
   "source": [
    "#### Juntar à estrutura com os dados a informação do tempo em minutos de cada experiência"
   ]
  },
  {
   "cell_type": "code",
   "execution_count": null,
   "metadata": {},
   "outputs": [],
   "source": [
    "fs = 50 # Hz\n",
    "T = 1/fs # sec\n",
    "\n",
    "user1_1['Time (min)'] = np.arange(0, len(user1_1['X']) * T, T)/60\n",
    "user1_2['Time (min)'] = np.arange(0, len(user1_2['X']) * T, T)/60 \n",
    "user2_1['Time (min)'] = np.arange(0, len(user2_1['X']) * T, T)/60 \n",
    "user2_2['Time (min)'] = np.arange(0, len(user2_2['X']) * T, T)/60 \n",
    "user3_1['Time (min)'] = np.arange(0, len(user3_1['X']) * T, T)/60 \n",
    "user3_2['Time (min)'] = np.arange(0, len(user3_2['X']) * T, T)/60 \n",
    "user4_1['Time (min)'] = np.arange(0, len(user4_1['X']) * T, T)/60 \n",
    "user4_2['Time (min)'] = np.arange(0, len(user4_2['X']) * T, T)/60"
   ]
  },
  {
   "cell_type": "markdown",
   "metadata": {},
   "source": [
    "### Guardar os dados das experiências num ficheiro .dat, para ler mais tarde"
   ]
  },
  {
   "cell_type": "code",
   "execution_count": null,
   "metadata": {},
   "outputs": [],
   "source": [
    "users_exp = [user1_1, user1_2, user2_1, user2_2, user3_1, user3_2, user4_1, user4_2]\n",
    "pd.to_pickle(users_exp, \"users.dat\")"
   ]
  },
  {
   "cell_type": "markdown",
   "metadata": {},
   "source": [
    "### Verificação dos dados presentes no DataSet, através da função 'info()' das DataFrame da livraria Pandas.\n",
    "#### Esta função devolve informações sobre a informação presente na DataFrame. É devolvida uma string com a quantidade de valores presente não nula, a quantidade de valores presente com valor nulo e ainda o tipoda informação presente em cada coluna. \n",
    "#### Assim, é possível verificar que o DataSet está bastante completo, sem falhas de informação, e o tipo de dados existente nele. No caso dados do tipo float."
   ]
  },
  {
   "cell_type": "code",
   "execution_count": null,
   "metadata": {},
   "outputs": [],
   "source": [
    "for i in range(len(users_exp)):\n",
    "    print(\"//\" + \"_\"*9 + f\"Sujeito {i//2+1} Experiencia {i%2+1}\" + \"_\"*9 + \"\\\\\\\\\", end = '\\n\\n')\n",
    "    users_exp[i].info()\n",
    "    print(\"\\n\")\n",
    "    "
   ]
  },
  {
   "cell_type": "code",
   "execution_count": null,
   "metadata": {
    "scrolled": true
   },
   "outputs": [],
   "source": [
    "for i in range(len(users_exp)):\n",
    "    print(\"//\" + \"_\"*15 + f\"Sujeito {i//2+1} Experiencia {i%2+1}\" + \"_\"*15 + \"\\\\\\\\\", end='\\n\\n')\n",
    "    print(users_exp[i].describe())\n",
    "    print(\"\\n\")\n"
   ]
  },
  {
   "cell_type": "markdown",
   "metadata": {},
   "source": [
    "#### Leitura dos dados inseridos no ficheiro 'users.dat', anteriormente.\n",
    "##### Este ficheiro contém um array com as informações de cada experiência inseridas numa DataFrame"
   ]
  },
  {
   "cell_type": "code",
   "execution_count": null,
   "metadata": {},
   "outputs": [],
   "source": [
    "users_exp = pd.read_pickle(\"users.dat\")\n",
    "user1_1, user1_2, user2_1, user2_2, user3_1, user3_2, user4_1, user4_2 = users_exp"
   ]
  },
  {
   "cell_type": "markdown",
   "metadata": {},
   "source": [
    "### Atividades Dinâmicas:\n",
    "#### 1. WALKING\n",
    "#### 2. WALKING_UPSTAIRS\n",
    "#### 3. WALKING_DOWNSTAIRS\n",
    "\n",
    "### Atividades Estáticas:\n",
    "#### 1. SITTING\n",
    "#### 2. STANDING\n",
    "#### 3. LAYING\n",
    "\n",
    "### Atividades de Transição:\n",
    "#### 1. STAND_TO_SIT\n",
    "#### 2. SIT_TO_STAND\n",
    "#### 3. SIT_TO_LIE\n",
    "#### 4. LIE_TO_SIT\n",
    "#### 5. STAND_TO_LIE\n",
    "#### 6. LIE_TO_STAND"
   ]
  },
  {
   "cell_type": "markdown",
   "metadata": {},
   "source": [
    "#### Função para escrever manualmente as atividades nos plots"
   ]
  },
  {
   "cell_type": "code",
   "execution_count": null,
   "metadata": {},
   "outputs": [],
   "source": [
    "def plot_with_labels(upxvalues, downxvalues, up, down, user, index):\n",
    "    '''\n",
    "    Plots the X, Y, Z axis from the accelerometer\n",
    "            Parameters:\n",
    "                    upxvalues (list): ordenadas para impressão de up (labels a colocar em cima)\n",
    "                    downxvalues (list): ordenadas para impressão de down (labels a colocar em baixo)\n",
    "                    up (list): lista com as labels das atividades\n",
    "                    down (list): list com as labels das atividades\n",
    "                    user (pandas.dataFrame): dataFrame com os dados do user a imprimir.\n",
    "                    index (int): numero da experiência, de modo a imprimir o Numero do Sujeito, bem como da sua experiência\n",
    "    '''\n",
    "    figure, subplots = plt.subplots(nrows=3, ncols=1, figsize=(20,8), facecolor = 'black' if dark_background else 'white')\n",
    "    figure.suptitle(f\"Valores Obtidos Pelo Acelerómetro na Experiência {index%2+1} do Sujeito {index//2+1}\", fontsize = 'xx-large', c='white' if dark_background else 'black')\n",
    "    \n",
    "    if dark_background:\n",
    "        subplots[0].set_facecolor('k')\n",
    "        subplots[1].set_facecolor('k')\n",
    "        subplots[2].set_facecolor('k')\n",
    "    #X\n",
    "    subplots[0].plot( user['Time (min)'], user['X'], lw = 0.3)\n",
    "    subplots[0].set_xlabel(\"Time (min)\", c = 'white' if dark_background else 'black')\n",
    "    subplots[0].set_ylabel(\"ACC_X\", c = 'white' if dark_background else 'black')\n",
    "    subplots[0].set_xlim(0, max(user['Time (min)']))\n",
    "    \n",
    "    subplots[0].tick_params(axis='x', colors='white' if dark_background else 'black')\n",
    "    subplots[0].tick_params(axis='y', colors='white' if dark_background else 'black')\n",
    "    \n",
    "    #Y\n",
    "    subplots[1].plot( user['Time (min)'], user['Y'], lw = 0.3)\n",
    "    subplots[1].set_xlabel(\"Time (min)\", c = 'white' if dark_background else 'black')\n",
    "    subplots[1].set_ylabel(\"ACC_Y\", c = 'white' if dark_background else 'black')\n",
    "    subplots[1].set_xlim(0, max(user['Time (min)']))\n",
    "    \n",
    "    subplots[1].tick_params(axis='x', colors='white' if dark_background else 'black')\n",
    "    subplots[1].tick_params(axis='y', colors='white' if dark_background else 'black')\n",
    "    \n",
    "    #Z\n",
    "    subplots[2].plot( user['Time (min)'], user['Z'], lw = 0.3)\n",
    "    subplots[2].set_xlabel(\"Time (min)\", c = 'white' if dark_background else 'black')\n",
    "    subplots[2].set_ylabel(\"ACC_Z\", c = 'white' if dark_background else 'black')\n",
    "    subplots[2].set_xlim(0, max(user['Time (min)']))\n",
    "    \n",
    "    subplots[2].tick_params(axis='x', colors='white' if dark_background else 'black')\n",
    "    subplots[2].tick_params(axis='y', colors='white' if dark_background else 'black')\n",
    "    \n",
    "    xmin,xmax = subplots[0].get_xlim()\n",
    "    \n",
    "    for i in range(len(upxvalues)):\n",
    "        yv = 0.95 if i % 2 == 0 else 0.90\n",
    "        frase = up[i]\n",
    "        xv = upxvalues[i]/xmax\n",
    "        \n",
    "        subplots[0].annotate(xycoords = 'axes fraction', text = frase, xy = (xv,yv), textcoords = subplots[0].transAxes, xytext = (xv,yv), fontweight='bold', c = 'white' if dark_background else 'black')\n",
    "        subplots[1].annotate(xycoords = 'axes fraction', text = frase, xy = (xv,yv), textcoords = subplots[1].transAxes, xytext = (xv,yv), fontweight='bold', c = 'white' if dark_background else 'black')\n",
    "        subplots[2].annotate(xycoords = 'axes fraction', text = frase, xy = (xv,yv), textcoords = subplots[2].transAxes, xytext = (xv,yv), fontweight='bold', c = 'white' if dark_background else 'black')\n",
    "        \n",
    "    yv = 0.01 \n",
    "    for i in range(len(downxvalues)):\n",
    "        frase = down[i]\n",
    "        xv = downxvalues[i]/xmax\n",
    "        \n",
    "        subplots[0].annotate(xycoords = 'axes fraction', text = frase, xy = (xv,yv), textcoords = subplots[0].transAxes, xytext = (xv,yv), fontweight='bold', c = 'white' if dark_background else 'black')\n",
    "        subplots[1].annotate(xycoords = 'axes fraction', text = frase, xy = (xv,yv), textcoords = subplots[1].transAxes, xytext = (xv,yv), fontweight='bold', c = 'white' if dark_background else 'black')\n",
    "        subplots[2].annotate(xycoords = 'axes fraction', text = frase, xy = (xv,yv), textcoords = subplots[2].transAxes, xytext =(xv,yv), fontweight='bold', c = 'white' if dark_background else 'black')\n",
    "    figure.tight_layout()"
   ]
  },
  {
   "cell_type": "markdown",
   "metadata": {},
   "source": [
    "## Visualização das atividades para todas as experiências do nosso dataset"
   ]
  },
  {
   "cell_type": "code",
   "execution_count": null,
   "metadata": {},
   "outputs": [],
   "source": [
    "downintervals = [0.08, 0.44, 0.78,  1.2, 1.6, 1.9, 2.5,  3.2, 4.4, 5, 5.6]\n",
    "upintervals = [0.39, 0.7, 1.1, 1.5, 1.9, 2.1, 2.8, 3.55, 4.7, 5.25, 5.8  ]\n",
    "\n",
    "downlabels = ['STAND', 'SIT', 'STAND','LAY', 'SIT', 'LAY', 'W', 'W','W_D', 'W_D', 'W_D']\n",
    "uplabels = ['STAND_SIT', 'SIT_STAND', 'STAND_LIE', 'LIE_SIT', 'SIT_LIE', 'LIE_STAND', 'W', 'W', 'W_U', 'W_U', 'W_U' ]\n",
    "\n",
    "plot_with_labels(upintervals, downintervals, uplabels, downlabels, user1_1, 0)"
   ]
  },
  {
   "cell_type": "code",
   "execution_count": null,
   "metadata": {},
   "outputs": [],
   "source": [
    "downintervals = [ 0.08, 0.45, 0.75, 1.3, 1.55, 1.95, 2.5, 3.4, 4.4, 5, 5.6]\n",
    "upintervals = [ 0.40, 0.7, 1.15, 1.5, 1.8, 2.1, 2.9, 3.8, 4.75, 5.3, 5.9 ]\n",
    "\n",
    "downlabels = [ 'STAND', \"SIT\", \"STAND\", \"LAY\", \"SIT\", \"LAY\", \"W\", \"W\", \"W_D\", \"W_D\", \"W_D\" ]\n",
    "uplabels = [ \"STAND_SIT\", \"SIT_STAND\", \"STAND_LIE\", \"LIE_SIT\", \"SIT_LIE\", \"LIE_STAND\", \"W\", \"W\", \"W_U\", \"W_U\", \"W_U\" ]\n",
    "\n",
    "plot_with_labels(upintervals, downintervals, uplabels, downlabels,user1_2, 1)"
   ]
  },
  {
   "cell_type": "code",
   "execution_count": null,
   "metadata": {},
   "outputs": [],
   "source": [
    "downintervals = [ 0.12, 0.6, 1, 1.5, 1.85, 2.2, 2.5, 3.4, 4.25, 4.9, 5.4 ]\n",
    "upintervals = [ 0.45, 0.87, 1.3, 1.6, 2.05, 2.5, 2.9, 3.95, 4.6, 5.15 ]\n",
    "\n",
    "downlabels = [ \"STAND\", \"SIT\", \"STAND\", \"LAY\", \"SIT\", \"LIE\", \"W\", \"W\", \"W_U\", \"W_U\", \"W_U\"]\n",
    "uplabels = [ \"STAND_SIT\", \"SIT_STAND\", \"STAND_LIE\", \"LIE_SIT\", \"SIT_LIE\", \"LIE_STAND\", \"W\", \"W_D\", \"W_D\", \"W_D\"]\n",
    "\n",
    "plot_with_labels(upintervals, downintervals, uplabels, downlabels, user2_1, 2)"
   ]
  },
  {
   "cell_type": "code",
   "execution_count": null,
   "metadata": {},
   "outputs": [],
   "source": [
    "downintervals = [ 0.2, 0.6, 0.8, 1.2, 1.5, 1.9, 2.3, 2.95, 3.8, 4.4, 4.9 ]\n",
    "upintervals = [ 0.4, 0.7, 1.1, 1.4, 1.7, 2.05, 2.6, 3.5, 4.1, 4.65 ]\n",
    "\n",
    "downlabels = [ \"STAND\", \"SIT\", \"STAND\", \"LAY\", \"SIT\", \"LIE\", \"W\", \"W\", \"W_U\", \"W_U\", \"W_U\" ]\n",
    "uplabels = [ \"STAND_SIT\",  \"SIT_STAND\", \"STAND_LIE\", \"LIE_SIT\", \"SIT_LIE\", \"LIE_STAND\", \"W\", \"W_D\", \"W_D\", \"W_D\" ]\n",
    "\n",
    "plot_with_labels(upintervals, downintervals, uplabels, downlabels, user2_2, 3)"
   ]
  },
  {
   "cell_type": "code",
   "execution_count": null,
   "metadata": {},
   "outputs": [],
   "source": [
    "downintervals = [ 0.1, 0.55, 0.9, 1.3, 1.7, 2.2, 2.6, 3.6, 4.7, 5.3, 6, 6.6]\n",
    "upintervals = [ 0.45, 0.7, 1.1, 1.6, 1.95, 2.3, 3, 4.3, 5.05, 5.7, 6.3 ]\n",
    "\n",
    "downlabels = [ \"STAND\", \"SIT\", \"STAND\", \"LAY\", \"SIT\", \"LAY\", \"W\", \"W\", \"W_U\", \"W_U\", \"W_U\", \"W_U\"]\n",
    "uplabels = [ \"STAND_SIT\", \"SIT_STAND\", \"STAND_LIE\", \"LIE_SIT\", \"SIT_LIE\", \"LIE_STAND\", \"W\", \"W_D\", \"W_D\", \"W_D\", \"W_D\" ]\n",
    "plot_with_labels(upintervals, downintervals, uplabels, downlabels, user3_1, 4)"
   ]
  },
  {
   "cell_type": "code",
   "execution_count": null,
   "metadata": {},
   "outputs": [],
   "source": [
    "downintervals = [ 0.2, 0.7, 1, 1.5, 1.9, 2.3, 2.6, 3.5, 4.3, 4.9, 5.45 ]\n",
    "upintervals = [ 0.6, 0.8, 1.3, 1.7, 2.1, 2.5, 3, 4, 4.6, 5.2 ]\n",
    "\n",
    "downlabels = [ \"STAND\", \"SIT\", \"STAND\", \"LAY\", \"SIT\", \"LAY\", \"W\", \"W\", \"W_U\", \"W_U\", \"W_U\", \"W_U\"]\n",
    "uplabels = [ \"STAND_SIT\", \"SIT_STAND\", \"STAND_LIE\", \"LIE_SIT\", \"SIT_LIE\", \"LIE_STAND\", \"W\", \"W_D\", \"W_D\", \"W_D\", \"W_D\" ]\n",
    "\n",
    "plot_with_labels(upintervals, downintervals, uplabels, downlabels, user3_2, 5)"
   ]
  },
  {
   "cell_type": "code",
   "execution_count": null,
   "metadata": {},
   "outputs": [],
   "source": [
    "downintervals = [ 0.15, 0.6, 0.9, 1.3, 1.7, 2.1, 2.45, 3.3, 4.3, 4.9, 5.45 ]\n",
    "upintervals = [ 0.4, 0.7, 1.1, 1.6, 1.9, 2.3, 2.9, 3.8, 4.6, 5.2 ]\n",
    "\n",
    "downlabels = [ \"STAND\", \"SIT\", \"STAND\", \"LAY\", \"STAND\", \"LAY\", \"W\", \"W\", \"W_U\", \"W_U\", \"W_U\", \"W_U\"]\n",
    "uplabels = [ \"STAND_SIT\", \"SIT_STAND\", \"STAND_LIE\", \"LIE_STAND\", \"STAND_LIE\", \"LIE_STAND\", \"W\", \"W_D\", \"W_D\", \"W_D\", \"W_D\" ]\n",
    "\n",
    "plot_with_labels(upintervals, downintervals, uplabels, downlabels, user4_1, 6)"
   ]
  },
  {
   "cell_type": "code",
   "execution_count": null,
   "metadata": {},
   "outputs": [],
   "source": [
    "downintervals = [ 0.15, 0.6, 0.9, 1.3, 1.6, 2, 2.4, 3.1, 3.9, 4.4, 4.9 ]\n",
    "upintervals = [ 0.4, 0.7, 1.1, 1.6, 1.9, 2.2, 2.7, 3.6, 4.2, 4.6 ]\n",
    "\n",
    "downlabels = [\"STAND\", \"SIT\", \"STAND\", \"LAY\", \"STAND\", \"LAY\", \"W\", \"W\", \"W_U\", \"W_U\", \"W_U\", \"W_U\"]\n",
    "uplabels = [  \"STAND_SIT\", \"SIT_STAND\", \"STAND_LIE\", \"LIE_STAND\", \"STAND_LIE\", \"LIE_STAND\", \"W\", \"W_D\", \"W_D\", \"W_D\", \"W_D\"  ]\n",
    "\n",
    "plot_with_labels(upintervals, downintervals, uplabels, downlabels, user4_2, 7)"
   ]
  },
  {
   "cell_type": "markdown",
   "metadata": {},
   "source": [
    "## cenas do 3"
   ]
  },
  {
   "cell_type": "code",
   "execution_count": null,
   "metadata": {},
   "outputs": [],
   "source": [
    "#uma segmentação das informações do user, num intervalo [*xi*, *xf*[\n",
    "def ufrag(user, ni, nf):\n",
    "    return user.iloc[ni:nf].reset_index().drop(\"index\", axis = 1)"
   ]
  },
  {
   "cell_type": "code",
   "execution_count": null,
   "metadata": {},
   "outputs": [],
   "source": [
    "### Dá plot às informações dos 3 eixos de uma fragmentação do utilizador nos subplots *subplots*, com a cor *c*\n",
    "## Para ajudar a análise também dá plot a uma linha com a média dos valores, bem como da média +/- 3* desvio padrão\n",
    "def plot_walk(subplots, user, c, windowed):\n",
    "    # subplots -- array com 3 subplots\n",
    "    # c -- string com a cor\n",
    "    # user -- DataFrame com o user\n",
    "    if windowed:\n",
    "        window = np.hanning(len(user['X']))\n",
    "    else:\n",
    "        window = np.ones((len(user)))\n",
    "        \n",
    "    xmean = user['X'].mean()\n",
    "    xstd = user['X'].std()\n",
    "    user = user.copy()\n",
    "    user['X']*=window\n",
    "    user.plot( x = 'Time (min)', y = 'X', ax = subplots[0], color = c )\n",
    "    subplots[0].plot( user['Time (min)'], np.full( (len(user['X']), ), xmean ), 'k:')\n",
    "    subplots[0].plot( user['Time (min)'], np.full( (len(user['X']), ), xmean + 3*xstd ), 'r--')\n",
    "    subplots[0].plot( user['Time (min)'], np.full( (len(user['X']), ), xmean - 3*xstd ), 'r--')\n",
    "    subplots[0].set_xlabel(\"Time (min)\", c = 'white' if dark_background else 'black')\n",
    "    subplots[0].set_ylabel(\"ACC_X\", c = 'white' if dark_background else 'black')\n",
    "    subplots[0].tick_params(axis='x', colors='white' if dark_background else 'black')\n",
    "    subplots[0].tick_params(axis='y', colors='white' if dark_background else 'black')\n",
    "    \n",
    "    ymean = user['Y'].mean()\n",
    "    ystd = user['Y'].std()\n",
    "    user['Y']*=window\n",
    "    user.plot( x = 'Time (min)', y = 'Y', ax = subplots[1], color = c )\n",
    "    subplots[1].plot( user['Time (min)'], np.full( (len(user['Y']), ), ymean ), 'k:')\n",
    "    subplots[1].plot( user['Time (min)'], np.full( (len(user['Y']), ), ymean + 3*ystd ), 'r--')\n",
    "    subplots[1].plot( user['Time (min)'], np.full( (len(user['Y']), ), ymean - 3*ystd ), 'r--')\n",
    "    subplots[1].set_xlabel(\"Time (min)\", c = 'white' if dark_background else 'black')\n",
    "    subplots[1].set_ylabel(\"ACC_Y\", c = 'white' if dark_background else 'black')\n",
    "    subplots[1].tick_params(axis='x', colors='white' if dark_background else 'black')\n",
    "    subplots[1].tick_params(axis='y', colors='white' if dark_background else 'black')\n",
    "    \n",
    "    zmean = user['Z'].mean()\n",
    "    zstd = user['Z'].std()\n",
    "    user['Z']*=window\n",
    "    user.plot( x = 'Time (min)', y = 'Z', ax = subplots[2], color = c )\n",
    "    subplots[2].plot( user['Time (min)'], np.full( (len(user['Z']), ), zmean ), 'k:')\n",
    "    subplots[2].plot( user['Time (min)'], np.full( (len(user['Z']), ), zmean + 3*zstd ), 'r--')\n",
    "    subplots[2].plot( user['Time (min)'], np.full( (len(user['Z']), ), zmean - 3*zstd ), 'r--')\n",
    "    subplots[2].set_xlabel(\"Time (min)\", c = 'white' if dark_background else 'black')\n",
    "    subplots[2].set_ylabel(\"ACC_Z\", c = 'white' if dark_background else 'black')\n",
    "    subplots[2].tick_params(axis='x', colors='white' if dark_background else 'black')\n",
    "    subplots[2].tick_params(axis='y', colors='white' if dark_background else 'black')"
   ]
  },
  {
   "cell_type": "code",
   "execution_count": null,
   "metadata": {},
   "outputs": [],
   "source": [
    "### Dá plot às informações nos eixos das fragmentações do utilizador\n",
    "def plot_user_activity(user_walks, title, windowed):\n",
    "    # user_walks -- array com as fragmentações dos dados do utilizador // não deve exceder 4 fragmentações.\n",
    "    figure, subplots = plt.subplots(nrows = 6 if len(user_walks) > 2 else 3, ncols= 2, figsize = (15,10), facecolor = 'black' if dark_background else 'white')\n",
    "    colors = ['royalblue', 'maroon', 'darkorange', 'olive']\n",
    "    \n",
    "    if dark_background:\n",
    "        for i in range(6 if len(user_walks) > 2 else 3):\n",
    "            for j in range(2):\n",
    "                subplots[i,j].set_facecolor('k')\n",
    "    \n",
    "    for i in range(len(user_walks)):\n",
    "        if i < 2:\n",
    "            plot_walk(subplots[:3,i], user_walks[i], colors[i], windowed )\n",
    "            subplots[0,i].set_title(f\"{title} {i+1}\", color = 'white' if dark_background else 'black')\n",
    "        else:\n",
    "            plot_walk(subplots[3:,i-2], user_walks[i], colors[i], windowed )\n",
    "            subplots[3,i-2].set_title(f\"{title} {i+1}\", color = 'white' if dark_background else 'black')\n",
    "    figure.tight_layout()"
   ]
  },
  {
   "cell_type": "code",
   "execution_count": null,
   "metadata": {},
   "outputs": [],
   "source": [
    "def set_between_std(user):\n",
    "    xmean = user['X'].mean()\n",
    "    xstd = user['X'].std()\n",
    "    user['X'] = user['X'].map(lambda x: (xmean + 2*xstd) if (x > xmean + 3*xstd) \n",
    "                              else ( (xmean - 2*xstd) if (x < xmean - 3*xstd) \n",
    "                                    else x ) )\n",
    "    \n",
    "    ymean = user['Y'].mean()\n",
    "    ystd = user['Y'].std()\n",
    "    user['Y'] = user['Y'].map(lambda x: (ymean + 2*ystd) if (x > ymean + 3*ystd) \n",
    "                              else ( (ymean - 2*ystd) if (x < ymean - 3*ystd) \n",
    "                                    else x ) )\n",
    "    \n",
    "    zmean = user['Z'].mean()\n",
    "    zstd = user['Z'].std()\n",
    "    user['Z'] = user['Z'].map(lambda x: (zmean + 2*zstd) if (x > zmean + 3*zstd) \n",
    "                              else ( (zmean - 2*zstd) if (x < zmean - 3*zstd) \n",
    "                                    else x ) )"
   ]
  },
  {
   "cell_type": "code",
   "execution_count": null,
   "metadata": {},
   "outputs": [],
   "source": [
    "def detrend_user_walk(user):\n",
    "    new = user.copy()\n",
    "    new['X'] = signal.detrend(user['X'])\n",
    "    new['Y'] = signal.detrend(user['Y'])\n",
    "    new['Z'] = signal.detrend(user['Z'])\n",
    "    return new"
   ]
  },
  {
   "cell_type": "markdown",
   "metadata": {},
   "source": [
    "## Fragmentação da atividade dinâmica WALKING\n",
    "### Primeiro Seccionar os intervalos da realização da atividade, de modo a poder operar apenas sobre eles"
   ]
  },
  {
   "cell_type": "markdown",
   "metadata": {},
   "source": [
    "### AVALIAR A PRIMEIRA EXPERIÊNCIA DO PRIMEIRO VOLUNTÁRIO"
   ]
  },
  {
   "cell_type": "code",
   "execution_count": null,
   "metadata": {},
   "outputs": [],
   "source": [
    "unow = user1_1\n",
    "walks_user1_1 = [ ufrag(unow, 14069, 14699), ufrag(unow, 15712, 16377), ufrag(unow, 17298, 17970) ]\n",
    "walks_user1_1_detrended = []\n",
    "for i in walks_user1_1:\n",
    "    walks_user1_1_detrended.append( detrend_user_walk(i) )\n",
    "plot_user_activity(walks_user1_1_detrended, 'WALK', False)"
   ]
  },
  {
   "cell_type": "markdown",
   "metadata": {},
   "source": [
    "# Fragmentação de Atividades Dinâmicas"
   ]
  },
  {
   "cell_type": "markdown",
   "metadata": {},
   "source": [
    "## Fragmentação em Intervalos: WALKING"
   ]
  },
  {
   "cell_type": "code",
   "execution_count": null,
   "metadata": {},
   "outputs": [],
   "source": [
    "unow = user1_1\n",
    "walks_user1_1 = [ ufrag(unow, 7496, 8078), ufrag(unow, 8356, 9250), ufrag(unow, 9657, 10567), ufrag(unow, 10750, 11714)]\n",
    "\n",
    "unow = user1_2\n",
    "walks_user1_2 = [  ufrag(unow, 7624, 8252), ufrag(unow, 8618, 9576), ufrag(unow, 9991, 10927), ufrag(unow, 11311, 12282)]\n",
    "\n",
    "unow = user2_1\n",
    "walks_user2_1 = [ ufrag(unow, 8434, 9501), ufrag(unow, 9854, 10926)] \n",
    "\n",
    "unow = user2_2\n",
    "walks_user2_2 = [ ufrag(unow, 7306, 8343), ufrag(unow, 8720, 9686) ]\n",
    "\n",
    "unow = user3_1\n",
    "walks_user3_1 = [ ufrag(unow, 8687, 9837), ufrag(unow, 10240, 11305) ]\n",
    "\n",
    "unow = user3_2\n",
    "walks_user3_2 = [ ufrag(unow, 8700, 9666), ufrag(unow, 10005, 10940) ]\n",
    "\n",
    "unow = user4_1\n",
    "walks_user4_1 = [ ufrag(unow, 8125, 9269), ufrag(unow, 9443, 10483) ]\n",
    "\n",
    "unow = user4_2\n",
    "walks_user4_2 = [ ufrag(unow, 7873, 8907), ufrag(unow, 9045, 10016) ]\n",
    "\n",
    "walks_user1_1_detrended = []\n",
    "for i in walks_user1_1:\n",
    "    walks_user1_1_detrended.append( detrend_user_walk(i) )\n",
    "    \n",
    "walks_user1_2_detrended = []\n",
    "for i in walks_user1_2:\n",
    "    walks_user1_2_detrended.append( detrend_user_walk(i) )\n",
    "    \n",
    "walks_user2_1_detrended = []\n",
    "for i in walks_user2_1:\n",
    "    walks_user2_1_detrended.append( detrend_user_walk(i) )\n",
    "    \n",
    "walks_user2_2_detrended = []\n",
    "for i in walks_user2_2:\n",
    "    walks_user2_2_detrended.append( detrend_user_walk(i) )\n",
    "    \n",
    "walks_user3_1_detrended = []\n",
    "for i in walks_user3_1:\n",
    "    walks_user3_1_detrended.append( detrend_user_walk(i) )\n",
    "\n",
    "walks_user3_2_detrended = []\n",
    "for i in walks_user3_2:\n",
    "    walks_user3_2_detrended.append( detrend_user_walk(i) )\n",
    "\n",
    "walks_user4_1_detrended = []\n",
    "for i in walks_user4_1:\n",
    "    walks_user4_1_detrended.append( detrend_user_walk(i) )\n",
    "    \n",
    "walks_user4_2_detrended = []\n",
    "for i in walks_user4_2:\n",
    "    walks_user4_2_detrended.append( detrend_user_walk(i) )\n"
   ]
  },
  {
   "cell_type": "markdown",
   "metadata": {},
   "source": [
    "## Fragmentação de Intervalos: WALKING UPSTAIRS"
   ]
  },
  {
   "cell_type": "code",
   "execution_count": null,
   "metadata": {},
   "outputs": [],
   "source": [
    "unow = user1_1\n",
    "walks_up_user1_1 = [ ufrag(unow, 14069, 14699), ufrag(unow, 15712, 16377), ufrag(unow, 17298, 17970) ]\n",
    "\n",
    "unow = user1_2\n",
    "walks_up_user1_2 = [  ufrag(unow, 14128, 14783), ufrag(unow, 15920, 16598), ufrag(unow, 17725, 18425)]\n",
    "\n",
    "unow = user2_1\n",
    "walks_up_user2_1 = [ ufrag(unow, 12631, 13306), ufrag(unow, 14528, 15166), ufrag(unow, 16259, 16870) ]\n",
    "\n",
    "unow = user2_2\n",
    "walks_up_user2_2 = [ ufrag(unow, 11294, 11928), ufrag(unow, 12986, 13602), ufrag(unow, 14705, 15274) ]\n",
    "\n",
    "unow = user3_1\n",
    "walks_up_user3_1 = [ ufrag(unow, 14018, 14694), ufrag(unow, 15985, 16611), ufrag(unow, 17811, 18477), ufrag(unow, 19536, 20152) ]\n",
    "\n",
    "unow = user3_2\n",
    "walks_up_user3_2 = [ ufrag(unow, 12703, 13384), ufrag(unow, 14587, 15213), ufrag(unow, 16146, 16779) ]\n",
    "\n",
    "unow = user4_1\n",
    "walks_up_user4_1 = [ ufrag(unow, 12653, 13437), ufrag(unow, 14548, 15230), ufrag(unow, 16178, 16814) ]\n",
    "\n",
    "unow = user4_2\n",
    "walks_up_user4_2 = [ ufrag(unow, 11392, 11991), ufrag(unow, 12939, 13565), ufrag(unow, 14391, 15007) ]\n",
    "\n",
    "walks_up_user1_1_detrended = []\n",
    "for i in walks_up_user1_1:\n",
    "    walks_up_user1_1_detrended.append( detrend_user_walk(i) )\n",
    "    \n",
    "walks_up_user1_2_detrended = []\n",
    "for i in walks_up_user1_2:\n",
    "    walks_up_user1_2_detrended.append( detrend_user_walk(i) )\n",
    "    \n",
    "walks_up_user2_1_detrended = []\n",
    "for i in walks_up_user2_1:\n",
    "    walks_up_user2_1_detrended.append( detrend_user_walk(i) )\n",
    "    \n",
    "walks_up_user2_2_detrended = []\n",
    "for i in walks_up_user2_2:\n",
    "    walks_up_user2_2_detrended.append( detrend_user_walk(i) )\n",
    "    \n",
    "walks_up_user3_1_detrended = []\n",
    "for i in walks_up_user3_1:\n",
    "    walks_up_user3_1_detrended.append( detrend_user_walk(i) )\n",
    "\n",
    "walks_up_user3_2_detrended = []\n",
    "for i in walks_up_user3_2:\n",
    "    walks_up_user3_2_detrended.append( detrend_user_walk(i) )\n",
    "\n",
    "walks_up_user4_1_detrended = []\n",
    "for i in walks_up_user4_1:\n",
    "    walks_up_user4_1_detrended.append( detrend_user_walk(i) )\n",
    "    \n",
    "walks_up_user4_2_detrended = []\n",
    "for i in walks_up_user4_2:\n",
    "    walks_up_user4_2_detrended.append( detrend_user_walk(i) )"
   ]
  },
  {
   "cell_type": "markdown",
   "metadata": {},
   "source": [
    "## Fragmentação em Intervalos: WALKING DOWNSTAIRS"
   ]
  },
  {
   "cell_type": "code",
   "execution_count": null,
   "metadata": {},
   "outputs": [],
   "source": [
    "unow = user1_1\n",
    "walks_down_user1_1 = [ ufrag(unow, 13191, 13846), ufrag(unow, 14869, 15492), ufrag(unow, 16530, 17153) ]\n",
    "\n",
    "unow = user1_2\n",
    "walks_down_user1_2 = [  ufrag(unow, 13129, 13379), ufrag(unow, 13495, 13927), ufrag(unow, 15037, 15684), ufrag(unow, 16847, 17471)]\n",
    "\n",
    "unow = user2_1\n",
    "walks_down_user2_1 = [ ufrag(unow, 11704, 12390), ufrag(unow, 13649, 14244), ufrag(unow, 15477, 16002) ]\n",
    "\n",
    "unow = user2_2\n",
    "walks_down_user2_2 = [ ufrag(unow, 10438, 11056), ufrag(unow, 12171, 12732), ufrag(unow, 13862, 14444) ]\n",
    "\n",
    "unow = user3_1\n",
    "walks_down_user3_1 = [ ufrag(unow, 15098, 15693), ufrag(unow, 16964, 17559), ufrag(unow, 18810, 19325) ]\n",
    "\n",
    "unow = user3_2\n",
    "walks_down_user3_2 = [ ufrag(unow, 11720, 12410), ufrag(unow, 13660, 14332), ufrag(unow, 15375, 15972) ]\n",
    "\n",
    "unow = user4_1\n",
    "walks_down_user4_1 = [ ufrag(unow, 11340, 11596), ufrag(unow, 11824, 12047), ufrag(unow, 13625, 14341), ufrag(unow, 15391, 16025) ]\n",
    "\n",
    "unow = user4_2\n",
    "walks_down_user4_2 = [ ufrag(unow, 10629, 11231), ufrag(unow, 12205, 12762), ufrag(unow, 13729, 14283) ]\n",
    "\n",
    "walks_down_user1_1_detrended = []\n",
    "for i in walks_down_user1_1:\n",
    "    walks_down_user1_1_detrended.append( detrend_user_walk(i) )\n",
    "    \n",
    "walks_down_user1_2_detrended = []\n",
    "for i in walks_down_user1_2:\n",
    "    walks_down_user1_2_detrended.append( detrend_user_walk(i) )\n",
    "    \n",
    "walks_down_user2_1_detrended = []\n",
    "for i in walks_down_user2_1:\n",
    "    walks_down_user2_1_detrended.append( detrend_user_walk(i) )\n",
    "    \n",
    "walks_down_user2_2_detrended = []\n",
    "for i in walks_down_user2_2:\n",
    "    walks_down_user2_2_detrended.append( detrend_user_walk(i) )\n",
    "    \n",
    "walks_down_user3_1_detrended = []\n",
    "for i in walks_down_user3_1:\n",
    "    walks_down_user3_1_detrended.append( detrend_user_walk(i) )\n",
    "\n",
    "walks_down_user3_2_detrended = []\n",
    "for i in walks_down_user3_2:\n",
    "    walks_down_user3_2_detrended.append( detrend_user_walk(i) )\n",
    "\n",
    "walks_down_user4_1_detrended = []\n",
    "for i in walks_down_user4_1:\n",
    "    walks_down_user4_1_detrended.append( detrend_user_walk(i) )\n",
    "    \n",
    "walks_down_user4_2_detrended = []\n",
    "for i in walks_down_user4_2:\n",
    "    walks_down_user4_2_detrended.append( detrend_user_walk(i) )"
   ]
  },
  {
   "cell_type": "markdown",
   "metadata": {},
   "source": [
    "# Fragmentação de Atividades Estacionárias"
   ]
  },
  {
   "cell_type": "markdown",
   "metadata": {},
   "source": [
    "## Fragmentação em Intervalos: STAND"
   ]
  },
  {
   "cell_type": "code",
   "execution_count": null,
   "metadata": {},
   "outputs": [],
   "source": [
    "unow = user1_1\n",
    "stand_user1_1 = [ ufrag(unow, 250, 1232), ufrag(unow, 2360, 3374) ]\n",
    "\n",
    "unow = user1_2\n",
    "stand_user1_2 = [ ufrag(unow, 251, 1226), ufrag(unow, 2378, 3304) ]\n",
    "\n",
    "unow = user2_1\n",
    "stand_user2_1 = [ ufrag(unow, 298, 1398), ufrag(unow, 2770, 3904) ]\n",
    "\n",
    "unow = user2_2\n",
    "stand_user2_2 = [ ufrag(unow, 524, 1351), ufrag(unow, 2449, 3337)]\n",
    "\n",
    "unow = user3_1\n",
    "stand_user3_1 = [ ufrag(unow, 243, 1364), ufrag(unow, 2471, 3618)]\n",
    "\n",
    "unow = user3_2\n",
    "stand_user3_2 = [ ufrag(unow, 482, 1493), ufrag(unow, 2699, 3873)]\n",
    "\n",
    "unow = user4_1\n",
    "stand_user4_1 = [ ufrag(unow, 198, 1291), ufrag(unow, 2512, 3416) ]\n",
    "\n",
    "unow = user4_2\n",
    "stand_user4_2 = [ ufrag(unow, 230, 1292), ufrag(unow, 2574, 3438) ]\n",
    "\n",
    "stand_user1_1_detrended = []\n",
    "for i in stand_user1_1:\n",
    "    stand_user1_1_detrended.append( detrend_user_walk(i) )\n",
    "    \n",
    "stand_user1_2_detrended = []\n",
    "for i in stand_user1_2:\n",
    "    stand_user1_2_detrended.append( detrend_user_walk(i) )\n",
    "    \n",
    "stand_user2_1_detrended = []\n",
    "for i in stand_user2_1:\n",
    "    stand_user2_1_detrended.append( detrend_user_walk(i) )\n",
    "    \n",
    "stand_user2_2_detrended = []\n",
    "for i in stand_user2_2:\n",
    "    stand_user2_2_detrended.append( detrend_user_walk(i) )\n",
    "    \n",
    "stand_user3_1_detrended = []\n",
    "for i in stand_user3_1:\n",
    "    stand_user3_1_detrended.append( detrend_user_walk(i) )\n",
    "\n",
    "stand_user3_2_detrended = []\n",
    "for i in stand_user3_2:\n",
    "    stand_user3_2_detrended.append( detrend_user_walk(i) )\n",
    "\n",
    "stand_user4_1_detrended = []\n",
    "for i in stand_user4_1:\n",
    "    stand_user4_1_detrended.append( detrend_user_walk(i) )\n",
    "    \n",
    "stand_user4_2_detrended = []\n",
    "for i in stand_user4_2:\n",
    "    stand_user4_2_detrended.append( detrend_user_walk(i) )"
   ]
  },
  {
   "cell_type": "markdown",
   "metadata": {},
   "source": [
    "## Fragmentação em Intervalos: SIT"
   ]
  },
  {
   "cell_type": "code",
   "execution_count": null,
   "metadata": {},
   "outputs": [],
   "source": [
    "unow = user1_1\n",
    "sit_user1_1 = [ ufrag(unow, 1393, 2194), ufrag(unow, 4736, 5667) ]\n",
    "\n",
    "unow = user1_2\n",
    "sit_user1_2 = [ ufrag(unow, 1433, 2221), ufrag(unow, 4620, 5452) ]\n",
    "\n",
    "unow = user2_1\n",
    "sit_user2_1 = [ ufrag(unow, 1686, 2627), ufrag(unow, 5418, 6190) ]\n",
    "\n",
    "unow = user2_2\n",
    "sit_user2_2 = [ ufrag(unow, 1512, 2309), ufrag(unow, 4491, 5301)]\n",
    "\n",
    "unow = user3_1\n",
    "sit_user3_1 = [ ufrag(unow, 1507, 2360), ufrag(unow, 5075, 6059)]\n",
    "\n",
    "unow = user3_2\n",
    "sit_user3_2 = [ ufrag(unow, 1684, 2515), ufrag(unow, 5409, 6410)]\n",
    "\n",
    "unow = user4_1\n",
    "sit_user4_1 = [ ufrag(unow, 1528, 2381), ufrag(unow, 5032, 5896) ]\n",
    "\n",
    "unow = user4_2\n",
    "sit_user4_2 = [ ufrag(unow, 1471, 2430), ufrag(unow, 4785, 5600) ]\n",
    "\n",
    "sit_user1_1_detrended = []\n",
    "for i in sit_user1_1:\n",
    "    sit_user1_1_detrended.append( detrend_user_walk(i) )\n",
    "    \n",
    "sit_user1_2_detrended = []\n",
    "for i in sit_user1_2:\n",
    "    sit_user1_2_detrended.append( detrend_user_walk(i) )\n",
    "    \n",
    "sit_user2_1_detrended = []\n",
    "for i in sit_user2_1:\n",
    "    sit_user2_1_detrended.append( detrend_user_walk(i) )\n",
    "    \n",
    "sit_user2_2_detrended = []\n",
    "for i in sit_user2_2:\n",
    "    sit_user2_2_detrended.append( detrend_user_walk(i) )\n",
    "    \n",
    "sit_user3_1_detrended = []\n",
    "for i in sit_user3_1:\n",
    "    sit_user3_1_detrended.append( detrend_user_walk(i) )\n",
    "\n",
    "sit_user3_2_detrended = []\n",
    "for i in sit_user3_2:\n",
    "    sit_user3_2_detrended.append( detrend_user_walk(i) )\n",
    "\n",
    "sit_user4_1_detrended = []\n",
    "for i in sit_user4_1:\n",
    "    sit_user4_1_detrended.append( detrend_user_walk(i) )\n",
    "    \n",
    "sit_user4_2_detrended = []\n",
    "for i in sit_user4_2:\n",
    "    sit_user4_2_detrended.append( detrend_user_walk(i) )"
   ]
  },
  {
   "cell_type": "markdown",
   "metadata": {},
   "source": [
    "## Fragmentação em Intervalos: LAY"
   ]
  },
  {
   "cell_type": "code",
   "execution_count": null,
   "metadata": {},
   "outputs": [],
   "source": [
    "unow = user1_1\n",
    "lay_user1_1 = [ ufrag(unow, 3663, 4538), ufrag(unow, 5860, 6786) ]\n",
    "\n",
    "unow = user1_2\n",
    "lay_user1_2 = [ ufrag(unow, 3573, 4435), ufrag(unow, 5690, 6467) ]\n",
    "\n",
    "unow = user2_1\n",
    "lay_user2_1 = [ ufrag(unow, 4323, 5139), ufrag(unow, 6416, 7367) ]\n",
    "\n",
    "unow = user2_2\n",
    "lay_user2_2 = [ ufrag(unow, 3543, 4348), ufrag(unow,5456, 6417)]\n",
    "\n",
    "unow = user3_1\n",
    "lay_user3_1 = [ ufrag(unow, 3835,4850), ufrag(unow, 6211, 7378)]\n",
    "\n",
    "unow = user3_2\n",
    "lay_user3_2 = [ ufrag(unow, 4109, 5211), ufrag(unow, 6581, 7720)]\n",
    "\n",
    "unow = user4_1\n",
    "lay_user4_1 = [ ufrag(unow, 3749, 4816), ufrag(unow, 6121, 7109) ]\n",
    "\n",
    "unow = user4_2\n",
    "lay_user4_2 = [ ufrag(unow, 3758, 4574), ufrag(unow, 5836, 6681) ]\n",
    "\n",
    "lay_user1_1_detrended = []\n",
    "for i in lay_user1_1:\n",
    "    lay_user1_1_detrended.append( detrend_user_walk(i) )\n",
    "    \n",
    "lay_user1_2_detrended = []\n",
    "for i in lay_user1_2:\n",
    "    lay_user1_2_detrended.append( detrend_user_walk(i) )\n",
    "    \n",
    "lay_user2_1_detrended = []\n",
    "for i in lay_user2_1:\n",
    "    lay_user2_1_detrended.append( detrend_user_walk(i) )\n",
    "    \n",
    "lay_user2_2_detrended = []\n",
    "for i in lay_user2_2:\n",
    "    lay_user2_2_detrended.append( detrend_user_walk(i) )\n",
    "    \n",
    "lay_user3_1_detrended = []\n",
    "for i in lay_user3_1:\n",
    "    lay_user3_1_detrended.append( detrend_user_walk(i) )\n",
    "\n",
    "lay_user3_2_detrended = []\n",
    "for i in lay_user3_2:\n",
    "    lay_user3_2_detrended.append( detrend_user_walk(i) )\n",
    "\n",
    "lay_user4_1_detrended = []\n",
    "for i in lay_user4_1:\n",
    "    lay_user4_1_detrended.append( detrend_user_walk(i) )\n",
    "    \n",
    "lay_user4_2_detrended = []\n",
    "for i in lay_user4_2:\n",
    "    lay_user4_2_detrended.append( detrend_user_walk(i) )"
   ]
  },
  {
   "cell_type": "markdown",
   "metadata": {},
   "source": [
    "# Fragmentação de Atividades de Transição"
   ]
  },
  {
   "cell_type": "markdown",
   "metadata": {},
   "source": [
    "## Fragmentação em Intervalos: STAND_SIT"
   ]
  },
  {
   "cell_type": "code",
   "execution_count": null,
   "metadata": {},
   "outputs": [],
   "source": [
    "unow = user1_1\n",
    "stand_sit_user1_1 = ufrag(unow, 1233, 1392)\n",
    "stand_sit_user1_1_detrended = detrend_user_walk(stand_sit_user1_1)\n",
    "\n",
    "unow = user1_2\n",
    "stand_sit_user1_2 = ufrag(unow, 1227, 1432)\n",
    "stand_sit_user1_2_detrended = detrend_user_walk(stand_sit_user1_2)\n",
    "\n",
    "unow = user2_1\n",
    "stand_sit_user2_1 = ufrag(unow, 1399, 1555)\n",
    "stand_sit_user2_1_detrended = detrend_user_walk(stand_sit_user2_1)\n",
    "\n",
    "unow = user2_2\n",
    "stand_sit_user2_2 = ufrag(unow, 1352, 1511)\n",
    "stand_sit_user2_2_detrended = detrend_user_walk(stand_sit_user2_2)\n",
    "\n",
    "unow = user3_1\n",
    "stand_sit_user3_1 = ufrag(unow, 1365, 1506)\n",
    "stand_sit_user3_1_detrended = detrend_user_walk(stand_sit_user3_1)\n",
    "\n",
    "unow = user3_2\n",
    "stand_sit_user3_2 = ufrag(unow, 1494, 1683)\n",
    "stand_sit_user3_2_detrended = detrend_user_walk(stand_sit_user3_2)\n",
    "\n",
    "unow = user4_1\n",
    "stand_sit_user4_1 = ufrag(unow, 1292, 1527)\n",
    "stand_sit_user4_1_detrended = detrend_user_walk(stand_sit_user4_1)\n",
    "\n",
    "unow = user4_2\n",
    "stand_sit_user4_2 = ufrag(unow, 1293, 1470)\n",
    "stand_sit_user4_2_detrended = detrend_user_walk(stand_sit_user4_2)"
   ]
  },
  {
   "cell_type": "markdown",
   "metadata": {},
   "source": [
    "## Fragmentação em Intervalos: SIT_STAND"
   ]
  },
  {
   "cell_type": "code",
   "execution_count": null,
   "metadata": {},
   "outputs": [],
   "source": [
    "unow = user1_1\n",
    "sit_stand_user1_1 = ufrag(unow, 2195, 2359)\n",
    "sit_stand_user1_1_detrended = detrend_user_walk(sit_stand_user1_1)\n",
    "\n",
    "unow = user1_2\n",
    "sit_stand_user1_2 = ufrag(unow,2222, 2377)\n",
    "sit_stand_user1_2_detrended = detrend_user_walk(sit_stand_user1_2)\n",
    "\n",
    "unow = user2_1\n",
    "sit_stand_user2_1 = ufrag(unow, 2628, 2769)\n",
    "sit_stand_user2_1_detrended = detrend_user_walk(sit_stand_user2_1)\n",
    "\n",
    "unow = user2_2\n",
    "sit_stand_user2_2 = ufrag(unow, 2310, 2448)\n",
    "sit_stand_user2_2_detrended = detrend_user_walk(sit_stand_user2_2)\n",
    "\n",
    "unow = user3_1\n",
    "sit_stand_user3_1 = ufrag(unow, 2361, 2470)\n",
    "sit_stand_user3_1_detrended = detrend_user_walk(sit_stand_user3_1)\n",
    "\n",
    "unow = user3_2\n",
    "sit_stand_user3_2 = ufrag(unow, 2516, 2698)\n",
    "sit_stand_user3_2_detrended = detrend_user_walk(sit_stand_user3_2)\n",
    "\n",
    "unow = user4_1\n",
    "sit_stand_user4_1 = ufrag(unow, 2382, 2511)\n",
    "sit_stand_user4_1_detrended = detrend_user_walk(sit_stand_user4_1)\n",
    "\n",
    "unow = user4_2\n",
    "sit_stand_user4_2 = ufrag(unow,2431, 2573)\n",
    "sit_stand_user4_2_detrended = detrend_user_walk(sit_stand_user4_2)"
   ]
  },
  {
   "cell_type": "markdown",
   "metadata": {},
   "source": [
    "## Fragmentação em Intervalos: STAND_LIE"
   ]
  },
  {
   "cell_type": "code",
   "execution_count": null,
   "metadata": {},
   "outputs": [],
   "source": [
    "unow = user1_1\n",
    "stand_lie_user1_1 = ufrag(unow, 3375, 3662)\n",
    "stand_lie_user1_1_detrended = detrend_user_walk(stand_lie_user1_1)\n",
    "\n",
    "unow = user1_2\n",
    "stand_lie_user1_2 = ufrag(unow,3305, 3572)\n",
    "stand_lie_user1_2_detrended = detrend_user_walk(stand_lie_user1_2)\n",
    "\n",
    "unow = user2_1\n",
    "stand_lie_user2_1 = ufrag(unow, 3905,4322)\n",
    "stand_lie_user2_1_detrended = detrend_user_walk(stand_lie_user2_1)\n",
    "\n",
    "unow = user2_2\n",
    "stand_lie_user2_2 = ufrag(unow, 3338, 3542)\n",
    "stand_lie_user2_2_detrended = detrend_user_walk(stand_lie_user2_2)\n",
    "\n",
    "unow = user3_1\n",
    "stand_lie_user3_1 = ufrag(unow, 3619, 3834)\n",
    "stand_lie_user3_1_detrended = detrend_user_walk(stand_lie_user3_1)\n",
    "\n",
    "unow = user3_2\n",
    "stand_lie_user3_2 = ufrag(unow, 3874, 4108)\n",
    "stand_lie_user3_2_detrended = detrend_user_walk(stand_lie_user3_2)\n",
    "\n",
    "unow = user4_1\n",
    "stand_lie_user4_1 = ufrag(unow, 3417,3748)\n",
    "stand_lie_user4_1_detrended = detrend_user_walk(stand_lie_user4_1)\n",
    "\n",
    "unow = user4_2\n",
    "stand_lie_user4_2 = ufrag(unow,3439, 3757)\n",
    "stand_lie_user4_2_detrended = detrend_user_walk(stand_lie_user4_2)"
   ]
  },
  {
   "cell_type": "markdown",
   "metadata": {},
   "source": [
    "## Fragmentação em Intervalos: LIE_SIT"
   ]
  },
  {
   "cell_type": "code",
   "execution_count": null,
   "metadata": {},
   "outputs": [],
   "source": [
    "unow = user1_1\n",
    "lie_sit_user1_1 = ufrag(unow, 4539, 4735)\n",
    "lie_sit_user1_1_detrended = detrend_user_walk(lie_sit_user1_1)\n",
    "\n",
    "unow = user1_2\n",
    "lie_sit_user1_2 = ufrag(unow,4436, 4619)\n",
    "lie_sit_user1_2_detrended = detrend_user_walk(lie_sit_user1_2)\n",
    "\n",
    "unow = user2_1\n",
    "lie_sit_user2_1 = ufrag(unow, 5140,5417)\n",
    "lie_sit_user2_1_detrended = detrend_user_walk(lie_sit_user2_1)\n",
    "\n",
    "unow = user2_2\n",
    "lie_sit_user2_2 = ufrag(unow, 4349,4490)\n",
    "lie_sit_user2_2_detrended = detrend_user_walk(lie_sit_user2_2)\n",
    "\n",
    "unow = user3_1\n",
    "lie_sit_user3_1 = ufrag(unow, 4851, 5074)\n",
    "lie_sit_user3_1_detrended = detrend_user_walk(lie_sit_user3_1)\n",
    "\n",
    "unow = user3_2\n",
    "lie_sit_user3_2 = ufrag(unow,5212, 5408)\n",
    "lie_sit_user3_2_detrended = detrend_user_walk(lie_sit_user3_2)\n",
    "\n",
    "unow = user4_1\n",
    "lie_sit_user4_1 = ufrag(unow,4817,5031)\n",
    "lie_sit_user4_1_detrended = detrend_user_walk(lie_sit_user4_1)\n",
    "\n",
    "unow = user4_2\n",
    "lie_sit_user4_2 = ufrag(unow, 4575,4784)\n",
    "lie_sit_user4_2_detrended = detrend_user_walk(lie_sit_user4_2)"
   ]
  },
  {
   "cell_type": "markdown",
   "metadata": {},
   "source": [
    "## Fragmentação em Intervalos: SIT_LIE"
   ]
  },
  {
   "cell_type": "code",
   "execution_count": null,
   "metadata": {},
   "outputs": [],
   "source": [
    "unow = user1_1\n",
    "sit_lie_user1_1 = ufrag(unow, 5668, 5859)\n",
    "sit_lie_user1_1_detrended = detrend_user_walk(sit_lie_user1_1)\n",
    "\n",
    "unow = user1_2\n",
    "sit_lie_user1_2 = ufrag(unow, 5453, 5689)\n",
    "sit_lie_user1_2_detrended = detrend_user_walk(sit_lie_user1_2)\n",
    "\n",
    "unow = user2_1\n",
    "sit_lie_user2_1 = ufrag(unow, 6191, 6415)\n",
    "sit_lie_user2_1_detrended = detrend_user_walk(sit_lie_user2_1)\n",
    "\n",
    "unow = user2_2\n",
    "sit_lie_user2_2 = ufrag(unow, 5302, 5455)\n",
    "sit_lie_user2_2_detrended = detrend_user_walk(sit_lie_user2_2)\n",
    "\n",
    "unow = user3_1\n",
    "sit_lie_user3_1 = ufrag(unow, 6060, 6210)\n",
    "sit_lie_user3_1_detrended = detrend_user_walk(sit_lie_user3_1)\n",
    "\n",
    "unow = user3_2\n",
    "sit_lie_user3_2 = ufrag(unow, 6411, 6580)\n",
    "sit_lie_user3_2_detrended = detrend_user_walk(sit_lie_user3_2)\n",
    "\n",
    "unow = user4_1\n",
    "sit_lie_user4_1 = ufrag(unow, 5897, 6120)\n",
    "sit_lie_user4_1_detrended = detrend_user_walk(sit_lie_user4_1)\n",
    "\n",
    "unow = user4_2\n",
    "sit_lie_user4_2 = ufrag(unow, 5601, 5835)\n",
    "sit_lie_user4_2_detrended = detrend_user_walk(sit_lie_user4_2)"
   ]
  },
  {
   "cell_type": "markdown",
   "metadata": {},
   "source": [
    "## Fragmentação em Intervalos: LIE_STAND"
   ]
  },
  {
   "cell_type": "code",
   "execution_count": null,
   "metadata": {},
   "outputs": [],
   "source": [
    "unow = user1_1\n",
    "lie_stand_user1_1 = ufrag(unow, 6787, 6977)\n",
    "lie_stand_user1_1_detrended = detrend_user_walk(lie_stand_user1_1)\n",
    "\n",
    "unow = user1_2\n",
    "lie_stand_user1_2 = ufrag(unow, 6468, 6709)\n",
    "lie_stand_user1_2_detrended = detrend_user_walk(lie_stand_user1_2)\n",
    "\n",
    "unow = user2_1\n",
    "lie_stand_user2_1 = ufrag(unow, 7368, 7548)\n",
    "lie_stand_user2_1_detrended = detrend_user_walk(lie_stand_user2_1)\n",
    "\n",
    "unow = user2_2\n",
    "lie_stand_user2_2 = ufrag(unow, 6418, 6598)\n",
    "lie_stand_user2_2_detrended = detrend_user_walk(lie_stand_user2_2)\n",
    "\n",
    "unow = user3_1\n",
    "lie_stand_user3_1 = ufrag(unow, 7379, 7562)\n",
    "lie_stand_user3_1_detrended = detrend_user_walk(lie_stand_user3_1)\n",
    "\n",
    "unow = user3_2\n",
    "lie_stand_user3_2 = ufrag(unow, 7721, 7887)\n",
    "lie_stand_user3_2_detrended = detrend_user_walk(lie_stand_user3_2)\n",
    "\n",
    "unow = user4_1\n",
    "lie_stand_user4_1 = ufrag(unow, 7110, 7275)\n",
    "lie_stand_user4_1_detrended = detrend_user_walk(lie_stand_user4_1)\n",
    "\n",
    "unow = user4_2\n",
    "lie_stand_user4_2 = ufrag(unow, 6682,6852)\n",
    "lie_stand_user4_2_detrended = detrend_user_walk(lie_stand_user4_2)"
   ]
  },
  {
   "cell_type": "markdown",
   "metadata": {},
   "source": [
    "### Seleção da Janela para Segmentar as atividades\n",
    "\n",
    "##### Nos Slides das Tps há 3 exemplos de janelas usadas para estudos de frequências associadas a sinais. Estas são a janela de Blackman, de Hamming e de Hanning. Na documentação da livraria numpy, é possível encontrar mais algumas com história. A janela de Bartlett, que tem a forma de um triângulo, e a janela de Kaiser, que tem como parâmetro um beta que na prática serve como fator de equilibrio tempo-frequência na análise do sinal."
   ]
  },
  {
   "cell_type": "code",
   "execution_count": null,
   "metadata": {},
   "outputs": [],
   "source": [
    "uteste = walks_user3_2[1]\n",
    "size = len(uteste)\n",
    "bwindow = signal.windows.blackman(size)\n",
    "hmwindow = np.hamming(size)\n",
    "hnwindow = signal.windows.hann(size)\n",
    "beta = 7.5\n",
    "kwindow = signal.windows.kaiser(size, beta)\n",
    "## PLOTTING \n",
    "fig = plt.figure(figsize=(14,5), facecolor = 'black' if dark_background else 'white')\n",
    "\n",
    "ax = plt.subplot(111)\n",
    "\n",
    "plt.plot(bwindow, label = 'Blackman')\n",
    "plt.plot(hmwindow, label = 'Hamming')\n",
    "plt.plot(hnwindow, label = 'Hann')\n",
    "plt.plot(kwindow, label = f'Kaiser {beta}')\n",
    "\n",
    "plt.title(\"Windows Distribution\", color = 'white' if dark_background else 'black')\n",
    "plt.tick_params(axis='x', colors='white' if dark_background else 'black')\n",
    "plt.tick_params(axis='y', colors='white' if dark_background else 'black')\n",
    "ax.set_facecolor(\"black\" if dark_background else 'white')\n",
    "\n",
    "plt.legend()\n",
    "plt.tight_layout()"
   ]
  },
  {
   "cell_type": "code",
   "execution_count": null,
   "metadata": {},
   "outputs": [],
   "source": [
    "fbwindow = np.abs(fftshift(fft(bwindow,1024)))\n",
    "fhmwindow = np.abs(fftshift(fft(hmwindow,1024)))\n",
    "fhnwindow = np.abs(fftshift(fft(hnwindow,1024)))\n",
    "fkwindow = np.abs(fftshift(fft(kwindow,1024)))\n",
    "\n",
    "freq = np.linspace(-0.5, 0.5, 1024)\n",
    "\n",
    "with np.errstate(divide='ignore', invalid='ignore'):\n",
    "    nfbwindow = 20*np.log10(fbwindow)\n",
    "    nfhmwindow = 20* np.log10(fhmwindow)\n",
    "    nfhnwindow = 20 * np.log10(fhnwindow)\n",
    "    nfkwindow = 20*np.log10(fkwindow)\n",
    "\n",
    "nfbwindow = np.clip(nfbwindow, -150, 100)\n",
    "nfhmwindow = np.clip(nfhmwindow, -150, 100)\n",
    "nfhnwindow = np.clip(nfhnwindow, -150, 100)\n",
    "nfkwindow = np.clip(nfkwindow, -150, 100)\n",
    "    \n",
    "fig = plt.figure(figsize=(14,5), facecolor = 'black' if dark_background else 'white')\n",
    "\n",
    "ax = plt.subplot(111)\n",
    "\n",
    "plt.plot(freq, nfbwindow, label = 'Blackman')\n",
    "plt.plot(freq, nfhmwindow, label = 'Hamming')\n",
    "plt.plot(freq, nfhnwindow, label = 'Hann')\n",
    "plt.plot(freq, nfkwindow, label = f'Kaiser {beta}')\n",
    "\n",
    "plt.title(\"Windows Distribution\", color = 'white' if dark_background else 'black')\n",
    "plt.tick_params(axis='x', colors='white' if dark_background else 'black')\n",
    "plt.tick_params(axis='y', colors='white' if dark_background else 'black')\n",
    "ax.set_facecolor(\"black\" if dark_background else 'white')\n",
    "\n",
    "plt.legend()\n",
    "plt.tight_layout()"
   ]
  },
  {
   "cell_type": "markdown",
   "metadata": {},
   "source": [
    "##### Pelos gráficos das janelas no tempo e da resposta a frequência das janelas a pensamos que a mais apropriada para o este projeto será a Hann, apesar de na prática, com testes feitos anteriormente a este estudo, os resultados serem basicamente os mesmos. A janela de Hann, pelo que foi lido, tem uma eficiência na computação semelhante à da janela de hamming. Obtém resultados no tempo pioresno domínio do tempo, pois a sua janela atinge 0 nas pontas, o que pode alterar bastante o sinal original. No entanto, para a análise das frequências, isto não é algo negativo. Isto faz com que tenhamos a certeza de que não é adicionada nenhuma frequência indesejada na transformada. Pelos fragmentos feitos das atividades, também nos parece que com a quantidade de dados em cada fragmento, o abate das pontas não seja significativo para a perda total das frequências fundamentais à análise."
   ]
  },
  {
   "cell_type": "code",
   "execution_count": null,
   "metadata": {},
   "outputs": [],
   "source": [
    "fig = plt.figure(figsize=(14,5), facecolor = 'black' if dark_background else 'white')\n",
    "accax = 'Y'\n",
    "ax = plt.subplot(221)\n",
    "plt.plot(bwindow*uteste[accax])\n",
    "plt.title(\"Blackman Window\", color = 'white' if dark_background else 'black')\n",
    "plt.tick_params(axis='x', colors='white' if dark_background else 'black')\n",
    "plt.tick_params(axis='y', colors='white' if dark_background else 'black')\n",
    "ax.set_facecolor(\"black\" if dark_background else 'white')\n",
    "\n",
    "\n",
    "ax = plt.subplot(222)\n",
    "plt.plot(hmwindow*uteste[accax])\n",
    "plt.title(\"Hamming Window\", color = 'white' if dark_background else 'black')\n",
    "plt.tick_params(axis='x', colors='white' if dark_background else 'black')\n",
    "plt.tick_params(axis='y', colors='white' if dark_background else 'black')\n",
    "ax.set_facecolor(\"black\" if dark_background else 'white')\n",
    "\n",
    "ax = plt.subplot(223)\n",
    "plt.plot(hnwindow*uteste[accax])\n",
    "plt.title(\"Hanning Window\", color = 'white' if dark_background else 'black')\n",
    "plt.tick_params(axis='x', colors='white' if dark_background else 'black')\n",
    "plt.tick_params(axis='y', colors='white' if dark_background else 'black')\n",
    "ax.set_facecolor(\"black\" if dark_background else 'white')\n",
    "\n",
    "ax = plt.subplot(224)\n",
    "plt.plot(kwindow*uteste[accax])\n",
    "plt.title(\"Kaiser Window\", color = 'white' if dark_background else 'black')\n",
    "plt.tick_params(axis='x', colors='white' if dark_background else 'black')\n",
    "plt.tick_params(axis='y', colors='white' if dark_background else 'black')\n",
    "ax.set_facecolor(\"black\" if dark_background else 'white')\n",
    "\n",
    "plt.tight_layout()"
   ]
  },
  {
   "cell_type": "code",
   "execution_count": null,
   "metadata": {},
   "outputs": [],
   "source": [
    "uteste = walks_user3_2_detrended[1]\n",
    "\n",
    "fig = plt.figure(figsize=(14,5), facecolor = 'black' if dark_background else 'white')\n",
    "accax = 'Y'\n",
    "ax = plt.subplot(221)\n",
    "plt.plot(bwindow*uteste[accax])\n",
    "plt.title(\"Blackman Window\", color = 'white' if dark_background else 'black')\n",
    "plt.tick_params(axis='x', colors='white' if dark_background else 'black')\n",
    "plt.tick_params(axis='y', colors='white' if dark_background else 'black')\n",
    "ax.set_facecolor(\"black\" if dark_background else 'white')\n",
    "\n",
    "\n",
    "ax = plt.subplot(222)\n",
    "plt.plot(hmwindow*uteste[accax])\n",
    "plt.title(\"Hamming Window\", color = 'white' if dark_background else 'black')\n",
    "plt.tick_params(axis='x', colors='white' if dark_background else 'black')\n",
    "plt.tick_params(axis='y', colors='white' if dark_background else 'black')\n",
    "ax.set_facecolor(\"black\" if dark_background else 'white')\n",
    "\n",
    "ax = plt.subplot(223)\n",
    "plt.plot(hnwindow*uteste[accax])\n",
    "plt.title(\"Hanning Window\", color = 'white' if dark_background else 'black')\n",
    "plt.tick_params(axis='x', colors='white' if dark_background else 'black')\n",
    "plt.tick_params(axis='y', colors='white' if dark_background else 'black')\n",
    "ax.set_facecolor(\"black\" if dark_background else 'white')\n",
    "\n",
    "ax = plt.subplot(224)\n",
    "plt.plot(kwindow*uteste[accax])\n",
    "plt.title(\"Kaiser Window\", color = 'white' if dark_background else 'black')\n",
    "plt.tick_params(axis='x', colors='white' if dark_background else 'black')\n",
    "plt.tick_params(axis='y', colors='white' if dark_background else 'black')\n",
    "ax.set_facecolor(\"black\" if dark_background else 'white')\n",
    "\n",
    "plt.tight_layout()"
   ]
  },
  {
   "cell_type": "markdown",
   "metadata": {},
   "source": [
    "#### Pela verificação do produto do das janelas, com o segmento do sinal associado a atividades dinâmicas e ao mesmo sinal após um 'detrend', verifica-se que o sinal detrended obtém melhores resultados para uma melhor análise, pois fica mais simétrico em relação ao eixo central.\n",
    "#### A janela a ser usada ainda não está decidida"
   ]
  },
  {
   "cell_type": "code",
   "execution_count": null,
   "metadata": {},
   "outputs": [],
   "source": [
    "fig = plt.figure(figsize=(10,5), facecolor = 'black' if dark_background else 'white')\n",
    "\n",
    "ax = plt.subplot(111)\n",
    "plt.plot(uteste[accax])\n",
    "plt.title(\"Blackman Window\", color = 'white' if dark_background else 'black')\n",
    "plt.tick_params(axis='x', colors='white' if dark_background else 'black')\n",
    "plt.tick_params(axis='y', colors='white' if dark_background else 'black')\n",
    "ax.set_facecolor(\"black\" if dark_background else 'white')\n",
    "\n",
    "plt.tight_layout()"
   ]
  },
  {
   "cell_type": "code",
   "execution_count": 125,
   "metadata": {},
   "outputs": [],
   "source": [
    "def plot_activity_dft(user_frag_act, N, user, exp, title, zeros, percent, wind, plotit, called=True):\n",
    "    fs = 50\n",
    "    if N%2==0:\n",
    "        f = np.linspace( -fs/2, fs/2 - fs/N, N) \n",
    "    else:\n",
    "        f = np.linspace( -fs/2 + fs/2/N, fs/2 - fs/2/N, N)\n",
    "    if wind=='b':\n",
    "        window = signal.windows.blackman(N)\n",
    "    elif wind=='hm':\n",
    "        window = np.hamming(N)\n",
    "    elif wind=='hn':\n",
    "        window = signal.windows.hann(N)\n",
    "    elif wind=='k':\n",
    "        window = signal.windows.kaiser(N,14)\n",
    "    else:\n",
    "        return\n",
    "    \n",
    "    dfts = []\n",
    "    dfts.append( np.abs( fftshift( fft( user_frag_act['X'] * window ) ) ) ) \n",
    "    dfts.append( np.abs( fftshift( fft( user_frag_act['Y'] * window ) ) ) )\n",
    "    dfts.append( np.abs( fftshift( fft( user_frag_act['Z'] * window ) ) ) )\n",
    "    \n",
    "    for i in range(3):\n",
    "        dfts[i][ np.abs(f)>2.5 ]=0\n",
    "    \n",
    "    if plotit:\n",
    "    \n",
    "        figure, subplots = plt.subplots(nrows = 1, ncols= 3, figsize = (18,3), facecolor = 'black'  if dark_background else 'white')\n",
    "        figure.suptitle(f'DFT de {title} - Experiência {exp} do User {user}', fontsize = 'xx-large', c = 'white'  if dark_background else 'black')\n",
    "        \n",
    "        if dark_background:\n",
    "            subplots[0].set_facecolor('k')\n",
    "            subplots[1].set_facecolor('k')\n",
    "            subplots[2].set_facecolor('k')\n",
    "            \n",
    "        if zeros:\n",
    "            for i in range(3):\n",
    "                dfts[i][ dfts[i]<np.max(dfts[i])*percent ] = 0\n",
    "        else:\n",
    "            for i in range(3):\n",
    "                subplots[i].plot(f, np.full(f.shape,np.max(dfts[i])*percent), 'r')\n",
    "        \n",
    "        for i in range(3):\n",
    "            marker, stem, base = subplots[i].stem(f, dfts[i])\n",
    "            stem.set_linewidth(0.8)\n",
    "            plt.setp(marker, markersize = 3)\n",
    "            #subplots[i].plot(f, dfts[i])\n",
    "\n",
    "        subplots[0].set_xlabel(\"Axis X Frequency (Hz)\", c = 'white'  if dark_background else 'black')\n",
    "        subplots[1].set_xlabel(\"Axis Y Frequency (Hz)\", c = 'white'  if dark_background else 'black')\n",
    "        subplots[2].set_xlabel(\"Axis Z Frequency (Hz)\", c = 'white'  if dark_background else 'black')\n",
    "        subplots[0].set_ylabel(\"Magnitude\", c = 'white'  if dark_background else 'black')\n",
    "        subplots[1].set_ylabel(\"Magnitude\", c = 'white'  if dark_background else 'black')\n",
    "        subplots[2].set_ylabel(\"Magnitude\", c = 'white'  if dark_background else 'black')\n",
    "        subplots[0].tick_params(axis='x', colors='white' if dark_background else 'black')\n",
    "        subplots[1].tick_params(axis='x', colors='white' if dark_background else 'black')\n",
    "        subplots[2].tick_params(axis='x', colors='white' if dark_background else 'black')\n",
    "        subplots[0].tick_params(axis='y', colors='white' if dark_background else 'black')\n",
    "        subplots[1].tick_params(axis='y', colors='white' if dark_background else 'black')\n",
    "        subplots[2].tick_params(axis='y', colors='white' if dark_background else 'black')\n",
    "    \n",
    "        figure.tight_layout()\n",
    "    for i in range(3):\n",
    "            dfts[i][ dfts[i]<np.max(dfts[i])*percent ] = 0\n",
    "    if called:\n",
    "        print(f'user{user}_{exp}')\n",
    "        print('X:', np.unique(np.round(np.abs(f[np.where(dfts[0])]), 8)))\n",
    "        print('Y:', np.unique(np.round(np.abs(f[np.where(dfts[1])]), 8)))\n",
    "        print('Z:', np.unique(np.round(np.abs(f[np.where(dfts[2])]), 8)))\n",
    "        print('------------------')\n",
    "    else:\n",
    "        return  np.unique(np.round(np.abs(f[np.where(dfts[0])]), 8)), np.unique(np.round(np.abs(f[np.where(dfts[1])]), 8)), np.unique(np.round(np.abs(f[np.where(dfts[2])]), 8))"
   ]
  },
  {
   "cell_type": "code",
   "execution_count": 126,
   "metadata": {},
   "outputs": [],
   "source": [
    "def get_frequencies_from_activities(activity_array, percent, window, user=0, exp=0):\n",
    "    x_total = []\n",
    "    y_total = []\n",
    "    z_total = []\n",
    "    aux = {}\n",
    "    \n",
    "    if type(activity_array)!=list:\n",
    "        activity_array = [activity_array]\n",
    "    \n",
    "    for a in activity_array:\n",
    "        x_a, y_a, z_a = plot_activity_dft(a, len(a), user, exp, \"\", True, percent, window, False, called = False)\n",
    "        \n",
    "        x_total = x_total + x_a.tolist()\n",
    "        y_total = y_total + y_a.tolist()\n",
    "        z_total = z_total + z_a.tolist()\n",
    "        \n",
    "        maxlen = np.max([len(x_total), len(y_total), len(z_total)])\n",
    "        \n",
    "        while (len(x_total)< maxlen): x_total.append(np.nan)\n",
    "        while (len(y_total)< maxlen): y_total.append(np.nan)\n",
    "        while (len(z_total)< maxlen): z_total.append(np.nan)\n",
    "    aux = {'X':x_total, 'Y':y_total, 'Z':z_total}\n",
    "    Hz_pd = pd.DataFrame(aux)\n",
    "    Hz_pd = Hz_pd[::][Hz_pd[::]<2.5]\n",
    "    print(Hz_pd)\n",
    "    print(Hz_pd.describe())"
   ]
  },
  {
   "cell_type": "markdown",
   "metadata": {},
   "source": [
    "# Análise às características espectrais das atividades\n",
    "## DFT's da atividades WALK de todos as experiências"
   ]
  },
  {
   "cell_type": "code",
   "execution_count": 131,
   "metadata": {},
   "outputs": [
    {
     "name": "stdout",
     "output_type": "stream",
     "text": [
      "user3_1\n",
      "X: [1.60869565 1.65217391]\n",
      "Y: [1.60869565 1.65217391]\n",
      "Z: [0.7826087  0.82608696 1.60869565 1.65217391]\n",
      "------------------\n",
      "user3_1\n",
      "X: [1.69014085]\n",
      "Y: [1.69014085]\n",
      "Z: [0.84507042 1.69014085]\n",
      "------------------\n"
     ]
    },
    {
     "data": {
      "image/png": "[encoded data removed]",
      "text/plain": [
       "<Figure size 1296x216 with 3 Axes>"
      ]
     },
     "metadata": {},
     "output_type": "display_data"
    },
    {
     "data": {
      "image/png": "[encoded data removed]",
      "text/plain": [
       "<Figure size 1296x216 with 3 Axes>"
      ]
     },
     "metadata": {},
     "output_type": "display_data"
    }
   ],
   "source": [
    "%matplotlib inline\n",
    "for i in walks_user3_1_detrended:\n",
    "    set_between_std(i)\n",
    "    plot_activity_dft(i, len(i), 3, 1, \"WALK\", False, 0.6, 'hn', True)"
   ]
  },
  {
   "cell_type": "code",
   "execution_count": 132,
   "metadata": {},
   "outputs": [
    {
     "name": "stdout",
     "output_type": "stream",
     "text": [
      "user3_2\n",
      "X: [1.70807453 1.75983437]\n",
      "Y: [1.70807453 1.75983437]\n",
      "Z: [0.82815735 0.87991718 1.70807453 1.75983437]\n",
      "------------------\n",
      "user3_2\n",
      "X: [1.71122995]\n",
      "Y: [1.65775401 1.71122995]\n",
      "Z: [0.85561497 1.65775401 1.71122995]\n",
      "------------------\n"
     ]
    },
    {
     "data": {
      "image/png": "[encoded data removed]",
      "text/plain": [
       "<Figure size 1296x216 with 3 Axes>"
      ]
     },
     "metadata": {},
     "output_type": "display_data"
    },
    {
     "data": {
      "image/png": "[encoded data removed]",
      "text/plain": [
       "<Figure size 1296x216 with 3 Axes>"
      ]
     },
     "metadata": {},
     "output_type": "display_data"
    }
   ],
   "source": [
    "#%matplotlib widget\n",
    "for i in walks_user3_2_detrended:\n",
    "    plot_activity_dft(i, len(i), 3, 2, \"WALK\", False, 0.6, 'hn', True)"
   ]
  },
  {
   "cell_type": "code",
   "execution_count": 133,
   "metadata": {},
   "outputs": [
    {
     "name": "stdout",
     "output_type": "stream",
     "text": [
      "user4_1\n",
      "X: [1.87937063 1.92307692]\n",
      "Y: [1.87937063 1.92307692]\n",
      "Z: [0.96153846 1.87937063 1.92307692]\n",
      "------------------\n",
      "user4_1\n",
      "X: [1.92307692 1.97115385]\n",
      "Y: [1.92307692 1.97115385]\n",
      "Z: [1.92307692 1.97115385]\n",
      "------------------\n"
     ]
    },
    {
     "data": {
      "image/png": "[encoded data removed]",
      "text/plain": [
       "<Figure size 1296x216 with 3 Axes>"
      ]
     },
     "metadata": {},
     "output_type": "display_data"
    },
    {
     "data": {
      "image/png": "[encoded data removed]",
      "text/plain": [
       "<Figure size 1296x216 with 3 Axes>"
      ]
     },
     "metadata": {},
     "output_type": "display_data"
    }
   ],
   "source": [
    "for i in walks_user4_1_detrended:\n",
    "    plot_activity_dft(i, len(i), 4, 1, \"WALK\", False, 0.6, 'hn', True)"
   ]
  },
  {
   "cell_type": "code",
   "execution_count": 134,
   "metadata": {},
   "outputs": [
    {
     "name": "stdout",
     "output_type": "stream",
     "text": [
      "user4_2\n",
      "X: [1.93423598 1.98259188]\n",
      "Y: [1.93423598 1.98259188]\n",
      "Z: [0.96711799]\n",
      "------------------\n",
      "user4_2\n",
      "X: [1.95674562 2.00823893]\n",
      "Y: [1.95674562 2.00823893]\n",
      "Z: [0.97837281 1.02986612]\n",
      "------------------\n"
     ]
    },
    {
     "data": {
      "image/png": "[encoded data removed]",
      "text/plain": [
       "<Figure size 1296x216 with 3 Axes>"
      ]
     },
     "metadata": {},
     "output_type": "display_data"
    },
    {
     "data": {
      "image/png": "[encoded data removed]",
      "text/plain": [
       "<Figure size 1296x216 with 3 Axes>"
      ]
     },
     "metadata": {},
     "output_type": "display_data"
    }
   ],
   "source": [
    "for i in walks_user4_2_detrended:\n",
    "    plot_activity_dft(i, len(i), 4, 2, \"WALK\", False, 0.6, 'hn', True)"
   ]
  },
  {
   "cell_type": "markdown",
   "metadata": {},
   "source": [
    "### EIXOS X WALK:\n",
    "##### USER_3_EXP_1: [1.56521739, 1.60869565, 1.65217391] <----> [1.64319249, 1.69014085, 1.7370892 ]\n",
    "##### USER_3_EXP_2: [1.70807453, 1.75983437] <----> [1.65775401, 1.71122995, 1.76470588]\n",
    "##### USER_4_EXP_1: [1.87937063, 1.92307692] <----> [1.92307692, 1.97115385]\n",
    "##### USER_4_EXP_2: [1.93423598, 1.98259188] <----> [1.95674562, 2.00823893]   \n",
    "### EIXOS Y WALK:\n",
    "##### USER_3_EXP_1: [1.60869565, 1.65217391] <----> [1.92307692 1.97115385]\n",
    "##### USER_3_EXP_2: [1.70807453, 1.75983437] <----> [1.65775401, 1.71122995, 1.76470588]\n",
    "##### USER_4_EXP_1: [1.83566434, 1.87937063, 1.92307692] <----> [1.92307692, 1.97115385]\n",
    "##### USER_4_EXP_2: [1.93423598, 1.98259188] <----> [1.95674562, 2.00823893, 2.98661174]\n",
    "##### \n",
    "### EIXOS Z WALK:\n",
    "##### USER_3_EXP_1: [0.7826087,  0.82608696, 1.60869565, 1.65217391] <----> [0.84507042 1.64319249 1.69014085 1.7370892  2.53521127]\n",
    "##### USER_3_EXP_2: [0.82815735, 0.87991718, 1.70807453, 1.75983437] <----> [0.85561497, 1.65775401, 1.71122995, 1.76470588]\n",
    "##### USER_4_EXP_1: [0.91783217, 0.96153846, 1.83566434, 1.87937063, 1.92307692] <----> [0.96153846 1.92307692 1.97115385]\n",
    "##### USER_4_EXP_2: [0.96711799, 1.01547389, 1.93423598] <----> [0.97837281, 1.02986612, 1.95674562, 2.00823893]"
   ]
  },
  {
   "cell_type": "markdown",
   "metadata": {},
   "source": [
    "## DFT's da atividades WALK_DOWN de todos as experiências"
   ]
  },
  {
   "cell_type": "code",
   "execution_count": null,
   "metadata": {},
   "outputs": [],
   "source": [
    "for i in walks_down_user3_1_detrended:\n",
    "    plot_activity_dft(i, len(i), 3, 1, \"WALK DOWN\", False, 0.65, 'hn', True)"
   ]
  },
  {
   "cell_type": "code",
   "execution_count": null,
   "metadata": {},
   "outputs": [],
   "source": [
    "for i in walks_down_user3_2_detrended:\n",
    "    plot_activity_dft(i, len(i), 3, 2, \"WALK DOWN\", False, 0.8, 'hn', True)"
   ]
  },
  {
   "cell_type": "code",
   "execution_count": null,
   "metadata": {},
   "outputs": [],
   "source": [
    "for i in walks_down_user4_1_detrended:\n",
    "    plot_activity_dft(i, len(i), 4, 1, \"WALK DOWN\", False, 0.8, 'hn', True)"
   ]
  },
  {
   "cell_type": "markdown",
   "metadata": {},
   "source": [
    "### EIXOS X WALK_DOWN:\n",
    "##### \n",
    "##### \n",
    "### EIXOS Y WALK_DOWN:\n",
    "##### \n",
    "### EIXOS Z WALK_DOWN:\n",
    "##### "
   ]
  },
  {
   "cell_type": "code",
   "execution_count": null,
   "metadata": {},
   "outputs": [],
   "source": [
    "for i in walks_user1_1_detrended:\n",
    "    plot_activity_dft(i, len(i), 4, 1, \"WALK DOWN\", False, 0.8, 'hn', True)"
   ]
  },
  {
   "cell_type": "code",
   "execution_count": null,
   "metadata": {},
   "outputs": [],
   "source": []
  }
 ],
 "metadata": {
  "kernelspec": {
   "display_name": "Python 3",
   "language": "python",
   "name": "python3"
  },
  "language_info": {
   "codemirror_mode": {
    "name": "ipython",
    "version": 3
   },
   "file_extension": ".py",
   "mimetype": "text/x-python",
   "name": "python",
   "nbconvert_exporter": "python",
   "pygments_lexer": "ipython3",
   "version": "3.8.7"
  },
  "metadata": {
   "interpreter": {
    "hash": "27d4f6ba00e5f9584c5bb13eed1064ec5c4936beebf286aef9eac3e7bf19e409"
   }
  }
 },
 "nbformat": 4,
 "nbformat_minor": 4
}
