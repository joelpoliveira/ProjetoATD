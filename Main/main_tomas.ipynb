{
 "cells": [
  {
   "cell_type": "markdown",
   "metadata": {},
   "source": [
    "# <center>Projeto ATD</center>\n",
    "## <center>2ºsemestre 2020/2021</center>\n",
    "### <center>FCTUC - DEI</center>\n",
    "### Membros:\n",
    "* Joel Oliveira - 2019227468\n",
    "* Tomás Mendes - 2019232272\n"
   ]
  },
  {
   "cell_type": "code",
   "execution_count": null,
   "metadata": {},
   "outputs": [],
   "source": [
    "import numpy as np\n",
    "from sympy import *\n",
    "import matplotlib.pyplot as plt\n",
    "import pandas as pd\n",
    "import math\n",
    "from scipy import signal\n",
    "import scipy as sy\n",
    "from numpy.fft import fft, fftshift\n",
    "import seaborn as sns\n",
    "#sns.set_style(\"darkgrid\")\n",
    "plt.style.use('seaborn-dark-palette')\n",
    "plt.style.use('seaborn-darkgrid')"
   ]
  },
  {
   "cell_type": "markdown",
   "metadata": {},
   "source": [
    "### Ler dados do acelerómetro para variável\n",
    "##### userA_expB (Experiência B do Sujeito A)"
   ]
  },
  {
   "cell_type": "code",
   "execution_count": null,
   "metadata": {},
   "outputs": [],
   "source": [
    "user1_1 = pd.DataFrame(data = np.loadtxt(\"Datasets/acc_exp01_user01.txt\"), columns = ['X','Y','Z'])\n",
    "user1_2 = pd.DataFrame(data = np.loadtxt(\"Datasets/acc_exp02_user01.txt\"), columns = ['X','Y','Z'])\n",
    "user2_1 = pd.DataFrame(data = np.loadtxt(\"Datasets/acc_exp03_user02.txt\"), columns = ['X','Y','Z'])\n",
    "user2_2 = pd.DataFrame(data = np.loadtxt(\"Datasets/acc_exp04_user02.txt\"), columns = ['X','Y','Z'])\n",
    "user3_1 = pd.DataFrame(data = np.loadtxt(\"Datasets/acc_exp05_user03.txt\"), columns = ['X','Y','Z'])\n",
    "user3_2 = pd.DataFrame(data = np.loadtxt(\"Datasets/acc_exp06_user03.txt\"), columns = ['X','Y','Z'])\n",
    "user4_1 = pd.DataFrame(data = np.loadtxt(\"Datasets/acc_exp07_user04.txt\"), columns = ['X','Y','Z'])\n",
    "user4_2 = pd.DataFrame(data = np.loadtxt(\"Datasets/acc_exp08_user04.txt\"), columns = ['X','Y','Z'])"
   ]
  },
  {
   "cell_type": "code",
   "execution_count": null,
   "metadata": {},
   "outputs": [],
   "source": []
  },
  {
   "cell_type": "markdown",
   "metadata": {},
   "source": [
    "#### Juntar à estrutura com os dados a informação do tempo em minutos de cada experiência"
   ]
  },
  {
   "cell_type": "code",
   "execution_count": null,
   "metadata": {},
   "outputs": [],
   "source": [
    "fs = 50 # Hz\n",
    "T = 1/fs # sec\n",
    "\n",
    "user1_1['Time (min)'] = np.arange(0, len(user1_1['X']) * T, T)/60\n",
    "user1_2['Time (min)'] = np.arange(0, len(user1_2['X']) * T, T)/60 \n",
    "user2_1['Time (min)'] = np.arange(0, len(user2_1['X']) * T, T)/60 \n",
    "user2_2['Time (min)'] = np.arange(0, len(user2_2['X']) * T, T)/60 \n",
    "user3_1['Time (min)'] = np.arange(0, len(user3_1['X']) * T, T)/60 \n",
    "user3_2['Time (min)'] = np.arange(0, len(user3_2['X']) * T, T)/60 \n",
    "user4_1['Time (min)'] = np.arange(0, len(user4_1['X']) * T, T)/60 \n",
    "user4_2['Time (min)'] = np.arange(0, len(user4_2['X']) * T, T)/60"
   ]
  },
  {
   "cell_type": "markdown",
   "metadata": {},
   "source": [
    "### Guardar os dados das experiências num ficheiro .dat, para ler mais tarde"
   ]
  },
  {
   "cell_type": "code",
   "execution_count": null,
   "metadata": {},
   "outputs": [],
   "source": [
    "users_exp = [user1_1, user1_2, user2_1, user2_2, user3_1, user3_2, user4_1, user4_2]\n",
    "pd.to_pickle(users_exp, \"users.dat\")"
   ]
  },
  {
   "cell_type": "markdown",
   "metadata": {},
   "source": [
    "### Verificação dos dados presentes no DataSet, através da função 'info()' das DataFrame da livraria Pandas.\n",
    "#### Esta função devolve informações sobre a informação presente na DataFrame. É devolvida uma string com a quantidade de valores presente não nula, a quantidade de valores presente com valor nulo e ainda o tipoda informação presente em cada coluna. \n",
    "#### Assim, é possível verificar que o DataSet está bastante completo, sem falhas de informação, e o tipo de dados existente nele. No caso dados do tipo float."
   ]
  },
  {
   "cell_type": "code",
   "execution_count": null,
   "metadata": {},
   "outputs": [],
   "source": [
    "\"\"\"\n",
    "for i in range(len(users_exp)):\n",
    "    print(\"//\" + \"_\"*9 + f\"Sujeito {i//2+1} Experiencia {i%2+1}\" + \"_\"*9 + \"\\\\\\\\\", end = '\\n\\n')\n",
    "    users_exp[i].info()\n",
    "    print(\"\\n\")\n",
    "\"\"\"   "
   ]
  },
  {
   "cell_type": "code",
   "execution_count": null,
   "metadata": {
    "scrolled": true
   },
   "outputs": [],
   "source": [
    "\"\"\"\n",
    "for i in range(len(users_exp)):\n",
    "    print(\"//\" + \"_\"*15 + f\"Sujeito {i//2+1} Experiencia {i%2+1}\" + \"_\"*15 + \"\\\\\\\\\", end='\\n\\n')\n",
    "    print(users_exp[i].describe())\n",
    "    print(\"\\n\")\n",
    "\"\"\""
   ]
  },
  {
   "cell_type": "markdown",
   "metadata": {},
   "source": [
    "#### Leitura dos dados inseridos no ficheiro 'users.dat', anteriormente.\n",
    "##### Este ficheiro contém um array com as informações de cada experiência inseridas numa DataFrame"
   ]
  },
  {
   "cell_type": "code",
   "execution_count": null,
   "metadata": {},
   "outputs": [],
   "source": [
    "users_exp = pd.read_pickle(\"users.dat\")\n",
    "user1_1, user1_2, user2_1, user2_2, user3_1, user3_2, user4_1, user4_2 = users_exp"
   ]
  },
  {
   "cell_type": "markdown",
   "metadata": {},
   "source": [
    "### Atividades Dinâmicas:\n",
    "#### 1. WALKING\n",
    "#### 2. WALKING_UPSTAIRS\n",
    "#### 3. WALKING_DOWNSTAIRS\n",
    "\n",
    "### Atividades Estáticas:\n",
    "#### 1. SITTING\n",
    "#### 2. STANDING\n",
    "#### 3. LAYING\n",
    "\n",
    "### Atividades de Transição:\n",
    "#### 1. STAND_TO_SIT\n",
    "#### 2. SIT_TO_STAND\n",
    "#### 3. SIT_TO_LIE\n",
    "#### 4. LIE_TO_SIT\n",
    "#### 5. STAND_TO_LIE\n",
    "#### 6. LIE_TO_STAND"
   ]
  },
  {
   "cell_type": "markdown",
   "metadata": {},
   "source": [
    "#### Função para escrever manualmente as atividades nos plots"
   ]
  },
  {
   "cell_type": "code",
   "execution_count": null,
   "metadata": {},
   "outputs": [],
   "source": [
    "def plot_with_labels(upxvalues, downxvalues, up, down, user, index):\n",
    "    '''\n",
    "    Plots the X, Y, Z axis from the accelerometer\n",
    "            Parameters:\n",
    "                    upxvalues (list): ordenadas para impressão de up (labels a colocar em cima)\n",
    "                    downxvalues (list): ordenadas para impressão de down (labels a colocar em baixo)\n",
    "                    up (list): lista com as labels das atividades\n",
    "                    down (list): list com as labels das atividades\n",
    "                    user (pandas.dataFrame): dataFrame com os dados do user a imprimir.\n",
    "                    index (int): numero da experiência, de modo a imprimir o Numero do Sujeito, bem como da sua experiência\n",
    "    '''\n",
    "    figure, subplots = plt.subplots(nrows=3, ncols=1, figsize=(20,8))\n",
    "    figure.suptitle(f\"Valores Obtidos Pelo Acelerómetro na Experiência {index%2+1} do Sujeito {index//2+1}\", fontsize = 'xx-large')\n",
    "    \n",
    "    #X\n",
    "    subplots[0].plot( user['Time (min)'], user['X'], lw = 0.3)\n",
    "    subplots[0].set_xlabel(\"Time (min)\")\n",
    "    subplots[0].set_ylabel(\"ACC_X\")\n",
    "    subplots[0].set_xlim(0, max(user['Time (min)']))\n",
    "    \n",
    "    #Y\n",
    "    subplots[1].plot( user['Time (min)'], user['Y'], lw = 0.3)\n",
    "    subplots[1].set_xlabel(\"Time (min)\")\n",
    "    subplots[1].set_ylabel(\"ACC_Y\")\n",
    "    subplots[1].set_xlim(0, max(user['Time (min)']))\n",
    "    \n",
    "    #Z\n",
    "    subplots[2].plot( user['Time (min)'], user['Z'], lw = 0.3)\n",
    "    subplots[2].set_xlabel(\"Time (min)\")\n",
    "    subplots[2].set_ylabel(\"ACC_Z\")\n",
    "    subplots[2].set_xlim(0, max(user['Time (min)']))\n",
    "    \n",
    "    xmin,xmax = subplots[0].get_xlim()\n",
    "    \n",
    "    for i in range(len(upxvalues)):\n",
    "        yv = 0.95 if i % 2 == 0 else 0.90\n",
    "        frase = up[i]\n",
    "        xv = upxvalues[i]/xmax\n",
    "        \n",
    "        subplots[0].annotate(xycoords = 'axes fraction', text = frase, xy = (xv,yv), textcoords = subplots[0].transAxes, xytext = (xv,yv), fontweight='bold')\n",
    "        subplots[1].annotate(xycoords = 'axes fraction', text = frase, xy = (xv,yv), textcoords = subplots[1].transAxes, xytext = (xv,yv), fontweight='bold')\n",
    "        subplots[2].annotate(xycoords = 'axes fraction', text = frase, xy = (xv,yv), textcoords = subplots[2].transAxes, xytext = (xv,yv), fontweight='bold')\n",
    "        \n",
    "    yv = 0.01 \n",
    "    for i in range(len(downxvalues)):\n",
    "        frase = down[i]\n",
    "        xv = downxvalues[i]/xmax\n",
    "        \n",
    "        subplots[0].annotate(xycoords = 'axes fraction', text = frase, xy = (xv,yv), textcoords = subplots[0].transAxes, xytext = (xv,yv), fontweight='bold')\n",
    "        subplots[1].annotate(xycoords = 'axes fraction', text = frase, xy = (xv,yv), textcoords = subplots[1].transAxes, xytext = (xv,yv), fontweight='bold')\n",
    "        subplots[2].annotate(xycoords = 'axes fraction', text = frase, xy = (xv,yv), textcoords = subplots[2].transAxes, xytext =(xv,yv), fontweight='bold')\n",
    "    figure.tight_layout()"
   ]
  },
  {
   "cell_type": "markdown",
   "metadata": {},
   "source": [
    "## Visualização das atividades para todas as experiências do nosso dataset"
   ]
  },
  {
   "cell_type": "code",
   "execution_count": null,
   "metadata": {},
   "outputs": [],
   "source": [
    "downintervals = [0.08, 0.44, 0.78,  1.2, 1.6, 1.9, 2.5,  3.2, 4.4, 5, 5.6]\n",
    "upintervals = [0.39, 0.7, 1.1, 1.5, 1.9, 2.1, 2.8, 3.55, 4.7, 5.25, 5.8  ]\n",
    "\n",
    "downlabels = ['STAND', 'SIT', 'STAND','LAY', 'SIT', 'LAY', 'W', 'W','W_D', 'W_D', 'W_D']\n",
    "uplabels = ['STAND_SIT', 'SIT_STAND', 'STAND_LIE', 'LIE_SIT', 'SIT_LIE', 'LIE_STAND', 'W', 'W', 'W_U', 'W_U', 'W_U' ]\n",
    "\n",
    "plot_with_labels(upintervals, downintervals, uplabels, downlabels, user1_1, 0)"
   ]
  },
  {
   "cell_type": "code",
   "execution_count": null,
   "metadata": {},
   "outputs": [],
   "source": [
    "downintervals = [ 0.08, 0.45, 0.75, 1.3, 1.55, 1.95, 2.5, 3.4, 4.4, 5, 5.6]\n",
    "upintervals = [ 0.40, 0.7, 1.15, 1.5, 1.8, 2.1, 2.9, 3.8, 4.75, 5.3, 5.9 ]\n",
    "\n",
    "downlabels = [ 'STAND', \"SIT\", \"STAND\", \"LAY\", \"SIT\", \"LAY\", \"W\", \"W\", \"W_D\", \"W_D\", \"W_D\" ]\n",
    "uplabels = [ \"STAND_SIT\", \"SIT_STAND\", \"STAND_LIE\", \"LIE_SIT\", \"SIT_LIE\", \"LIE_STAND\", \"W\", \"W\", \"W_U\", \"W_U\", \"W_U\" ]\n",
    "\n",
    "plot_with_labels(upintervals, downintervals, uplabels, downlabels,user1_2, 1)"
   ]
  },
  {
   "cell_type": "code",
   "execution_count": null,
   "metadata": {},
   "outputs": [],
   "source": [
    "downintervals = [ 0.12, 0.6, 1, 1.5, 1.85, 2.2, 2.5, 3.4, 4.25, 4.9, 5.4 ]\n",
    "upintervals = [ 0.45, 0.87, 1.3, 1.6, 2.05, 2.5, 2.9, 3.95, 4.6, 5.15 ]\n",
    "\n",
    "downlabels = [ \"STAND\", \"SIT\", \"STAND\", \"LAY\", \"SIT\", \"LIE\", \"W\", \"W\", \"W_U\", \"W_U\", \"W_U\"]\n",
    "uplabels = [ \"STAND_SIT\", \"SIT_STAND\", \"STAND_LIE\", \"LIE_SIT\", \"SIT_LIE\", \"LIE_STAND\", \"W\", \"W_D\", \"W_D\", \"W_D\"]\n",
    "\n",
    "plot_with_labels(upintervals, downintervals, uplabels, downlabels, user2_1, 2)"
   ]
  },
  {
   "cell_type": "code",
   "execution_count": null,
   "metadata": {},
   "outputs": [],
   "source": [
    "downintervals = [ 0.2, 0.6, 0.8, 1.2, 1.5, 1.9, 2.3, 2.95, 3.8, 4.4, 4.9 ]\n",
    "upintervals = [ 0.4, 0.7, 1.1, 1.4, 1.7, 2.05, 2.6, 3.5, 4.1, 4.65 ]\n",
    "\n",
    "downlabels = [ \"STAND\", \"SIT\", \"STAND\", \"LAY\", \"SIT\", \"LIE\", \"W\", \"W\", \"W_U\", \"W_U\", \"W_U\" ]\n",
    "uplabels = [ \"STAND_SIT\",  \"SIT_STAND\", \"STAND_LIE\", \"LIE_SIT\", \"SIT_LIE\", \"LIE_STAND\", \"W\", \"W_D\", \"W_D\", \"W_D\" ]\n",
    "\n",
    "plot_with_labels(upintervals, downintervals, uplabels, downlabels, user2_2, 3)"
   ]
  },
  {
   "cell_type": "code",
   "execution_count": null,
   "metadata": {},
   "outputs": [],
   "source": [
    "downintervals = [ 0.1, 0.55, 0.9, 1.3, 1.7, 2.2, 2.6, 3.6, 4.7, 5.3, 6, 6.6]\n",
    "upintervals = [ 0.45, 0.7, 1.1, 1.6, 1.95, 2.3, 3, 4.3, 5.05, 5.7, 6.3 ]\n",
    "\n",
    "downlabels = [ \"STAND\", \"SIT\", \"STAND\", \"LAY\", \"SIT\", \"LAY\", \"W\", \"W\", \"W_U\", \"W_U\", \"W_U\", \"W_U\"]\n",
    "uplabels = [ \"STAND_SIT\", \"SIT_STAND\", \"STAND_LIE\", \"LIE_SIT\", \"SIT_LIE\", \"LIE_STAND\", \"W\", \"W_D\", \"W_D\", \"W_D\", \"W_D\" ]\n",
    "plot_with_labels(upintervals, downintervals, uplabels, downlabels, user3_1, 4)"
   ]
  },
  {
   "cell_type": "code",
   "execution_count": null,
   "metadata": {},
   "outputs": [],
   "source": [
    "downintervals = [ 0.2, 0.7, 1, 1.5, 1.9, 2.3, 2.6, 3.5, 4.3, 4.9, 5.45 ]\n",
    "upintervals = [ 0.6, 0.8, 1.3, 1.7, 2.1, 2.5, 3, 4, 4.6, 5.2 ]\n",
    "\n",
    "downlabels = [ \"STAND\", \"SIT\", \"STAND\", \"LAY\", \"SIT\", \"LAY\", \"W\", \"W\", \"W_U\", \"W_U\", \"W_U\", \"W_U\"]\n",
    "uplabels = [ \"STAND_SIT\", \"SIT_STAND\", \"STAND_LIE\", \"LIE_SIT\", \"SIT_LIE\", \"LIE_STAND\", \"W\", \"W_D\", \"W_D\", \"W_D\", \"W_D\" ]\n",
    "\n",
    "plot_with_labels(upintervals, downintervals, uplabels, downlabels, user3_2, 5)"
   ]
  },
  {
   "cell_type": "code",
   "execution_count": null,
   "metadata": {},
   "outputs": [],
   "source": [
    "downintervals = [ 0.15, 0.6, 0.9, 1.3, 1.7, 2.1, 2.45, 3.3, 4.3, 4.9, 5.45 ]\n",
    "upintervals = [ 0.4, 0.7, 1.1, 1.6, 1.9, 2.3, 2.9, 3.8, 4.6, 5.2 ]\n",
    "\n",
    "downlabels = [ \"STAND\", \"SIT\", \"STAND\", \"LAY\", \"STAND\", \"LAY\", \"W\", \"W\", \"W_U\", \"W_U\", \"W_U\", \"W_U\"]\n",
    "uplabels = [ \"STAND_SIT\", \"SIT_STAND\", \"STAND_LIE\", \"LIE_STAND\", \"STAND_LIE\", \"LIE_STAND\", \"W\", \"W_D\", \"W_D\", \"W_D\", \"W_D\" ]\n",
    "\n",
    "plot_with_labels(upintervals, downintervals, uplabels, downlabels, user4_1, 6)"
   ]
  },
  {
   "cell_type": "code",
   "execution_count": null,
   "metadata": {},
   "outputs": [],
   "source": [
    "downintervals = [ 0.15, 0.6, 0.9, 1.3, 1.6, 2, 2.4, 3.1, 3.9, 4.4, 4.9 ]\n",
    "upintervals = [ 0.4, 0.7, 1.1, 1.6, 1.9, 2.2, 2.7, 3.6, 4.2, 4.6 ]\n",
    "\n",
    "downlabels = [\"STAND\", \"SIT\", \"STAND\", \"LAY\", \"STAND\", \"LAY\", \"W\", \"W\", \"W_U\", \"W_U\", \"W_U\", \"W_U\"]\n",
    "uplabels = [  \"STAND_SIT\", \"SIT_STAND\", \"STAND_LIE\", \"LIE_STAND\", \"STAND_LIE\", \"LIE_STAND\", \"W\", \"W_D\", \"W_D\", \"W_D\", \"W_D\"  ]\n",
    "\n",
    "plot_with_labels(upintervals, downintervals, uplabels, downlabels, user4_2, 7)"
   ]
  },
  {
   "cell_type": "markdown",
   "metadata": {},
   "source": [
    "## cenas do 3"
   ]
  },
  {
   "cell_type": "code",
   "execution_count": null,
   "metadata": {},
   "outputs": [],
   "source": [
    "#uma segmentação das informações do user, num intervalo [*xi*, *xf*[\n",
    "def ufrag(user, xi, xf):\n",
    "    return user[ (xi<=user['Time (min)']) & (user['Time (min)'] < xf) ].reset_index().drop(\"index\", axis = 1)"
   ]
  },
  {
   "cell_type": "code",
   "execution_count": null,
   "metadata": {},
   "outputs": [],
   "source": [
    "### Dá plot às informações dos 3 eixos de uma fragmentação do utilizador nos subplots *subplots*, com a cor *c*\n",
    "## Para ajudar a análise também dá plot a uma linha com a média dos valores, bem como da média +/- 3* desvio padrão\n",
    "def plot_walk(subplots, user, c):\n",
    "    # subplots -- array com 3 subplots\n",
    "    # c -- string com a cor\n",
    "    # user -- DataFrame com o user\n",
    "    xmean = user['X'].mean()\n",
    "    xstd = user['X'].std()\n",
    "    user.plot( x = 'Time (min)', y = 'X', ax = subplots[0], color = c )\n",
    "    subplots[0].plot( user['Time (min)'], np.full( (len(user['X']), ), xmean ), 'k:')\n",
    "    subplots[0].plot( user['Time (min)'], np.full( (len(user['X']), ), xmean + 3*xstd ), 'r--')\n",
    "    subplots[0].plot( user['Time (min)'], np.full( (len(user['X']), ), xmean - 3*xstd ), 'r--')\n",
    "    subplots[0].set_xlabel(\"Time (min)\")\n",
    "    subplots[0].set_ylabel(\"ACC_X\")\n",
    "    \n",
    "    \n",
    "    ymean = user['Y'].mean()\n",
    "    ystd = user['Y'].std()\n",
    "    user.plot( x = 'Time (min)', y = 'Y', ax = subplots[1], color = c )\n",
    "    subplots[1].plot( user['Time (min)'], np.full( (len(user['Y']), ), ymean ), 'k:')\n",
    "    subplots[1].plot( user['Time (min)'], np.full( (len(user['Y']), ), ymean + 3*ystd ), 'r--')\n",
    "    subplots[1].plot( user['Time (min)'], np.full( (len(user['Y']), ), ymean - 3*ystd ), 'r--')\n",
    "    subplots[1].set_xlabel(\"Time (min)\")\n",
    "    subplots[1].set_ylabel(\"ACC_Y\")\n",
    "    \n",
    "    zmean = user['Z'].mean()\n",
    "    zstd = user['Z'].std()\n",
    "    user.plot( x = 'Time (min)', y = 'Z', ax = subplots[2], color = c )\n",
    "    subplots[2].plot( user['Time (min)'], np.full( (len(user['Z']), ), zmean ), 'k:')\n",
    "    subplots[2].plot( user['Time (min)'], np.full( (len(user['Z']), ), zmean + 3*zstd ), 'r--')\n",
    "    subplots[2].plot( user['Time (min)'], np.full( (len(user['Z']), ), zmean - 3*zstd ), 'r--')\n",
    "    subplots[2].set_xlabel(\"Time (min)\")\n",
    "    subplots[2].set_ylabel(\"ACC_Z\")"
   ]
  },
  {
   "cell_type": "code",
   "execution_count": null,
   "metadata": {},
   "outputs": [],
   "source": [
    "### Dá plot às informações nos eixos das fragmentações do utilizador\n",
    "def plot_user_activity(user_walks, title):\n",
    "    # user_walks -- array com as fragmentações dos dados do utilizador // não deve exceder 4 fragmentações.\n",
    "    figure, subplots = plt.subplots(nrows = 6, ncols= 2, figsize = (15,10))\n",
    "    colors = ['royalblue', 'maroon', 'darkorange', 'olive']\n",
    "    \n",
    "    for i in range(len(user_walks)):\n",
    "        if i < 2:\n",
    "            plot_walk(subplots[:3,i], user_walks[i], colors[i] )\n",
    "            subplots[0,i].set_title(f\"{title} {i+1}\")\n",
    "        else:\n",
    "            plot_walk(subplots[3:,i-2], user_walks[i], colors[i] )\n",
    "            subplots[3,i-2].set_title(f\"{title} {i+1}\")\n",
    "    figure.tight_layout()"
   ]
  },
  {
   "cell_type": "code",
   "execution_count": null,
   "metadata": {},
   "outputs": [],
   "source": [
    "def set_between_std(user):\n",
    "    xmean = user['X'].mean()\n",
    "    xstd = user['X'].std()\n",
    "    user['X'] = user['X'].map(lambda x: (xmean + 2.5*xstd) if (x > xmean + 3*xstd) \n",
    "                              else ( (xmean - 2.5*xstd) if (x < xmean - 3*xstd) \n",
    "                                    else x ) )\n",
    "    \n",
    "    ymean = user['Y'].mean()\n",
    "    ystd = user['Y'].std()\n",
    "    user['Y'] = user['Y'].map(lambda x: (ymean + 2.5*ystd) if (x > ymean + 3*ystd) \n",
    "                              else ( (ymean - 2.5*ystd) if (x < ymean - 3*ystd) \n",
    "                                    else x ) )\n",
    "    \n",
    "    zmean = user['Z'].mean()\n",
    "    zstd = user['Z'].std()\n",
    "    user['Z'] = user['Z'].map(lambda x: (zmean + 2.5*zstd) if (x > zmean + 3*zstd) \n",
    "                              else ( (zmean - 2.5*zstd) if (x < zmean - 3*zstd) \n",
    "                                    else x ) )"
   ]
  },
  {
   "cell_type": "code",
   "execution_count": null,
   "metadata": {},
   "outputs": [],
   "source": [
    "def detrend_user_walk(user):\n",
    "    new = user.copy()\n",
    "    new['X'] = signal.detrend(user['X'])\n",
    "    new['Y'] = signal.detrend(user['Y'])\n",
    "    new['Z'] = signal.detrend(user['Z'])\n",
    "    return new"
   ]
  },
  {
   "cell_type": "markdown",
   "metadata": {},
   "source": [
    "## Fragmentação da atividade dinâmica WALKING\n",
    "### Primeiro Seccionar os intervalos da realização da atividade, de modo a poder operar apenas sobre eles"
   ]
  },
  {
   "cell_type": "markdown",
   "metadata": {},
   "source": [
    "### AVALIAR A PRIMEIRA EXPERIÊNCIA DO PRIMEIRO VOLUNTÁRIO"
   ]
  },
  {
   "cell_type": "code",
   "execution_count": null,
   "metadata": {},
   "outputs": [],
   "source": [
    "unow = user1_1\n",
    "walks_user1_1 = [ ufrag(unow, 2.5, 2.693), ufrag(unow, 2.955, 3.088), ufrag(user1_1, 3.355, 3.488), ufrag(user1_1, 3.715, 3.848)]\n",
    "walks_user1_1_detrended = []\n",
    "for i in walks_user1_1:\n",
    "    walks_user1_1_detrended.append( detrend_user_walk(i) )\n",
    "plot_user_activity(walks_user1_1_detrended, 'WALK')"
   ]
  },
  {
   "cell_type": "markdown",
   "metadata": {},
   "source": [
    "### Pela análise visual dos gráficos acima, a ação aparenta ter uma periodicidade próxima dos 0.019 s"
   ]
  },
  {
   "cell_type": "code",
   "execution_count": null,
   "metadata": {},
   "outputs": [],
   "source": [
    "step = 57\n",
    "plt.figure(figsize = (20,10))\n",
    "plt.subplot(221)\n",
    "for i in range(1,399//step + 1):\n",
    "    plt.plot(walks_user1_1_detrended[0]['Time (min)'][(i-1)*step: i * step], walks_user1_1_detrended[0]['Z'][(i-1)*step: i * step])\n",
    "    \n",
    "plt.subplot(222)\n",
    "for i in range(1,399//step + 1):\n",
    "    plt.plot(walks_user1_1_detrended[1]['Time (min)'][(i-1)*step: i * step], walks_user1_1_detrended[1]['Z'][(i-1)*step: i * step])\n",
    "    \n",
    "plt.subplot(223)\n",
    "for i in range(1,399//step + 1):\n",
    "    plt.plot(walks_user1_1_detrended[2]['Time (min)'][(i-1)*step: i * step], walks_user1_1_detrended[2]['Z'][(i-1)*step: i * step])\n",
    "    \n",
    "plt.subplot(224)\n",
    "for i in range(1,399//step + 1):\n",
    "    plt.plot(walks_user1_1_detrended[3]['Time (min)'][(i-1)*step: i * step], walks_user1_1_detrended[3]['Z'][(i-1)*step: i * step])"
   ]
  },
  {
   "cell_type": "code",
   "execution_count": null,
   "metadata": {},
   "outputs": [],
   "source": [
    "step = 57\n",
    "plt.figure(figsize = (16,8))\n",
    "\n",
    "plt.subplot(221)\n",
    "for i in range(399//step):\n",
    "    values = np.array(walks_user1_1_detrended[0]['Z'])[i*step:(i+1)*step]\n",
    "    plt.plot(range(len(values)), values )\n",
    "\n",
    "plt.subplot(222)\n",
    "for i in range(399//step):\n",
    "    values = np.array(walks_user1_1_detrended[1]['Z'])[i*step:(i+1)*step]\n",
    "    plt.plot(range(len(values)), values )\n",
    "\n",
    "plt.subplot(223)    \n",
    "for i in range(399//step):\n",
    "    values = np.array(walks_user1_1_detrended[1]['Z'])[i*step:(i+1)*step]\n",
    "    plt.plot(range(len(values)), values )\n",
    "\n",
    "plt.subplot(224)\n",
    "for i in range(399//step):\n",
    "    values = np.array(walks_user1_1_detrended[1]['Z'])[i*step:(i+1)*step]\n",
    "    plt.plot(range(len(values)), values )"
   ]
  },
  {
   "cell_type": "markdown",
   "metadata": {},
   "source": [
    "### Como é visível pelos gráficos acima, parece legítimo considerar 57 como um valor aproximado de N para o intervalo criado, havendo uma sobreposição de todas as divisões e aproximando se bastante de um período no gráfico acima. Visualmente, no gráfico anterior, também se verifica que as diferentes cores se assemelham a um período"
   ]
  },
  {
   "cell_type": "markdown",
   "metadata": {},
   "source": [
    "# Fragmentação de Atividades Dinâmicas"
   ]
  },
  {
   "cell_type": "markdown",
   "metadata": {},
   "source": [
    "## Fragmentação em Intervalos: WALKING"
   ]
  },
  {
   "cell_type": "code",
   "execution_count": null,
   "metadata": {},
   "outputs": [],
   "source": [
    "unow = user1_1\n",
    "walks_user1_1 = [ ufrag(unow, 2.5, 2.693), ufrag(unow, 2.8, 3.15), ufrag(unow, 3.3, 3.5), ufrag(unow, 3.6, 3.9)]\n",
    "\n",
    "unow = user1_2\n",
    "walks_user1_2 = [  ufrag(unow, 2.55, 2.7), ufrag(unow, 2.9, 3.2), ufrag(unow, 3.3, 3.6), ufrag(unow, 3.8, 4.1)]\n",
    "\n",
    "unow = user2_1\n",
    "walks_user2_1 = [ ufrag(unow, 2.5, 2.725), ufrag(unow, 2.9, 3.125), ufrag(unow, 3.3, 3.525) ]\n",
    "\n",
    "unow = user2_2\n",
    "walks_user2_2 = [ ufrag(unow, 2.2, 2.37), ufrag(unow, 2.5, 2.8), ufrag(unow, 2.9, 3.22) ]\n",
    "\n",
    "unow = user3_1\n",
    "walks_user3_1 = [ ufrag(unow, 2.55, 2.7), ufrag(unow, 2.9, 3.2), ufrag(unow, 3.5, 3.7) ]\n",
    "\n",
    "unow = user3_2\n",
    "walks_user3_2 = [ ufrag(unow, 2.65, 2.8), ufrag(unow, 2.9, 3.2), ufrag(unow, 3.4, 3.6) ]\n",
    "\n",
    "unow = user4_1\n",
    "walks_user4_1 = [ ufrag(unow, 2.5, 2.6), ufrag(unow, 2.7, 3.05), ufrag(unow, 3.2, 3.5) ]\n",
    "\n",
    "unow = user4_2\n",
    "walks_user4_2 = [ ufrag(unow, 2.3, 2.5), ufrag(unow, 2.6, 2.9), ufrag(unow, 3.05, 3.3) ]\n",
    "\n",
    "walks_user1_1_detrended = []\n",
    "for i in walks_user1_1:\n",
    "    walks_user1_1_detrended.append( detrend_user_walk(i) )\n",
    "    \n",
    "walks_user1_2_detrended = []\n",
    "for i in walks_user1_2:\n",
    "    walks_user1_2_detrended.append( detrend_user_walk(i) )\n",
    "    \n",
    "walks_user2_1_detrended = []\n",
    "for i in walks_user2_1:\n",
    "    walks_user2_1_detrended.append( detrend_user_walk(i) )\n",
    "    \n",
    "walks_user2_2_detrended = []\n",
    "for i in walks_user2_2:\n",
    "    walks_user2_2_detrended.append( detrend_user_walk(i) )\n",
    "    \n",
    "walks_user3_1_detrended = []\n",
    "for i in walks_user3_1:\n",
    "    walks_user3_1_detrended.append( detrend_user_walk(i) )\n",
    "\n",
    "walks_user3_2_detrended = []\n",
    "for i in walks_user3_2:\n",
    "    walks_user3_2_detrended.append( detrend_user_walk(i) )\n",
    "\n",
    "walks_user4_1_detrended = []\n",
    "for i in walks_user4_1:\n",
    "    walks_user4_1_detrended.append( detrend_user_walk(i) )\n",
    "    \n",
    "walks_user4_2_detrended = []\n",
    "for i in walks_user4_2:\n",
    "    walks_user4_2_detrended.append( detrend_user_walk(i) )\n"
   ]
  },
  {
   "cell_type": "markdown",
   "metadata": {},
   "source": [
    "## Fragmentação de Intervalos: WALKING UPSTAIRS"
   ]
  },
  {
   "cell_type": "code",
   "execution_count": null,
   "metadata": {},
   "outputs": [],
   "source": [
    "unow = user1_1\n",
    "walks_up_user1_1 = [ ufrag(unow, 4.7, 4.9), ufrag(unow, 5.25, 5.456), ufrag(unow, 5.75, 6) ]\n",
    "\n",
    "unow = user1_2\n",
    "walks_up_user1_2 = [  ufrag(unow, 4.71, 4.95), ufrag(unow, 5.3, 5.54), ufrag(unow, 5.9, 6.13)]\n",
    "\n",
    "unow = user2_1\n",
    "walks_up_user2_1 = [ ufrag(unow, 4.2, 4.435), ufrag(unow, 4.84, 5.01), ufrag(unow, 5.42, 5.63) ]\n",
    "\n",
    "unow = user2_2\n",
    "walks_up_user2_2 = [ ufrag(unow, 3.75, 3.99), ufrag(unow, 4.31, 4.5), ufrag(unow, 4.88, 5.1) ]\n",
    "\n",
    "unow = user3_1\n",
    "walks_up_user3_1 = [ ufrag(unow, 4.66, 4.92), ufrag(unow, 5.33, 5.54), ufrag(unow, 5.92, 6.15), ufrag(unow, 6.5, 6.72) ]\n",
    "\n",
    "unow = user3_2\n",
    "walks_up_user3_2 = [ ufrag(unow, 4.23, 4.47), ufrag(unow, 4.85, 5.05), ufrag(unow, 5.35, 5.6) ]\n",
    "\n",
    "unow = user4_1\n",
    "walks_up_user4_1 = [ ufrag(unow, 4.21, 4.49), ufrag(unow, 4.84, 5.1), ufrag(unow, 5.38, 5.6) ]\n",
    "\n",
    "unow = user4_2\n",
    "walks_up_user4_2 = [ ufrag(unow, 3.8, 4), ufrag(unow, 4.3, 4.54), ufrag(unow, 4.8, 5) ]\n",
    "\n",
    "walks_up_user1_1_detrended = []\n",
    "for i in walks_up_user1_1:\n",
    "    walks_up_user1_1_detrended.append( detrend_user_walk(i) )\n",
    "    \n",
    "walks_up_user1_2_detrended = []\n",
    "for i in walks_up_user1_2:\n",
    "    walks_up_user1_2_detrended.append( detrend_user_walk(i) )\n",
    "    \n",
    "walks_up_user2_1_detrended = []\n",
    "for i in walks_up_user2_1:\n",
    "    walks_up_user2_1_detrended.append( detrend_user_walk(i) )\n",
    "    \n",
    "walks_up_user2_2_detrended = []\n",
    "for i in walks_up_user2_2:\n",
    "    walks_up_user2_2_detrended.append( detrend_user_walk(i) )\n",
    "    \n",
    "walks_up_user3_1_detrended = []\n",
    "for i in walks_up_user3_1:\n",
    "    walks_up_user3_1_detrended.append( detrend_user_walk(i) )\n",
    "\n",
    "walks_up_user3_2_detrended = []\n",
    "for i in walks_up_user3_2:\n",
    "    walks_up_user3_2_detrended.append( detrend_user_walk(i) )\n",
    "\n",
    "walks_up_user4_1_detrended = []\n",
    "for i in walks_up_user4_1:\n",
    "    walks_up_user4_1_detrended.append( detrend_user_walk(i) )\n",
    "    \n",
    "walks_up_user4_2_detrended = []\n",
    "for i in walks_up_user4_2:\n",
    "    walks_up_user4_2_detrended.append( detrend_user_walk(i) )"
   ]
  },
  {
   "cell_type": "markdown",
   "metadata": {},
   "source": [
    "## Fragmentação em Intervalos: WALKING DOWNSTAIRS"
   ]
  },
  {
   "cell_type": "code",
   "execution_count": null,
   "metadata": {},
   "outputs": [],
   "source": [
    "unow = user1_1\n",
    "walks_down_user1_1 = [ ufrag(unow, 4.4, 4.65), ufrag(unow, 4.95, 5.15), ufrag(unow, 5.5, 5.74) ]\n",
    "\n",
    "unow = user1_2\n",
    "walks_down_user1_2 = [  ufrag(unow, 4.5, 4.65), ufrag(unow, 5, 5.23), ufrag(unow, 5.6, 5.83)]\n",
    "\n",
    "unow = user2_1\n",
    "walks_down_user2_1 = [ ufrag(unow, 3.89, 4.14), ufrag(unow, 4.54, 4.75), ufrag(unow, 5.15, 5.34) ]\n",
    "\n",
    "unow = user2_2\n",
    "walks_down_user2_2 = [ ufrag(unow, 3.47, 3.68), ufrag(unow, 4.05, 4.24), ufrag(unow, 4.62, 4.82) ]\n",
    "\n",
    "unow = user3_1\n",
    "walks_down_user3_1 = [ ufrag(unow, 4.22, 4.51), ufrag(unow, 5.03, 5.22), ufrag(unow, 5.64, 5.85), ufrag(unow, 6.26, 6.43) ]\n",
    "\n",
    "unow = user3_2\n",
    "walks_down_user3_2 = [ ufrag(unow, 3.89, 4.15), ufrag(unow, 4.54, 4.78), ufrag(unow, 5.1, 5.32) ]\n",
    "\n",
    "unow = user4_1\n",
    "walks_down_user4_1 = [ ufrag(unow, 3.77, 4), ufrag(unow, 4.53, 4.79), ufrag(unow, 5.12, 5.36) ]\n",
    "\n",
    "unow = user4_2\n",
    "walks_down_user4_2 = [ ufrag(unow, 3.53, 3.76), ufrag(unow, 4.05, 4.27), ufrag(unow, 4.575, 4.76) ]\n",
    "\n",
    "walks_down_user1_1_detrended = []\n",
    "for i in walks_down_user1_1:\n",
    "    walks_down_user1_1_detrended.append( detrend_user_walk(i) )\n",
    "    \n",
    "walks_down_user1_2_detrended = []\n",
    "for i in walks_down_user1_2:\n",
    "    walks_down_user1_2_detrended.append( detrend_user_walk(i) )\n",
    "    \n",
    "walks_down_user2_1_detrended = []\n",
    "for i in walks_down_user2_1:\n",
    "    walks_down_user2_1_detrended.append( detrend_user_walk(i) )\n",
    "    \n",
    "walks_down_user2_2_detrended = []\n",
    "for i in walks_down_user2_2:\n",
    "    walks_down_user2_2_detrended.append( detrend_user_walk(i) )\n",
    "    \n",
    "walks_down_user3_1_detrended = []\n",
    "for i in walks_down_user3_1:\n",
    "    walks_down_user3_1_detrended.append( detrend_user_walk(i) )\n",
    "\n",
    "walks_down_user3_2_detrended = []\n",
    "for i in walks_down_user3_2:\n",
    "    walks_down_user3_2_detrended.append( detrend_user_walk(i) )\n",
    "\n",
    "walks_down_user4_1_detrended = []\n",
    "for i in walks_down_user4_1:\n",
    "    walks_down_user4_1_detrended.append( detrend_user_walk(i) )\n",
    "    \n",
    "walks_down_user4_2_detrended = []\n",
    "for i in walks_down_user4_2:\n",
    "    walks_down_user4_2_detrended.append( detrend_user_walk(i) )"
   ]
  },
  {
   "cell_type": "markdown",
   "metadata": {},
   "source": [
    "# Fragmentação de Atividades Estacionárias"
   ]
  },
  {
   "cell_type": "markdown",
   "metadata": {},
   "source": [
    "## Fragmentação em Intervalos: STAND"
   ]
  },
  {
   "cell_type": "code",
   "execution_count": null,
   "metadata": {},
   "outputs": [],
   "source": [
    "unow = user1_1\n",
    "stand_user1_1 = [ ufrag(unow, 0.09, 0.4), ufrag(unow, 0.79, 1.09) ]\n",
    "\n",
    "unow = user1_2\n",
    "stand_user1_2 = [ ufrag(unow, 0.09, 0.4), ufrag(unow, 0.8, 1.08) ]\n",
    "\n",
    "unow = user2_1\n",
    "stand_user2_1 = [ ufrag(unow, 0.13, 0.45), ufrag(unow, 0.93, 1.26) ]\n",
    "\n",
    "unow = user2_2\n",
    "stand_user2_2 = [ ufrag(unow, 0.19, 0.44), ufrag(unow, 0.82, 1)]\n",
    "\n",
    "unow = user3_1\n",
    "stand_user3_1 = [ ufrag(unow, 0.12, 0.43), ufrag(unow, 0.83, 1.15)]\n",
    "\n",
    "unow = user3_2\n",
    "stand_user3_2 = [ ufrag(unow, 0.19, 0.49), ufrag(unow, 1, 1.26)]\n",
    "\n",
    "unow = user4_1\n",
    "stand_user4_1 = [ ufrag(unow, 0.145, 0.42), ufrag(unow, 0.85, 1.09) ]\n",
    "\n",
    "unow = user4_2\n",
    "stand_user4_2 = [ ufrag(unow, 0.11, 0.43), ufrag(unow, 0.87, 1.12) ]\n",
    "\n",
    "stand_user1_1_detrended = []\n",
    "for i in stand_user1_1:\n",
    "    stand_user1_1_detrended.append( detrend_user_walk(i) )\n",
    "    \n",
    "stand_user1_2_detrended = []\n",
    "for i in stand_user1_2:\n",
    "    stand_user1_2_detrended.append( detrend_user_walk(i) )\n",
    "    \n",
    "stand_user2_1_detrended = []\n",
    "for i in stand_user2_1:\n",
    "    stand_user2_1_detrended.append( detrend_user_walk(i) )\n",
    "    \n",
    "stand_user2_2_detrended = []\n",
    "for i in stand_user2_2:\n",
    "    stand_user2_2_detrended.append( detrend_user_walk(i) )\n",
    "    \n",
    "stand_user3_1_detrended = []\n",
    "for i in stand_user3_1:\n",
    "    stand_user3_1_detrended.append( detrend_user_walk(i) )\n",
    "\n",
    "stand_user3_2_detrended = []\n",
    "for i in stand_user3_2:\n",
    "    stand_user3_2_detrended.append( detrend_user_walk(i) )\n",
    "\n",
    "stand_user4_1_detrended = []\n",
    "for i in stand_user4_1:\n",
    "    stand_user4_1_detrended.append( detrend_user_walk(i) )\n",
    "    \n",
    "stand_user4_2_detrended = []\n",
    "for i in stand_user4_2:\n",
    "    stand_user4_2_detrended.append( detrend_user_walk(i) )"
   ]
  },
  {
   "cell_type": "markdown",
   "metadata": {},
   "source": [
    "## Fragmentação em Intervalos: SIT"
   ]
  },
  {
   "cell_type": "code",
   "execution_count": null,
   "metadata": {},
   "outputs": [],
   "source": [
    "unow = user1_1\n",
    "sit_user1_1 = [ ufrag(unow, 0.47, 0.73), ufrag(unow, 1.59, 1.88) ]\n",
    "\n",
    "unow = user1_2\n",
    "sit_user1_2 = [ ufrag(unow, 0.47, 0.74), ufrag(unow, 1.54, 1.81) ]\n",
    "\n",
    "unow = user2_1\n",
    "sit_user2_1 = [ ufrag(unow, 0.58, 0.87), ufrag(unow, 1.82, 2.05) ]\n",
    "\n",
    "unow = user2_2\n",
    "sit_user2_2 = [ ufrag(unow, 0.52, 0.76), ufrag(unow, 1.50, 1.76)]\n",
    "\n",
    "unow = user3_1\n",
    "sit_user3_1 = [ ufrag(unow, 0.51, 0.78), ufrag(unow, 1.71, 2)]\n",
    "\n",
    "unow = user3_2\n",
    "sit_user3_2 = [ ufrag(unow, 0.56, 0.85), ufrag(unow, 1.85, 2.13)]\n",
    "\n",
    "unow = user4_1\n",
    "sit_user4_1 = [ ufrag(unow, 0.53, 0.79), ufrag(unow, 1.68, 1.96) ]\n",
    "\n",
    "unow = user4_2\n",
    "sit_user4_2 = [ ufrag(unow, 0.50, 0.80), ufrag(unow, 1.62, 1.85) ]\n",
    "\n",
    "sit_user1_1_detrended = []\n",
    "for i in sit_user1_1:\n",
    "    sit_user1_1_detrended.append( detrend_user_walk(i) )\n",
    "    \n",
    "sit_user1_2_detrended = []\n",
    "for i in sit_user1_2:\n",
    "    sit_user1_2_detrended.append( detrend_user_walk(i) )\n",
    "    \n",
    "sit_user2_1_detrended = []\n",
    "for i in sit_user2_1:\n",
    "    sit_user2_1_detrended.append( detrend_user_walk(i) )\n",
    "    \n",
    "sit_user2_2_detrended = []\n",
    "for i in sit_user2_2:\n",
    "    sit_user2_2_detrended.append( detrend_user_walk(i) )\n",
    "    \n",
    "sit_user3_1_detrended = []\n",
    "for i in sit_user3_1:\n",
    "    sit_user3_1_detrended.append( detrend_user_walk(i) )\n",
    "\n",
    "sit_user3_2_detrended = []\n",
    "for i in sit_user3_2:\n",
    "    sit_user3_2_detrended.append( detrend_user_walk(i) )\n",
    "\n",
    "sit_user4_1_detrended = []\n",
    "for i in sit_user4_1:\n",
    "    sit_user4_1_detrended.append( detrend_user_walk(i) )\n",
    "    \n",
    "sit_user4_2_detrended = []\n",
    "for i in sit_user4_2:\n",
    "    sit_user4_2_detrended.append( detrend_user_walk(i) )"
   ]
  },
  {
   "cell_type": "markdown",
   "metadata": {},
   "source": [
    "## Fragmentação em Intervalos: LAY"
   ]
  },
  {
   "cell_type": "code",
   "execution_count": null,
   "metadata": {},
   "outputs": [],
   "source": [
    "unow = user1_1\n",
    "lay_user1_1 = [ ufrag(unow, 1.22, 1.51), ufrag(unow, 2.05, 2.26) ]\n",
    "\n",
    "unow = user1_2\n",
    "lay_user1_2 = [ ufrag(unow, 1.20, 1.47), ufrag(unow, 1.94, 2.14) ]\n",
    "\n",
    "unow = user2_1\n",
    "lay_user2_1 = [ ufrag(unow, 1.42, 1.70), ufrag(unow, 2.13, 2.45) ]\n",
    "\n",
    "unow = user2_2\n",
    "lay_user2_2 = [ ufrag(unow, 1.18, 1.44), ufrag(unow, 1.85, 2.12)]\n",
    "\n",
    "unow = user3_1\n",
    "lay_user3_1 = [ ufrag(unow, 1.30, 1.61), ufrag(unow, 2.08, 2.45)]\n",
    "\n",
    "unow = user3_2\n",
    "lay_user3_2 = [ ufrag(unow, 1.38, 1.72), ufrag(unow, 2.20, 2.57)]\n",
    "\n",
    "unow = user4_1\n",
    "lay_user4_1 = [ ufrag(unow, 1.28, 1.58), ufrag(unow, 2.10, 2.36) ]\n",
    "\n",
    "unow = user4_2\n",
    "lay_user4_2 = [ ufrag(unow, 1.26, 1.52), ufrag(unow, 1.95, 2.23) ]\n",
    "\n",
    "lay_user1_1_detrended = []\n",
    "for i in lay_user1_1:\n",
    "    lay_user1_1_detrended.append( detrend_user_walk(i) )\n",
    "    \n",
    "lay_user1_2_detrended = []\n",
    "for i in lay_user1_2:\n",
    "    lay_user1_2_detrended.append( detrend_user_walk(i) )\n",
    "    \n",
    "lay_user2_1_detrended = []\n",
    "for i in lay_user2_1:\n",
    "    lay_user2_1_detrended.append( detrend_user_walk(i) )\n",
    "    \n",
    "lay_user2_2_detrended = []\n",
    "for i in lay_user2_2:\n",
    "    lay_user2_2_detrended.append( detrend_user_walk(i) )\n",
    "    \n",
    "lay_user3_1_detrended = []\n",
    "for i in lay_user3_1:\n",
    "    lay_user3_1_detrended.append( detrend_user_walk(i) )\n",
    "\n",
    "lay_user3_2_detrended = []\n",
    "for i in lay_user3_2:\n",
    "    lay_user3_2_detrended.append( detrend_user_walk(i) )\n",
    "\n",
    "lay_user4_1_detrended = []\n",
    "for i in lay_user4_1:\n",
    "    lay_user4_1_detrended.append( detrend_user_walk(i) )\n",
    "    \n",
    "lay_user4_2_detrended = []\n",
    "for i in lay_user4_2:\n",
    "    lay_user4_2_detrended.append( detrend_user_walk(i) )"
   ]
  },
  {
   "cell_type": "markdown",
   "metadata": {},
   "source": [
    "# Fragmentação de Atividades de Transição"
   ]
  },
  {
   "cell_type": "markdown",
   "metadata": {},
   "source": [
    "## Fragmentação em Intervalos: STAND_SIT"
   ]
  },
  {
   "cell_type": "code",
   "execution_count": null,
   "metadata": {},
   "outputs": [],
   "source": [
    "unow = user1_1\n",
    "stand_sit_user1_1 = ufrag(unow, 0.42, 0.46)\n",
    "stand_sit_user1_1_detrended = detrend_user_walk(stand_sit_user1_1)\n",
    "\n",
    "unow = user1_2\n",
    "stand_sit_user1_2 = ufrag(unow, 0.41, 0.45)\n",
    "stand_sit_user1_2_detrended = detrend_user_walk(stand_sit_user1_2)\n",
    "\n",
    "unow = user2_1\n",
    "stand_sit_user2_1 = ufrag(unow, 0.455, 0.56)\n",
    "stand_sit_user2_1_detrended = detrend_user_walk(stand_sit_user2_1)\n",
    "\n",
    "unow = user2_2\n",
    "stand_sit_user2_2 = ufrag(unow, 0.45, 0.51)\n",
    "stand_sit_user2_2_detrended = detrend_user_walk(stand_sit_user2_2)\n",
    "\n",
    "unow = user3_1\n",
    "stand_sit_user3_1 = ufrag(unow, 0.44, 0.52)\n",
    "stand_sit_user3_1_detrended = detrend_user_walk(stand_sit_user3_1)\n",
    "\n",
    "unow = user3_2\n",
    "stand_sit_user3_2 = ufrag(unow, 0.50, 0.55)\n",
    "stand_sit_user3_2_detrended = detrend_user_walk(stand_sit_user3_2)\n",
    "\n",
    "unow = user4_1\n",
    "stand_sit_user4_1 = ufrag(unow, 0.42, 0.52)\n",
    "stand_sit_user4_1_detrended = detrend_user_walk(stand_sit_user4_1)\n",
    "\n",
    "unow = user4_2\n",
    "stand_sit_user4_2 = ufrag(unow, 0.43, 0.49)\n",
    "stand_sit_user4_2_detrended = detrend_user_walk(stand_sit_user4_2)"
   ]
  },
  {
   "cell_type": "markdown",
   "metadata": {},
   "source": [
    "## Fragmentação em Intervalos: SIT_STAND"
   ]
  },
  {
   "cell_type": "code",
   "execution_count": null,
   "metadata": {},
   "outputs": [],
   "source": [
    "unow = user1_1\n",
    "sit_stand_user1_1 = ufrag(unow, 0.73, 0.78)\n",
    "sit_stand_user1_1_detrended = detrend_user_walk(sit_stand_user1_1)\n",
    "\n",
    "unow = user1_2\n",
    "sit_stand_user1_2 = ufrag(unow, 0.74, 0.79)\n",
    "sit_stand_user1_2_detrended = detrend_user_walk(sit_stand_user1_2)\n",
    "\n",
    "unow = user2_1\n",
    "sit_stand_user2_1 = ufrag(unow, 0.88, 0.91)\n",
    "sit_stand_user2_1_detrended = detrend_user_walk(sit_stand_user2_1)\n",
    "\n",
    "unow = user2_2\n",
    "sit_stand_user2_2 = ufrag(unow, 0.76, 0.82)\n",
    "sit_stand_user2_2_detrended = detrend_user_walk(sit_stand_user2_2)\n",
    "\n",
    "unow = user3_1\n",
    "sit_stand_user3_1 = ufrag(unow, 0.78, 0.83)\n",
    "sit_stand_user3_1_detrended = detrend_user_walk(sit_stand_user3_1)\n",
    "\n",
    "unow = user3_2\n",
    "sit_stand_user3_2 = ufrag(unow, 0.84, 1)\n",
    "sit_stand_user3_2_detrended = detrend_user_walk(sit_stand_user3_2)\n",
    "\n",
    "unow = user4_1\n",
    "sit_stand_user4_1 = ufrag(unow, 0.79, 0.84)\n",
    "sit_stand_user4_1_detrended = detrend_user_walk(sit_stand_user4_1)\n",
    "\n",
    "unow = user4_2\n",
    "sit_stand_user4_2 = ufrag(unow, 0.80, 0.87)\n",
    "sit_stand_user4_2_detrended = detrend_user_walk(sit_stand_user4_2)"
   ]
  },
  {
   "cell_type": "markdown",
   "metadata": {},
   "source": [
    "## Fragmentação em Intervalos: STAND_LIE"
   ]
  },
  {
   "cell_type": "code",
   "execution_count": null,
   "metadata": {},
   "outputs": [],
   "source": [
    "unow = user1_1\n",
    "stand_lie_user1_1 = ufrag(unow, 1.1, 1.21)\n",
    "stand_lie_user1_1_detrended = detrend_user_walk(stand_lie_user1_1)\n",
    "\n",
    "unow = user1_2\n",
    "stand_lie_user1_2 = ufrag(unow, 1.08, 1.19)\n",
    "stand_lie_user1_2_detrended = detrend_user_walk(stand_lie_user1_2)\n",
    "\n",
    "unow = user2_1\n",
    "stand_lie_user2_1 = ufrag(unow, 1.33, 1.45)\n",
    "stand_lie_user2_1_detrended = detrend_user_walk(stand_lie_user2_1)\n",
    "\n",
    "unow = user2_2\n",
    "stand_lie_user2_2 = ufrag(unow, 1.10, 1.19)\n",
    "stand_lie_user2_2_detrended = detrend_user_walk(stand_lie_user2_2)\n",
    "\n",
    "unow = user3_1\n",
    "stand_lie_user3_1 = ufrag(unow, 1.19, 1.31)\n",
    "stand_lie_user3_1_detrended = detrend_user_walk(stand_lie_user3_1)\n",
    "\n",
    "unow = user3_2\n",
    "stand_lie_user3_2 = ufrag(unow, 1.29, 1.39)\n",
    "stand_lie_user3_2_detrended = detrend_user_walk(stand_lie_user3_2)\n",
    "\n",
    "unow = user4_1\n",
    "stand_lie_user4_1 = ufrag(unow, 1.11, 1.28)\n",
    "stand_lie_user4_1_detrended = detrend_user_walk(stand_lie_user4_1)\n",
    "\n",
    "unow = user4_2\n",
    "stand_lie_user4_2 = ufrag(unow, 1.13, 1.28)\n",
    "stand_lie_user4_2_detrended = detrend_user_walk(stand_lie_user4_2)"
   ]
  },
  {
   "cell_type": "markdown",
   "metadata": {},
   "source": [
    "## Fragmentação em Intervalos: LIE_SIT"
   ]
  },
  {
   "cell_type": "code",
   "execution_count": null,
   "metadata": {},
   "outputs": [],
   "source": [
    "unow = user1_1\n",
    "lie_sit_user1_1 = ufrag(unow, 1.5, 1.57)\n",
    "lie_sit_user1_1_detrended = detrend_user_walk(lie_sit_user1_1)\n",
    "\n",
    "unow = user1_2\n",
    "lie_sit_user1_2 = ufrag(unow, 1.48, 1.54)\n",
    "lie_sit_user1_2_detrended = detrend_user_walk(lie_sit_user1_2)\n",
    "\n",
    "unow = user2_1\n",
    "lie_sit_user2_1 = ufrag(unow, 1.71, 1.81)\n",
    "lie_sit_user2_1_detrended = detrend_user_walk(lie_sit_user2_1)\n",
    "\n",
    "unow = user2_2\n",
    "lie_sit_user2_2 = ufrag(unow, 1.44, 1.50)\n",
    "lie_sit_user2_2_detrended = detrend_user_walk(lie_sit_user2_2)\n",
    "\n",
    "unow = user3_1\n",
    "lie_sit_user3_1 = ufrag(unow, 1.61, 1.70)\n",
    "lie_sit_user3_1_detrended = detrend_user_walk(lie_sit_user3_1)\n",
    "\n",
    "unow = user3_2\n",
    "lie_sit_user3_2 = ufrag(unow, 1.73, 1.83)\n",
    "lie_sit_user3_2_detrended = detrend_user_walk(lie_sit_user3_2)\n",
    "\n",
    "unow = user4_1\n",
    "lie_sit_user4_1 = ufrag(unow, 1.60, 1.68)\n",
    "lie_sit_user4_1_detrended = detrend_user_walk(lie_sit_user4_1)\n",
    "\n",
    "unow = user4_2\n",
    "lie_sit_user4_2 = ufrag(unow, 1.52, 1.60)\n",
    "lie_sit_user4_2_detrended = detrend_user_walk(lie_sit_user4_2)"
   ]
  },
  {
   "cell_type": "markdown",
   "metadata": {},
   "source": [
    "## Fragmentação em Intervalos: SIT_LIE"
   ]
  },
  {
   "cell_type": "code",
   "execution_count": null,
   "metadata": {},
   "outputs": [],
   "source": [
    "unow = user1_1\n",
    "sit_lie_user1_1 = ufrag(unow, 1.88, 1.96)\n",
    "sit_lie_user1_1_detrended = detrend_user_walk(sit_lie_user1_1)\n",
    "\n",
    "unow = user1_2\n",
    "sit_lie_user1_2 = ufrag(unow, 1.82, 1.92)\n",
    "sit_lie_user1_2_detrended = detrend_user_walk(sit_lie_user1_2)\n",
    "\n",
    "unow = user2_1\n",
    "sit_lie_user2_1 = ufrag(unow, 2.05, 2.14)\n",
    "sit_lie_user2_1_detrended = detrend_user_walk(sit_lie_user2_1)\n",
    "\n",
    "unow = user2_2\n",
    "sit_lie_user2_2 = ufrag(unow, 1.76, 1.85)\n",
    "sit_lie_user2_2_detrended = detrend_user_walk(sit_lie_user2_2)\n",
    "\n",
    "unow = user3_1\n",
    "sit_lie_user3_1 = ufrag(unow, 2, 2.1)\n",
    "sit_lie_user3_1_detrended = detrend_user_walk(sit_lie_user3_1)\n",
    "\n",
    "unow = user3_2\n",
    "sit_lie_user3_2 = ufrag(unow, 2.13, 2.20)\n",
    "sit_lie_user3_2_detrended = detrend_user_walk(sit_lie_user3_2)\n",
    "\n",
    "unow = user4_1\n",
    "sit_lie_user4_1 = ufrag(unow, 1.95, 2.08)\n",
    "sit_lie_user4_1_detrended = detrend_user_walk(sit_lie_user4_1)\n",
    "\n",
    "unow = user4_2\n",
    "sit_lie_user4_2 = ufrag(unow, 1.86, 1.94)\n",
    "sit_lie_user4_2_detrended = detrend_user_walk(sit_lie_user4_2)"
   ]
  },
  {
   "cell_type": "markdown",
   "metadata": {},
   "source": [
    "## Fragmentação em Intervalos: LIE_STAND"
   ]
  },
  {
   "cell_type": "code",
   "execution_count": null,
   "metadata": {},
   "outputs": [],
   "source": [
    "unow = user1_1\n",
    "lie_stand_user1_1 = ufrag(unow, 2.26, 2.35)\n",
    "lie_stand_user1_1_detrended = detrend_user_walk(lie_stand_user1_1)\n",
    "\n",
    "unow = user1_2\n",
    "lie_stand_user1_2 = ufrag(unow, 2.15, 2.26)\n",
    "lie_stand_user1_2_detrended = detrend_user_walk(lie_stand_user1_2)\n",
    "\n",
    "unow = user2_1\n",
    "lie_stand_user2_1 = ufrag(unow, 2.45, 2.54)\n",
    "lie_stand_user2_1_detrended = detrend_user_walk(lie_stand_user2_1)\n",
    "\n",
    "unow = user2_2\n",
    "lie_stand_user2_2 = ufrag(unow, 2.14, 2.22)\n",
    "lie_stand_user2_2_detrended = detrend_user_walk(lie_stand_user2_2)\n",
    "\n",
    "unow = user3_1\n",
    "lie_stand_user3_1 = ufrag(unow, 2.46, 2.54)\n",
    "lie_stand_user3_1_detrended = detrend_user_walk(lie_stand_user3_1)\n",
    "\n",
    "unow = user3_2\n",
    "lie_stand_user3_2 = ufrag(unow, 2.57, 2.6)\n",
    "lie_stand_user3_2_detrended = detrend_user_walk(lie_stand_user3_2)\n",
    "\n",
    "unow = user4_1\n",
    "lie_stand_user4_1 = ufrag(unow, 2.36, 2.4)\n",
    "lie_stand_user4_1_detrended = detrend_user_walk(lie_stand_user4_1)\n",
    "\n",
    "unow = user4_2\n",
    "lie_stand_user4_2 = ufrag(unow, 2.23, 2.27)\n",
    "lie_stand_user4_2_detrended = detrend_user_walk(lie_stand_user4_2)"
   ]
  },
  {
   "cell_type": "markdown",
   "metadata": {},
   "source": [
    "### Função para dar plot ao fragmento correspondente de uma atividade\n",
    "* user_frag_act -> nome do fragmento\n",
    "* N -> size do fragmento\n",
    "* user -> nº do user\n",
    "* exp -> nº da experiência do user\n",
    "* title -> titlo da atividade\n",
    "* zeros -> True = plot grafico com frequências acima de percent\n",
    "* percent -> ignorar freqências abaixo de percent da magnitude maxima\n",
    "* wind_title -> nome da janela que está a ser aplicada ás DFT\n",
    "* plotit -> True = dar plot ao grafico"
   ]
  },
  {
   "cell_type": "code",
   "execution_count": null,
   "metadata": {},
   "outputs": [],
   "source": [
    "def plot_activity_dft(user_frag_act, N, user, exp, title, zeros, percent, wind_title, plotit):\n",
    "    fs = 50\n",
    "    if N%2==0:\n",
    "        f = np.linspace( -fs/2, fs/2 - fs/N, N) \n",
    "    else:\n",
    "        f = np.linspace( -fs/2 + fs/2/N, fs/2 - fs/2/N, N)\n",
    "    \n",
    "    if wind_title.lower()=='blackman':\n",
    "        window = np.blackman(N)\n",
    "    elif wind_title.lower()=='hamming':\n",
    "        window = np.hamming(N)\n",
    "    elif wind_title.lower()=='hann':\n",
    "        window = signal.windows.hann(N)\n",
    "    elif wind_title.lower()=='rect':\n",
    "        window = np.ones(f.shape)\n",
    "    elif wind_title.lower()=='black_harris':\n",
    "        window = signal.windows.blackmanharris(N)\n",
    "    \n",
    "    dfts = []\n",
    "    dfts.append( np.abs( fftshift( fft( user_frag_act['X'] * window ) ) ) ) \n",
    "    dfts.append( np.abs( fftshift( fft( user_frag_act['Y'] * window ) ) ) )\n",
    "    dfts.append( np.abs( fftshift( fft( user_frag_act['Z'] * window ) ) ) )\n",
    "    \n",
    "    if plotit:\n",
    "    \n",
    "        figure, subplots = plt.subplots(nrows = 1, ncols= 3, figsize = (20,5))\n",
    "        figure.suptitle(f'DFT de {title} - Experiência {exp} do User {user} -- Window: {wind_title}', fontsize = 'xx-large')\n",
    "    \n",
    "        if zeros:\n",
    "            for i in range(3):\n",
    "                dfts[i][ dfts[i]<np.max(dfts[i])*percent ] = 0\n",
    "        else:\n",
    "            for i in range(3):\n",
    "                subplots[i].plot(f, np.full((len(f),),np.max(dfts[i])*percent), 'r')\n",
    "        \n",
    "        for i in range(3):\n",
    "            marker, stem, base = subplots[i].stem(f, dfts[i])\n",
    "            stem.set_linewidth(0.8)\n",
    "            plt.setp(marker, markersize = 2)\n",
    "        \n",
    "\n",
    "        subplots[0].set_xlabel(\"Axis X Frequency (Hz)\")\n",
    "        subplots[1].set_xlabel(\"Axis Y Frequency (Hz)\")\n",
    "        subplots[2].set_xlabel(\"Axis Z Frequency (Hz)\")\n",
    "        subplots[0].set_ylabel(\"Magnitude\")\n",
    "        subplots[1].set_ylabel(\"Magnitude\")\n",
    "        subplots[2].set_ylabel(\"Magnitude\")\n",
    "    \n",
    "        figure.tight_layout()\n",
    "    if not plotit:\n",
    "        for i in range(3):\n",
    "            dfts[i][ dfts[i]<np.max(dfts[i])*percent ] = 0\n",
    "    #if zeros:\n",
    "        #print(f'user{user}_{exp}')\n",
    "        #print('X: Hz -', np.unique(np.round(np.abs(f[np.where(dfts[0])]), 8)) , 'Magnitude:' , np.unique(np.round(dfts[0][dfts[0]>0], 8)))\n",
    "        #print('Y: Hz-', np.unique(np.round(np.abs(f[np.where(dfts[1])]), 8)) , 'Magnitude:' , np.unique(np.round(dfts[1][dfts[1]>0], 8)))\n",
    "        #print('Z: Hz-', np.unique(np.round(np.abs(f[np.where(dfts[2])]), 8)) , 'Magnitude:' , np.unique(np.round(dfts[2][dfts[2]>0], 8)))\n",
    "        #print('------------------')\n",
    "    \n",
    "    return np.unique(np.round(np.abs(f[np.where(dfts[0])]), 8)), np.unique(np.round(np.abs(f[np.where(dfts[1])]), 8)), np.unique(np.round(np.abs(f[np.where(dfts[2])]), 8))"
   ]
  },
  {
   "cell_type": "markdown",
   "metadata": {},
   "source": [
    "## Escolha da janela a aplicar\n",
    "\n",
    "Explicar a escolha da janela aqui algures"
   ]
  },
  {
   "cell_type": "code",
   "execution_count": null,
   "metadata": {},
   "outputs": [],
   "source": [
    "plot_activity_dft(walks_down_user2_2_detrended[0], len(walks_down_user2_2_detrended[0]), 1, 2, 'WALK DOWN', False, 0, 'blackman', True)\n",
    "plot_activity_dft(walks_down_user2_2_detrended[0], len(walks_down_user2_2_detrended[0]), 1, 2, 'WALK DOWN', False, 0, 'hamming', True)\n",
    "plot_activity_dft(walks_down_user2_2_detrended[0], len(walks_down_user2_2_detrended[0]), 1, 2, 'WALK DOWN', False, 0, 'hann', True)\n",
    "plot_activity_dft(walks_down_user2_2_detrended[0], len(walks_down_user2_2_detrended[0]), 1, 2, 'WALK DOWN', False, 0, 'rect', True)\n",
    "plot_activity_dft(walks_down_user2_2_detrended[0], len(walks_down_user2_2_detrended[0]), 1, 2, 'WALK DOWN', False, 0, 'black_harris', True)"
   ]
  },
  {
   "cell_type": "markdown",
   "metadata": {},
   "source": [
    "### DFT's da atividades WALK_DOWN de todos as experiências"
   ]
  },
  {
   "cell_type": "code",
   "execution_count": null,
   "metadata": {},
   "outputs": [],
   "source": [
    "#plot_activity_dft(walks_down_user1_1_detrended[0], len(walks_down_user1_1_detrended[0]), 1, 1, 'WALK DOWN', True, 0.7, 'blackman', True)\n",
    "#plot_activity_dft(walks_down_user1_1_detrended[0], len(walks_down_user1_1_detrended[0]), 1, 1, 'WALK DOWN', True, 0.7, 'blackman', True)\n",
    "#plot_activity_dft(walks_down_user1_1_detrended[0], len(walks_down_user1_1_detrended[0]), 1, 1, 'WALK DOWN', True, 0.7, 'blackman', True)\n",
    "#plot_activity_dft(walks_down_user1_1_detrended[0], len(walks_down_user1_1_detrended[0]), 1, 1, 'WALK DOWN', True, 0.7, 'blackman', True)\n",
    "#plot_activity_dft(walks_down_user1_1_detrended[0], len(walks_down_user1_1_detrended[0]), 1, 1, 'WALK DOWN', True, 0.7, 'blackman', True)"
   ]
  },
  {
   "cell_type": "markdown",
   "metadata": {},
   "source": [
    "### DFT's da atividades WALK_UP de todos as experiências"
   ]
  },
  {
   "cell_type": "code",
   "execution_count": null,
   "metadata": {},
   "outputs": [],
   "source": [
    "\"\"\"plot_activity_dft(walks_up_user1_1_detrended[0], len(walks_up_user1_1_detrended[0]), 1, 1, 'WALK UP', True, 0.7, 'blackman', True)\n",
    "plot_activity_dft(walks_up_user1_2_detrended[0], len(walks_up_user1_2_detrended[0]), 1, 2, 'WALK UP', True, 0.7, 'blackman', True)\n",
    "plot_activity_dft(walks_up_user2_1_detrended[0], len(walks_up_user2_1_detrended[0]), 2, 1, 'WALK UP', True, 0.7, 'blackman', True)\n",
    "plot_activity_dft(walks_up_user2_2_detrended[0], len(walks_up_user2_2_detrended[0]), 2, 2, 'WALK UP', True, 0.7, 'blackman', True)\n",
    "plot_activity_dft(walks_up_user3_1_detrended[0], len(walks_up_user3_1_detrended[0]), 3, 1, 'WALK UP', True, 0.7, 'blackman', True)\n",
    "plot_activity_dft(walks_up_user3_2_detrended[0], len(walks_up_user3_2_detrended[0]), 3, 2, 'WALK UP', True, 0.7, 'blackman', True)\n",
    "plot_activity_dft(walks_up_user4_1_detrended[0], len(walks_up_user4_1_detrended[0]), 4, 1, 'WALK UP', True, 0.7, 'blackman', True)\n",
    "plot_activity_dft(walks_up_user4_2_detrended[0], len(walks_up_user4_2_detrended[0]), 4, 2, 'WALK UP', True, 0.7, 'blackman', True)\"\"\""
   ]
  },
  {
   "cell_type": "markdown",
   "metadata": {},
   "source": [
    "### DFT's da atividades WALK de todos as experiências"
   ]
  },
  {
   "cell_type": "code",
   "execution_count": null,
   "metadata": {},
   "outputs": [],
   "source": [
    "\"\"\"\n",
    "for i in range(3):\n",
    "    plot_activity_dft(walks_user1_1_detrended[i], len(walks_user1_1_detrended[i]), 1, 1, 'WALK', True, 0.65, 'blackman', False)\n",
    "for i in range(3):\n",
    "    plot_activity_dft(walks_user1_2_detrended[i], len(walks_user1_2_detrended[i]), 1, 2, 'WALK', True, 0.65, 'blackman', False)\n",
    "for i in range(3):\n",
    "    plot_activity_dft(walks_user2_1_detrended[0], len(walks_user2_1_detrended[0]), 2, 1, 'WALK', True, 0.65, 'blackman', False)\n",
    "for i in range(3):\n",
    "    plot_activity_dft(walks_user2_2_detrended[0], len(walks_user2_2_detrended[0]), 2, 2, 'WALK', True, 0.65, 'blackman', False)\n",
    "\n",
    "for i in range(3):\n",
    "    plot_activity_dft(walks_user3_1_detrended[0], len(walks_user3_1_detrended[0]), 3, 1, 'WALK', True, 0.7, 'blackman', False)\n",
    "for i in range(3):\n",
    "    plot_activity_dft(walks_user3_2_detrended[0], len(walks_user3_2_detrended[0]), 3, 2, 'WALK', True, 0.7, 'blackman', False)\n",
    "for i in range(3):\n",
    "    plot_activity_dft(walks_user4_1_detrended[0], len(walks_user4_1_detrended[0]), 4, 1, 'WALK', True, 0.7, 'blackman', False)\n",
    "for i in range(3):\n",
    "    plot_activity_dft(walks_user4_2_detrended[0], len(walks_user4_2_detrended[0]), 4, 2, 'WALK', True, 0.7, 'blackman', False)\n",
    "\"\"\""
   ]
  },
  {
   "cell_type": "markdown",
   "metadata": {},
   "source": [
    "### DFT's da atividades STAND de todos as experiências"
   ]
  },
  {
   "cell_type": "code",
   "execution_count": null,
   "metadata": {},
   "outputs": [],
   "source": [
    "\"\"\"\n",
    "plot_activity_dft(stand_user1_1_detrended[0], len(stand_user1_1_detrended[0]), 1, 1, 'STAND', False, 0.85, 'blackman', True)\n",
    "plot_activity_dft(stand_user1_2_detrended[0], len(stand_user1_2_detrended[0]), 1, 2, 'STAND', True, 0.7, 'blackman', True)\n",
    "plot_activity_dft(stand_user2_1_detrended[0], len(stand_user2_1_detrended[0]), 2, 1, 'STAND', True, 0.7, 'blackman', True)\n",
    "plot_activity_dft(stand_user2_2_detrended[0], len(stand_user2_2_detrended[0]), 2, 2, 'STAND', True, 0.7, 'blackman', True)\n",
    "plot_activity_dft(stand_user3_1_detrended[0], len(stand_user3_1_detrended[0]), 3, 1, 'STAND', True, 0.7, 'blackman', True)\n",
    "plot_activity_dft(stand_user3_2_detrended[0], len(stand_user3_2_detrended[0]), 3, 2, 'STAND', True, 0.7, 'blackman', True)\n",
    "plot_activity_dft(stand_user4_1_detrended[0], len(stand_user4_1_detrended[0]), 4, 1, 'STAND', True, 0.7, 'blackman', True)\n",
    "plot_activity_dft(stand_user4_2_detrended[0], len(stand_user4_2_detrended[0]), 4, 2, 'STAND', True, 0.7, 'blackman', True)\"\"\""
   ]
  },
  {
   "cell_type": "markdown",
   "metadata": {},
   "source": [
    "### DFT's da atividades SIT de todos as experiências"
   ]
  },
  {
   "cell_type": "code",
   "execution_count": null,
   "metadata": {
    "scrolled": true
   },
   "outputs": [],
   "source": [
    "\"\"\"plot_activity_dft(sit_user1_1_detrended[0], len(sit_user1_1_detrended[0]), 1, 1, 'SIT', True, 0.7, 'blackman', True)\n",
    "plot_activity_dft(sit_user1_2_detrended[0], len(sit_user1_2_detrended[0]), 1, 2, 'SIT', True, 0.7, 'blackman', True)\n",
    "plot_activity_dft(sit_user2_1_detrended[0], len(sit_user2_1_detrended[0]), 2, 1, 'SIT', True, 0.7, 'blackman', True)\n",
    "plot_activity_dft(sit_user2_2_detrended[0], len(sit_user2_2_detrended[0]), 2, 2, 'SIT', True, 0.7, 'blackman', True)\n",
    "plot_activity_dft(sit_user3_1_detrended[0], len(sit_user3_1_detrended[0]), 3, 1, 'SIT', True, 0.7, 'blackman', True)\n",
    "plot_activity_dft(sit_user3_2_detrended[0], len(sit_user3_2_detrended[0]), 3, 2, 'SIT', True, 0.7, 'blackman', True)\n",
    "plot_activity_dft(sit_user4_1_detrended[0], len(sit_user4_1_detrended[0]), 4, 1, 'SIT', True, 0.7, 'blackman', True)\n",
    "plot_activity_dft(sit_user4_2_detrended[0], len(sit_user4_2_detrended[0]), 4, 2, 'SIT', True, 0.7, 'blackman', True)\"\"\""
   ]
  },
  {
   "cell_type": "markdown",
   "metadata": {},
   "source": [
    "### DFT's da atividades LAY de todos as experiências"
   ]
  },
  {
   "cell_type": "code",
   "execution_count": null,
   "metadata": {},
   "outputs": [],
   "source": [
    "\"\"\"plot_activity_dft(lay_user1_1_detrended[1], len(lay_user1_1_detrended[1]), 1, 1, 'LAY', False, 0.7, 'blackman', True)\n",
    "plot_activity_dft(lay_user1_2_detrended[1], len(lay_user1_2_detrended[1]), 1, 2, 'LAY', False, 0.7, 'blackman', True)\n",
    "plot_activity_dft(lay_user2_1_detrended[1], len(lay_user2_1_detrended[1]), 2, 1, 'LAY', False, 0.7, 'blackman', True)\n",
    "plot_activity_dft(lay_user2_2_detrended[1], len(lay_user2_2_detrended[1]), 2, 2, 'LAY', False, 0.7, 'blackman', True)\n",
    "plot_activity_dft(lay_user3_1_detrended[1], len(lay_user3_1_detrended[1]), 3, 1, 'LAY', False, 0.7, 'blackman', True)\n",
    "plot_activity_dft(lay_user3_2_detrended[1], len(lay_user3_2_detrended[1]), 3, 2, 'LAY', False, 0.7, 'blackman', True)\n",
    "plot_activity_dft(lay_user4_1_detrended[1], len(lay_user4_1_detrended[1]), 4, 1, 'LAY', False, 0.7, 'blackman', True)\n",
    "plot_activity_dft(lay_user4_2_detrended[1], len(lay_user4_2_detrended[1]), 4, 2, 'LAY', False, 0.7, 'blackman', True)\"\"\""
   ]
  },
  {
   "cell_type": "markdown",
   "metadata": {},
   "source": [
    "### DFT's da atividades STAND_SIT de todos as experiências"
   ]
  },
  {
   "cell_type": "code",
   "execution_count": null,
   "metadata": {
    "scrolled": true
   },
   "outputs": [],
   "source": [
    "\"\"\"plot_activity_dft(stand_sit_user1_1_detrended, len(stand_sit_user1_1_detrended), 1, 1, 'STAND_SIT', True, 0.7, 'blackman', True)\n",
    "plot_activity_dft(stand_sit_user1_2_detrended, len(stand_sit_user1_2_detrended), 1, 2, 'STAND_SIT', True, 0.7, 'blackman', True)\n",
    "plot_activity_dft(stand_sit_user2_1_detrended, len(stand_sit_user2_1_detrended), 2, 1, 'STAND_SIT', True, 0.7, 'blackman', True)\n",
    "plot_activity_dft(stand_sit_user2_2_detrended, len(stand_sit_user2_2_detrended), 2, 2, 'STAND_SIT', True, 0.7, 'blackman', True)\n",
    "plot_activity_dft(stand_sit_user3_1_detrended, len(stand_sit_user3_1_detrended), 3, 1, 'STAND_SIT', True, 0.7, 'blackman', True)\n",
    "plot_activity_dft(stand_sit_user3_2_detrended, len(stand_sit_user3_2_detrended), 3, 2, 'STAND_SIT', True, 0.7, 'blackman', True)\n",
    "plot_activity_dft(stand_sit_user4_1_detrended, len(stand_sit_user4_1_detrended), 4, 1, 'STAND_SIT', True, 0.7, 'blackman', True)\n",
    "plot_activity_dft(stand_sit_user4_2_detrended, len(stand_sit_user4_2_detrended), 4, 2, 'STAND_SIT', True, 0.7, 'blackman', True)\n",
    "\"\"\""
   ]
  },
  {
   "cell_type": "markdown",
   "metadata": {},
   "source": [
    "### DFT's da atividades SIT_STAND de todos as experiências"
   ]
  },
  {
   "cell_type": "code",
   "execution_count": null,
   "metadata": {},
   "outputs": [],
   "source": [
    "\"\"\"\n",
    "plot_activity_dft(sit_stand_user1_1_detrended, len(sit_stand_user1_1_detrended), 1, 1, 'SIT_STAND', True, 0.7, 'blackman', True)\n",
    "plot_activity_dft(sit_stand_user1_2_detrended, len(sit_stand_user1_2_detrended), 1, 2, 'SIT_STAND', True, 0.7, 'blackman', True)\n",
    "plot_activity_dft(sit_stand_user2_1_detrended, len(sit_stand_user2_1_detrended), 2, 1, 'SIT_STAND', True, 0.7, 'blackman', True)\n",
    "plot_activity_dft(sit_stand_user2_2_detrended, len(sit_stand_user2_2_detrended), 2, 2, 'SIT_STAND', True, 0.7, 'blackman', True)\n",
    "plot_activity_dft(sit_stand_user3_1_detrended, len(sit_stand_user3_1_detrended), 3, 1, 'SIT_STAND', True, 0.7, 'blackman', True)\n",
    "plot_activity_dft(sit_stand_user3_2_detrended, len(sit_stand_user3_2_detrended), 3, 2, 'SIT_STAND', True, 0.7, 'blackman', True)\n",
    "plot_activity_dft(sit_stand_user4_1_detrended, len(sit_stand_user4_1_detrended), 4, 1, 'SIT_STAND', True, 0.7, 'blackman', True)\n",
    "plot_activity_dft(sit_stand_user4_2_detrended, len(sit_stand_user4_2_detrended), 4, 2, 'SIT_STAND', True, 0.7, 'blackman', True)\n",
    "\"\"\""
   ]
  },
  {
   "cell_type": "markdown",
   "metadata": {},
   "source": [
    "### DFT's da atividades STAND_LIE de todos as experiências"
   ]
  },
  {
   "cell_type": "code",
   "execution_count": null,
   "metadata": {},
   "outputs": [],
   "source": [
    "\"\"\"\n",
    "plot_activity_dft(stand_lie_user1_1_detrended, len(stand_lie_user1_1_detrended), 1, 1, 'STAND_LIE', True, 0.7, 'blackman', True)\n",
    "plot_activity_dft(stand_lie_user1_2_detrended, len(stand_lie_user1_2_detrended), 1, 2, 'STAND_LIE', True, 0.7, 'blackman', True)\n",
    "plot_activity_dft(stand_lie_user2_1_detrended, len(stand_lie_user2_1_detrended), 2, 1, 'STAND_LIE', True, 0.7, 'blackman', True)\n",
    "plot_activity_dft(stand_lie_user2_2_detrended, len(stand_lie_user2_2_detrended), 2, 2, 'STAND_LIE', True, 0.7, 'blackman', True)\n",
    "plot_activity_dft(stand_lie_user3_1_detrended, len(stand_lie_user3_1_detrended), 3, 1, 'STAND_LIE', True, 0.7, 'blackman', True)\n",
    "plot_activity_dft(stand_lie_user3_2_detrended, len(stand_lie_user3_2_detrended), 3, 2, 'STAND_LIE', True, 0.7, 'blackman', True)\n",
    "plot_activity_dft(stand_lie_user4_1_detrended, len(stand_lie_user4_1_detrended), 4, 1, 'STAND_LIE', True, 0.7, 'blackman', True)\n",
    "plot_activity_dft(stand_lie_user4_2_detrended, len(stand_lie_user4_2_detrended), 4, 2, 'STAND_LIE', True, 0.7, 'blackman', True)\n",
    "\"\"\""
   ]
  },
  {
   "cell_type": "markdown",
   "metadata": {},
   "source": [
    "### DFT's da atividades LIE_STAND de todos as experiências"
   ]
  },
  {
   "cell_type": "code",
   "execution_count": null,
   "metadata": {
    "scrolled": true
   },
   "outputs": [],
   "source": [
    "\"\"\"plot_activity_dft(lie_stand_user1_1_detrended, len(lie_stand_user1_1_detrended), 1, 1, 'LIE_STAND', True, 0.7, 'blackman', True)\n",
    "plot_activity_dft(lie_stand_user1_2_detrended, len(lie_stand_user1_2_detrended), 1, 2, 'LIE_STAND', True, 0.7, 'blackman', True)\n",
    "plot_activity_dft(lie_stand_user2_1_detrended, len(lie_stand_user2_1_detrended), 2, 1, 'LIE_STAND', True, 0.7, 'blackman', True)\n",
    "plot_activity_dft(lie_stand_user2_2_detrended, len(lie_stand_user2_2_detrended), 2, 2, 'LIE_STAND', True, 0.7, 'blackman', True)\n",
    "plot_activity_dft(lie_stand_user3_1_detrended, len(lie_stand_user3_1_detrended), 3, 1, 'LIE_STAND', True, 0.7, 'blackman', True)\n",
    "plot_activity_dft(lie_stand_user3_2_detrended, len(lie_stand_user3_2_detrended), 3, 2, 'LIE_STAND', True, 0.7, 'blackman', True)\n",
    "plot_activity_dft(lie_stand_user4_1_detrended, len(lie_stand_user4_1_detrended), 4, 1, 'LIE_STAND', True, 0.7, 'blackman', True)\n",
    "plot_activity_dft(lie_stand_user4_2_detrended, len(lie_stand_user4_2_detrended), 4, 2, 'LIE_STAND', True, 0.7, 'blackman', True)\"\"\""
   ]
  },
  {
   "cell_type": "markdown",
   "metadata": {},
   "source": [
    "### DFT's da atividades LIE_SIT de todos as experiências"
   ]
  },
  {
   "cell_type": "code",
   "execution_count": null,
   "metadata": {},
   "outputs": [],
   "source": [
    "\"\"\"plot_activity_dft(lie_sit_user1_1_detrended, len(lie_sit_user1_1_detrended), 1, 1, 'LIE_SIT', True, 0.7, 'blackman', True)\n",
    "plot_activity_dft(lie_sit_user1_2_detrended, len(lie_sit_user1_2_detrended), 1, 2, 'LIE_SIT', True, 0.7, 'blackman', True)\n",
    "plot_activity_dft(lie_sit_user2_1_detrended, len(lie_sit_user2_1_detrended), 2, 1, 'LIE_SIT', True, 0.7, 'blackman', True)\n",
    "plot_activity_dft(lie_sit_user2_2_detrended, len(lie_sit_user2_2_detrended), 2, 2, 'LIE_SIT', True, 0.7, 'blackman', True)\n",
    "plot_activity_dft(lie_sit_user3_1_detrended, len(lie_sit_user3_1_detrended), 3, 1, 'LIE_SIT', True, 0.7, 'blackman', True)\n",
    "plot_activity_dft(lie_sit_user3_2_detrended, len(lie_sit_user3_2_detrended), 3, 2, 'LIE_SIT', True, 0.7, 'blackman', True)\n",
    "plot_activity_dft(lie_sit_user4_1_detrended, len(lie_sit_user4_1_detrended), 4, 1, 'LIE_SIT', True, 0.7, 'blackman', True)\n",
    "plot_activity_dft(lie_sit_user4_2_detrended, len(lie_sit_user4_2_detrended), 4, 2, 'LIE_SIT', True, 0.7, 'blackman', True)\"\"\""
   ]
  },
  {
   "cell_type": "markdown",
   "metadata": {},
   "source": [
    "### DFT's da atividades SIT_LIE de todos as experiências"
   ]
  },
  {
   "cell_type": "code",
   "execution_count": null,
   "metadata": {},
   "outputs": [],
   "source": [
    "\"\"\"\n",
    "plot_activity_dft(sit_lie_user1_1_detrended, len(sit_lie_user1_1_detrended), 1, 1, 'SIT_LIE', True, 0.7, 'blackman', True)\n",
    "plot_activity_dft(sit_lie_user1_2_detrended, len(sit_lie_user1_2_detrended), 1, 2, 'SIT_LIE', True, 0.7, 'blackman', True)\n",
    "plot_activity_dft(sit_lie_user2_1_detrended, len(sit_lie_user2_1_detrended), 2, 1, 'SIT_LIE', True, 0.7, 'blackman', True)\n",
    "plot_activity_dft(sit_lie_user2_2_detrended, len(sit_lie_user2_2_detrended), 2, 2, 'SIT_LIE', True, 0.7, 'blackman', True)\n",
    "plot_activity_dft(sit_lie_user3_1_detrended, len(sit_lie_user3_1_detrended), 3, 1, 'SIT_LIE', True, 0.7, 'blackman', True)\n",
    "plot_activity_dft(sit_lie_user3_2_detrended, len(sit_lie_user3_2_detrended), 3, 2, 'SIT_LIE', True, 0.7, 'blackman', True)\n",
    "plot_activity_dft(sit_lie_user4_1_detrended, len(sit_lie_user4_1_detrended), 4, 1, 'SIT_LIE', True, 0.7, 'blackman', True)\n",
    "plot_activity_dft(sit_lie_user4_2_detrended, len(sit_lie_user4_2_detrended), 4, 2, 'SIT_LIE', True, 0.7, 'blackman', True)\"\"\""
   ]
  },
  {
   "cell_type": "code",
   "execution_count": null,
   "metadata": {},
   "outputs": [],
   "source": [
    "walks_user = []\n",
    "walks_user.append(walks_user1_1_detrended)\n",
    "walks_user.append(walks_user1_2_detrended)\n",
    "walks_user.append(walks_user2_1_detrended)\n",
    "walks_user.append(walks_user2_2_detrended)\n",
    "walks_user.append(walks_user3_1_detrended)\n",
    "walks_user.append(walks_user3_2_detrended)\n",
    "walks_user.append(walks_user4_1_detrended)\n",
    "walks_user.append(walks_user4_2_detrended)\n",
    "\n",
    "walks_down_user = []\n",
    "walks_down_user.append(walks_down_user1_1_detrended)\n",
    "walks_down_user.append(walks_down_user1_2_detrended)\n",
    "walks_down_user.append(walks_down_user2_1_detrended)\n",
    "walks_down_user.append(walks_down_user2_2_detrended)\n",
    "walks_down_user.append(walks_down_user3_1_detrended)\n",
    "walks_down_user.append(walks_down_user3_2_detrended)\n",
    "walks_down_user.append(walks_down_user4_1_detrended)\n",
    "walks_down_user.append(walks_down_user4_2_detrended)\n",
    "\n",
    "sit_user = []\n",
    "sit_user.append(sit_user1_1_detrended)\n",
    "sit_user.append(sit_user1_2_detrended)\n",
    "sit_user.append(sit_user2_1_detrended)\n",
    "sit_user.append(sit_user2_2_detrended)\n",
    "sit_user.append(sit_user3_1_detrended)\n",
    "sit_user.append(sit_user3_2_detrended)\n",
    "sit_user.append(sit_user4_1_detrended)\n",
    "sit_user.append(sit_user4_2_detrended)\n",
    "\n",
    "lay_user = []\n",
    "lay_user.append(lay_user1_1_detrended)\n",
    "lay_user.append(lay_user1_2_detrended)\n",
    "lay_user.append(lay_user2_1_detrended)\n",
    "lay_user.append(lay_user2_2_detrended)\n",
    "lay_user.append(lay_user3_1_detrended)\n",
    "lay_user.append(lay_user3_2_detrended)\n",
    "lay_user.append(lay_user4_1_detrended)\n",
    "lay_user.append(lay_user4_2_detrended)\n",
    "\n",
    "stand_user = []\n",
    "stand_user.append(stand_user1_1_detrended)\n",
    "stand_user.append(stand_user1_2_detrended)\n",
    "stand_user.append(stand_user2_1_detrended)\n",
    "stand_user.append(stand_user2_2_detrended)\n",
    "stand_user.append(stand_user3_1_detrended)\n",
    "stand_user.append(stand_user3_2_detrended)\n",
    "stand_user.append(stand_user4_1_detrended)\n",
    "stand_user.append(stand_user4_2_detrended)\n",
    "\n",
    "stand_sit_user = []\n",
    "stand_sit_user.append(stand_sit_user1_1_detrended)\n",
    "stand_sit_user.append(stand_sit_user1_2_detrended)\n",
    "stand_sit_user.append(stand_sit_user2_1_detrended)\n",
    "stand_sit_user.append(stand_sit_user2_2_detrended)\n",
    "stand_sit_user.append(stand_sit_user3_1_detrended)\n",
    "stand_sit_user.append(stand_sit_user3_2_detrended)\n",
    "stand_sit_user.append(stand_sit_user4_1_detrended)\n",
    "stand_sit_user.append(stand_sit_user4_2_detrended)\n",
    "\n",
    "sit_stand_user = []\n",
    "sit_stand_user.append(sit_stand_user1_1_detrended)\n",
    "sit_stand_user.append(sit_stand_user1_2_detrended)\n",
    "sit_stand_user.append(sit_stand_user2_1_detrended)\n",
    "sit_stand_user.append(sit_stand_user2_2_detrended)\n",
    "sit_stand_user.append(sit_stand_user3_1_detrended)\n",
    "sit_stand_user.append(sit_stand_user3_2_detrended)\n",
    "sit_stand_user.append(sit_stand_user4_1_detrended)\n",
    "sit_stand_user.append(sit_stand_user4_2_detrended)\n",
    "\n",
    "stand_lie_user = []\n",
    "stand_lie_user.append(stand_lie_user1_1_detrended)\n",
    "stand_lie_user.append(stand_lie_user1_2_detrended)\n",
    "stand_lie_user.append(stand_lie_user2_1_detrended)\n",
    "stand_lie_user.append(stand_lie_user2_2_detrended)\n",
    "stand_lie_user.append(stand_lie_user3_1_detrended)\n",
    "stand_lie_user.append(stand_lie_user3_2_detrended)\n",
    "stand_lie_user.append(stand_lie_user4_1_detrended)\n",
    "stand_lie_user.append(stand_lie_user4_2_detrended)\n",
    "\n",
    "lie_sit_user = []\n",
    "lie_sit_user.append(lie_sit_user1_1_detrended)\n",
    "lie_sit_user.append(lie_sit_user1_2_detrended)\n",
    "lie_sit_user.append(lie_sit_user2_1_detrended)\n",
    "lie_sit_user.append(lie_sit_user2_2_detrended)\n",
    "lie_sit_user.append(lie_sit_user3_1_detrended)\n",
    "lie_sit_user.append(lie_sit_user3_2_detrended)\n",
    "lie_sit_user.append(lie_sit_user4_1_detrended)\n",
    "lie_sit_user.append(lie_sit_user4_2_detrended)\n",
    "\n",
    "sit_lie_user = []\n",
    "sit_lie_user.append(sit_lie_user1_1_detrended)\n",
    "sit_lie_user.append(sit_lie_user1_2_detrended)\n",
    "sit_lie_user.append(sit_lie_user2_1_detrended)\n",
    "sit_lie_user.append(sit_lie_user2_2_detrended)\n",
    "sit_lie_user.append(sit_lie_user3_1_detrended)\n",
    "sit_lie_user.append(sit_lie_user3_2_detrended)\n",
    "sit_lie_user.append(sit_lie_user4_1_detrended)\n",
    "sit_lie_user.append(sit_lie_user4_2_detrended)\n",
    "\n",
    "lie_stand_user = []\n",
    "lie_stand_user.append(lie_stand_user1_1_detrended)\n",
    "lie_stand_user.append(lie_stand_user1_2_detrended)\n",
    "lie_stand_user.append(lie_stand_user2_1_detrended)\n",
    "lie_stand_user.append(lie_stand_user2_2_detrended)\n",
    "lie_stand_user.append(lie_stand_user3_1_detrended)\n",
    "lie_stand_user.append(lie_stand_user3_2_detrended)\n",
    "lie_stand_user.append(lie_stand_user4_1_detrended)\n",
    "lie_stand_user.append(lie_stand_user4_2_detrended)"
   ]
  },
  {
   "cell_type": "code",
   "execution_count": null,
   "metadata": {},
   "outputs": [],
   "source": [
    "def get_frequencies_from_activities(activity_array, title, percent):\n",
    "    x_total = []\n",
    "    y_total = []\n",
    "    z_total = []\n",
    "    aux = {}\n",
    "    \n",
    "    #print(activity_array)\n",
    "    #print(type(activity_array))\n",
    "    \n",
    "    for a in activity_array:\n",
    "        if len(a)<5:\n",
    "            for i in range(len(a)):\n",
    "                x_a, y_a, z_a = plot_activity_dft(a[i], len(a[i]), 1, 1, title, True, percent, 'blackman', False)\n",
    "                for j in x_a:\n",
    "                    x_total.append(j)\n",
    "                for j in y_a:\n",
    "                    y_total.append(j)\n",
    "                for j in z_a:\n",
    "                    z_total.append(j)\n",
    "        else:\n",
    "            x_a, y_a, z_a = plot_activity_dft(a, len(a), 1, 1, title, True, percent, 'blackman', False)\n",
    "            for j in x_a:\n",
    "                x_total.append(j)\n",
    "            for j in y_a:\n",
    "                y_total.append(j)\n",
    "            for j in z_a:\n",
    "                z_total.append(j)\n",
    "        \n",
    "\n",
    "\n",
    "    aux = {'X':x_total, 'Y':y_total, 'Z':z_total}\n",
    "    Hz_pd = pd.DataFrame.from_dict(aux, orient='index').transpose()\n",
    "    Hz_pd = Hz_pd[::][Hz_pd[::]<2.5]\n",
    "    print(Hz_pd.describe())"
   ]
  },
  {
   "cell_type": "code",
   "execution_count": null,
   "metadata": {},
   "outputs": [],
   "source": [
    "get_frequencies_from_activities(walks_user, 'WALK', 0.65)\n",
    "get_frequencies_from_activities(walks_user, 'WALK', 0.80)"
   ]
  },
  {
   "cell_type": "code",
   "execution_count": null,
   "metadata": {},
   "outputs": [],
   "source": [
    "get_frequencies_from_activities(sit_user, 'WALK', 0.8)"
   ]
  },
  {
   "cell_type": "code",
   "execution_count": null,
   "metadata": {},
   "outputs": [],
   "source": [
    "get_frequencies_from_activities(sit_stand_user, 'WALK', 0.8)"
   ]
  },
  {
   "cell_type": "code",
   "execution_count": null,
   "metadata": {},
   "outputs": [],
   "source": []
  },
  {
   "cell_type": "code",
   "execution_count": null,
   "metadata": {},
   "outputs": [],
   "source": []
  }
 ],
 "metadata": {
  "kernelspec": {
   "display_name": "Python 3",
   "language": "python",
   "name": "python3"
  },
  "language_info": {
   "codemirror_mode": {
    "name": "ipython",
    "version": 3
   },
   "file_extension": ".py",
   "mimetype": "text/x-python",
   "name": "python",
   "nbconvert_exporter": "python",
   "pygments_lexer": "ipython3",
   "version": "3.8.7"
  },
  "metadata": {
   "interpreter": {
    "hash": "27d4f6ba00e5f9584c5bb13eed1064ec5c4936beebf286aef9eac3e7bf19e409"
   }
  }
 },
 "nbformat": 4,
 "nbformat_minor": 4
}
