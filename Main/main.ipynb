{
 "metadata": {
  "language_info": {
   "codemirror_mode": {
    "name": "ipython",
    "version": 3
   },
   "file_extension": ".py",
   "mimetype": "text/x-python",
   "name": "python",
   "nbconvert_exporter": "python",
   "pygments_lexer": "ipython3",
   "version": "3.9.1"
  },
  "orig_nbformat": 2,
  "kernelspec": {
   "name": "python391jvsc74a57bd027d4f6ba00e5f9584c5bb13eed1064ec5c4936beebf286aef9eac3e7bf19e409",
   "display_name": "Python 3.9.1 64-bit"
  },
  "metadata": {
   "interpreter": {
    "hash": "27d4f6ba00e5f9584c5bb13eed1064ec5c4936beebf286aef9eac3e7bf19e409"
   }
  }
 },
 "nbformat": 4,
 "nbformat_minor": 2,
 "cells": [
  {
   "source": [
    "# Projeto ATD\n",
    "## 2ºsemestre 2020/2021\n",
    "### FCTUC - DEI\n",
    "### Membros:\n",
    "* Joel Oliveira\n",
    "* Tomás Mendes\n"
   ],
   "cell_type": "markdown",
   "metadata": {}
  },
  {
   "cell_type": "code",
   "execution_count": null,
   "metadata": {},
   "outputs": [],
   "source": [
    "import numpy as np\n",
    "from sympy import *\n",
    "import matplotlib.pyplot as plt\n",
    "import pandas as pd\n",
    "#import seaborn as sns\n",
    "#sns.set_style(\"whitegrid\")\n",
    "import math\n",
    "from scipy import signal as sig"
   ]
  },
  {
   "source": [
    "### Ler dados do acelerómetro para variável\n",
    "#### (1 variável / experiência )\n",
    "##### userA_expB (Experiência B do Sujeito A)"
   ],
   "cell_type": "markdown",
   "metadata": {}
  },
  {
   "cell_type": "code",
   "execution_count": null,
   "metadata": {},
   "outputs": [],
   "source": [
    "user1_1 = pd.DataFrame(data=np.loadtxt(\"Datasets/acc_exp01_user01.txt\"), columns=['X','Y','Z'])\n",
    "user1_2 = pd.DataFrame(data=np.loadtxt(\"Datasets/acc_exp02_user01.txt\"), columns=['X','Y','Z'])\n",
    "user2_1 = pd.DataFrame(data=np.loadtxt(\"Datasets/acc_exp03_user02.txt\"), columns=['X','Y','Z'])\n",
    "user2_2 = pd.DataFrame(data=np.loadtxt(\"Datasets/acc_exp04_user02.txt\"), columns=['X','Y','Z'])\n",
    "user3_1 = pd.DataFrame(data=np.loadtxt(\"Datasets/acc_exp05_user03.txt\"), columns=['X','Y','Z'])\n",
    "user3_2 = pd.DataFrame(data=np.loadtxt(\"Datasets/acc_exp06_user03.txt\"), columns=['X','Y','Z'])\n",
    "user4_1 = pd.DataFrame(data=np.loadtxt(\"Datasets/acc_exp07_user04.txt\"), columns=['X','Y','Z'])\n",
    "user4_2 = pd.DataFrame(data=np.loadtxt(\"Datasets/acc_exp08_user04.txt\"), columns=['X','Y','Z'])"
   ]
  },
  {
   "source": [
    "##### Juntar à estrutura com os dados a informação do tempo em minutos de cada experiência"
   ],
   "cell_type": "markdown",
   "metadata": {}
  },
  {
   "cell_type": "code",
   "execution_count": null,
   "metadata": {},
   "outputs": [],
   "source": [
    "freq = 50 # Hz\n",
    "T = 1/freq # sec\n",
    "\n",
    "user1_1['Time (min)'] = np.arange(0, len(user1_1['X']) * T, T)/60\n",
    "user1_2['Time (min)'] = np.arange(0, len(user1_2['X']) * T, T)/60 \n",
    "user2_1['Time (min)'] = np.arange(0, len(user2_1['X']) * T, T)/60 \n",
    "user2_2['Time (min)'] = np.arange(0, len(user2_2['X']) * T, T)/60 \n",
    "user3_1['Time (min)'] = np.arange(0, len(user3_1['X']) * T, T)/60 \n",
    "user3_2['Time (min)'] = np.arange(0, len(user3_2['X']) * T, T)/60 \n",
    "user4_1['Time (min)'] = np.arange(0, len(user4_1['X']) * T, T)/60 \n",
    "user4_2['Time (min)'] = np.arange(0, len(user4_2['X']) * T, T)/60"
   ]
  },
  {
   "source": [
    "#### Guardar os dados das experiências num ficheiro .dat, para ler mais tarde"
   ],
   "cell_type": "markdown",
   "metadata": {}
  },
  {
   "cell_type": "code",
   "execution_count": null,
   "metadata": {},
   "outputs": [],
   "source": [
    "users_exp = [user1_1, user1_2, user2_1, user2_2, user3_1, user3_2, user4_1, user4_2]\n",
    "pd.to_pickle(users_exp, \"users.dat\")"
   ]
  },
  {
   "source": [
    "### Verificação dos dados presentes no DataSet, através da função 'info()' das DataFrame da livraria Pandas.\n",
    "#### Esta função devolve informações sobre a informação presente na DataFrame. É devolvida uma string com a quantidade de valores presente não nula, a quantidade de valores presente com valor nulo e ainda o tipoda informação presente em cada coluna. \n",
    "#### Assim, é possível verificar que o DataSet está bastante completo, sem falhas de informação, e o tipo de dados existente nele. No caso dados do tipo float."
   ],
   "cell_type": "markdown",
   "metadata": {}
  },
  {
   "cell_type": "code",
   "execution_count": null,
   "metadata": {},
   "outputs": [],
   "source": [
    "for i in range(len(users_exp)):\n",
    "    print(\"//\" + \"_\"*9 + f\"Sujeito {i//2+1} Experiencia {i%2+1}\" + \"_\"*9 + \"\\\\\\\\\", end = '\\n\\n')\n",
    "    users_exp[i].info()\n",
    "    print(\"\\n\")\n",
    "    "
   ]
  },
  {
   "cell_type": "code",
   "execution_count": null,
   "metadata": {},
   "outputs": [],
   "source": [
    "for i in range(len(users_exp)):\n",
    "    print(\"//\" + \"_\"*15 + f\"Sujeito {i//2+1} Experiencia {i%2+1}\" + \"_\"*15 + \"\\\\\\\\\", end='\\n\\n')\n",
    "    print(users_exp[i].describe())\n",
    "    print(\"\\n\")\n"
   ]
  },
  {
   "source": [
    "#### Leitura dos dados inseridos no ficheiro 'users.dat', anteriormente.\n",
    "##### Este ficheiro contém um array com as informações de cada experiência inseridas numa DataFrame"
   ],
   "cell_type": "markdown",
   "metadata": {}
  },
  {
   "source": [
    "users_exp = pd.read_pickle(\"users.dat\")\n",
    "user1_1, user1_2, user2_1, user2_2, user3_1, user3_2, user4_1, user4_2 = users_exp"
   ],
   "cell_type": "code",
   "metadata": {},
   "execution_count": null,
   "outputs": []
  },
  {
   "source": [
    "### Atividades Dinâmicas:\n",
    "#### 1. WALKING\n",
    "#### 2. WALKING_UPSTAIRS\n",
    "#### 3. WALKING_DOWNSTAIRS\n",
    "\n",
    "### Atividades Estáticas:\n",
    "#### 1. SITTING\n",
    "#### 2. STANDING\n",
    "#### 3. LAYING\n",
    "\n",
    "### Atividades de Transição:\n",
    "#### 1. STAND_TO_SIT\n",
    "#### 2. SIT_TO_STAND\n",
    "#### 3. SIT_TO_LIE\n",
    "#### 4. LIE_TO_SIT\n",
    "#### 5. STAND_TO_LIE\n",
    "#### 6. LIE_TO_STAND"
   ],
   "cell_type": "markdown",
   "metadata": {}
  },
  {
   "source": [
    "#### Função para escrever manualmente as atividades nos plots"
   ],
   "cell_type": "markdown",
   "metadata": {}
  },
  {
   "cell_type": "code",
   "execution_count": null,
   "metadata": {},
   "outputs": [],
   "source": [
    "def plot_with_labels(upxvalues, downxvalues, up, down, user, index):\n",
    "    '''\n",
    "    Plots the X, Y, Z axis from the accelerometer\n",
    "            Parameters:\n",
    "                    upxvalues (list): ordenadas para impressão de up (labels a colocar em cima)\n",
    "                    downxvalues (list): ordenadas para impressão de down (labels a colocar em baixo)\n",
    "                    up (list): lista com as labels das atividades\n",
    "                    down (list): list com as labels das atividades\n",
    "                    user (pandas.dataFrame): dataFrame com os dados do user a imprimir.\n",
    "                    index (int): numero da experiência, de modo a imprimir o Numero do Sujeito, bem como da sua experiência\n",
    "    '''\n",
    "    figure, subplots = plt.subplots(nrows=3, ncols=1, figsize=(16,8))\n",
    "    figure.suptitle(f\"Valores Obtidos Pelo Acelerómetro na Experiência {index%2+1} do Sujeito {index//2+1}\", fontsize = 'xx-large')\n",
    "    \n",
    "    #X\n",
    "    subplots[0].plot( user['Time (min)'], user['X'], lw = 0.3)\n",
    "    subplots[0].set_xlabel(\"Time (min)\")\n",
    "    subplots[0].set_ylabel(\"ACC_X\")\n",
    "    subplots[0].set_xlim(0, max(user['Time (min)']))\n",
    "    \n",
    "    #Y\n",
    "    subplots[1].plot( user['Time (min)'], user['Y'], lw = 0.3)\n",
    "    subplots[1].set_xlabel(\"Time (min)\")\n",
    "    subplots[1].set_ylabel(\"ACC_Y\")\n",
    "    subplots[1].set_xlim(0, max(user['Time (min)']))\n",
    "    \n",
    "    #Z\n",
    "    subplots[2].plot( user['Time (min)'], user['Z'], lw = 0.3)\n",
    "    subplots[2].set_xlabel(\"Time (min)\")\n",
    "    subplots[2].set_ylabel(\"ACC_Z\")\n",
    "    subplots[2].set_xlim(0, max(user['Time (min)']))\n",
    "    \n",
    "    xmin,xmax = subplots[0].get_xlim()\n",
    "    \n",
    "    for i in range(len(upxvalues)):\n",
    "        yv = 0.95 if i%2==0 else 0.90\n",
    "        frase = up[i]\n",
    "        xv = upxvalues[i]/xmax\n",
    "        \n",
    "        subplots[0].annotate(xycoords = 'axes fraction', text = frase, xy = (xv,yv), textcoords = subplots[0].transAxes, xytext = (xv,yv), fontweight='bold')\n",
    "        subplots[1].annotate(xycoords = 'axes fraction', text = frase, xy = (xv,yv), textcoords = subplots[1].transAxes, xytext = (xv,yv), fontweight='bold')\n",
    "        subplots[2].annotate(xycoords = 'axes fraction', text = frase, xy = (xv,yv), textcoords = subplots[2].transAxes, xytext = (xv,yv), fontweight='bold')\n",
    "        \n",
    "    yv = 0.01 \n",
    "    for i in range(len(downxvalues)):\n",
    "        frase = down[i]\n",
    "        xv = downxvalues[i]/xmax\n",
    "        \n",
    "        subplots[0].annotate(xycoords = 'axes fraction', text = frase, xy = (xv,yv), textcoords = subplots[0].transAxes, xytext = (xv,yv), fontweight='bold')\n",
    "        subplots[1].annotate(xycoords = 'axes fraction', text = frase, xy = (xv,yv), textcoords = subplots[1].transAxes, xytext = (xv,yv), fontweight='bold')\n",
    "        subplots[2].annotate(xycoords = 'axes fraction', text = frase, xy = (xv,yv), textcoords = subplots[2].transAxes, xytext =(xv,yv), fontweight='bold')\n",
    "    figure.tight_layout()"
   ]
  },
  {
   "source": [
    "## Visualização das atividades para todas as experiências do nosso dataset"
   ],
   "cell_type": "markdown",
   "metadata": {}
  },
  {
   "cell_type": "code",
   "execution_count": null,
   "metadata": {},
   "outputs": [],
   "source": [
    "downintervals = [0.08, 0.44, 0.78,  1.2, 1.6, 1.9, 2.5,  3.2, 4.4, 5, 5.6]\n",
    "upintervals = [0.39, 0.7, 1.1, 1.5, 1.9, 2.1, 2.8, 3.55, 4.7, 5.25, 5.8  ]\n",
    "\n",
    "downlabels = ['STAND', 'SIT', 'STAND','LAY', 'SIT', 'LAY', 'W', 'W','W_D', 'W_D', 'W_D']\n",
    "uplabels = ['STAND_SIT', 'SIT_STAND', 'STAND_LIE', 'LIE_SIT', 'SIT_LIE', 'LIE_STAND', 'W', 'W', 'W_U', 'W_U', 'W_U' ]\n",
    "\n",
    "plot_with_labels(upintervals, downintervals, uplabels, downlabels, user1_1, 0)"
   ]
  },
  {
   "cell_type": "code",
   "execution_count": null,
   "metadata": {},
   "outputs": [],
   "source": [
    "downintervals = [ 0.08, 0.45, 0.75, 1.3, 1.55, 1.95, 2.5, 3.4, 4.4, 5, 5.6]\n",
    "upintervals = [ 0.40, 0.7, 1.15, 1.5, 1.8, 2.1, 2.9, 3.8, 4.75, 5.3, 5.9 ]\n",
    "\n",
    "downlabels = [ 'STAND', \"SIT\", \"STAND\", \"LAY\", \"SIT\", \"LAY\", \"W\", \"W\", \"W_D\", \"W_D\", \"W_D\" ]\n",
    "uplabels = [ \"STAND_SIT\", \"SIT_STAND\", \"STAND_LIE\", \"LIE_SIT\", \"SIT_LIE\", \"LIE_STAND\", \"W\", \"W\", \"W_U\", \"W_U\", \"W_U\" ]\n",
    "\n",
    "plot_with_labels(upintervals, downintervals, uplabels, downlabels,user1_2, 1)"
   ]
  },
  {
   "cell_type": "code",
   "execution_count": null,
   "metadata": {},
   "outputs": [],
   "source": [
    "downintervals = [ 0.12, 0.6, 1, 1.5, 1.85, 2.2, 2.5, 3.4, 4.25, 4.9, 5.4 ]\n",
    "upintervals = [ 0.45, 0.87, 1.3, 1.6, 2.05, 2.5, 2.9, 3.95, 4.6, 5.15 ]\n",
    "\n",
    "downlabels = [ \"STAND\", \"SIT\", \"STAND\", \"LAY\", \"SIT\", \"LIE\", \"W\", \"W\", \"W_U\", \"W_U\", \"W_U\"]\n",
    "uplabels = [ \"STAND_SIT\", \"SIT_STAND\", \"STAND_LIE\", \"LIE_SIT\", \"SIT_LIE\", \"LIE_STAND\", \"W\", \"W_D\", \"W_D\", \"W_D\"]\n",
    "\n",
    "plot_with_labels(upintervals, downintervals, uplabels, downlabels, user2_1, 2)"
   ]
  },
  {
   "cell_type": "code",
   "execution_count": null,
   "metadata": {},
   "outputs": [],
   "source": [
    "downintervals = [ 0.2, 0.6, 0.8, 1.2, 1.5, 1.9, 2.3, 2.95, 3.8, 4.4, 4.9 ]\n",
    "upintervals = [ 0.4, 0.7, 1.1, 1.4, 1.7, 2.05, 2.6, 3.5, 4.1, 4.65 ]\n",
    "\n",
    "downlabels = [ \"STAND\", \"SIT\", \"STAND\", \"LAY\", \"SIT\", \"LIE\", \"W\", \"W\", \"W_U\", \"W_U\", \"W_U\" ]\n",
    "uplabels = [ \"STAND_SIT\",  \"SIT_STAND\", \"STAND_LIE\", \"LIE_SIT\", \"SIT_LIE\", \"LIE_STAND\", \"W\", \"W_D\", \"W_D\", \"W_D\" ]\n",
    "\n",
    "plot_with_labels(upintervals, downintervals, uplabels, downlabels, user2_2, 3)"
   ]
  },
  {
   "cell_type": "code",
   "execution_count": null,
   "metadata": {},
   "outputs": [],
   "source": [
    "downintervals = [ 0.1, 0.55, 0.9, 1.3, 1.7, 2.2, 2.6, 3.6, 4.7, 5.3, 6, 6.6]\n",
    "upintervals = [ 0.45, 0.7, 1.1, 1.6, 1.95, 2.3, 3, 4.3, 5.05, 5.7, 6.3 ]\n",
    "\n",
    "downlabels = [ \"STAND\", \"SIT\", \"STAND\", \"LAY\", \"SIT\", \"LAY\", \"W\", \"W\", \"W_U\", \"W_U\", \"W_U\", \"W_U\"]\n",
    "uplabels = [ \"STAND_SIT\", \"SIT_STAND\", \"STAND_LIE\", \"LIE_SIT\", \"SIT_LIE\", \"LIE_STAND\", \"W\", \"W_D\", \"W_D\", \"W_D\", \"W_D\" ]\n",
    "\n",
    "plot_with_labels(upintervals, downintervals, uplabels, downlabels, user3_1, 4)"
   ]
  },
  {
   "cell_type": "code",
   "execution_count": null,
   "metadata": {},
   "outputs": [],
   "source": [
    "downintervals = [ 0.2, 0.7, 1, 1.5, 1.9, 2.3, 2.6, 3.5, 4.3, 4.9, 5.45 ]\n",
    "upintervals = [ 0.6, 0.8, 1.3, 1.7, 2.1, 2.5, 3, 4, 4.6, 5.2 ]\n",
    "\n",
    "downlabels = [ \"STAND\", \"SIT\", \"STAND\", \"LAY\", \"SIT\", \"LAY\", \"W\", \"W\", \"W_U\", \"W_U\", \"W_U\", \"W_U\"]\n",
    "uplabels = [ \"STAND_SIT\", \"SIT_STAND\", \"STAND_LIE\", \"LIE_SIT\", \"SIT_LIE\", \"LIE_STAND\", \"W\", \"W_D\", \"W_D\", \"W_D\", \"W_D\" ]\n",
    "\n",
    "plot_with_labels(upintervals, downintervals, uplabels, downlabels, user3_2, 5)"
   ]
  },
  {
   "cell_type": "code",
   "execution_count": null,
   "metadata": {},
   "outputs": [],
   "source": [
    "downintervals = [ 0.15, 0.6, 0.9, 1.3, 1.7, 2.1, 2.45, 3.3, 4.3, 4.9, 5.45 ]\n",
    "upintervals = [ 0.4, 0.7, 1.1, 1.6, 1.9, 2.3, 2.9, 3.8, 4.6, 5.2 ]\n",
    "\n",
    "downlabels = [ \"STAND\", \"SIT\", \"STAND\", \"LAY\", \"STAND\", \"LAY\", \"W\", \"W\", \"W_U\", \"W_U\", \"W_U\", \"W_U\"]\n",
    "uplabels = [ \"STAND_SIT\", \"SIT_STAND\", \"STAND_LIE\", \"LIE_STAND\", \"STAND_LIE\", \"LIE_STAND\", \"W\", \"W_D\", \"W_D\", \"W_D\", \"W_D\" ]\n",
    "\n",
    "plot_with_labels(upintervals, downintervals, uplabels, downlabels, user4_1, 6)"
   ]
  },
  {
   "cell_type": "code",
   "execution_count": null,
   "metadata": {},
   "outputs": [],
   "source": [
    "downintervals = [ 0.15, 0.6, 0.9, 1.3, 1.6, 2, 2.4, 3.1, 3.9, 4.4, 4.9 ]\n",
    "upintervals = [ 0.4, 0.7, 1.1, 1.6, 1.9, 2.2, 2.7, 3.6, 4.2, 4.6 ]\n",
    "\n",
    "downlabels = [\"STAND\", \"SIT\", \"STAND\", \"LAY\", \"STAND\", \"LAY\", \"W\", \"W\", \"W_U\", \"W_U\", \"W_U\", \"W_U\"]\n",
    "uplabels = [  \"STAND_SIT\", \"SIT_STAND\", \"STAND_LIE\", \"LIE_STAND\", \"STAND_LIE\", \"LIE_STAND\", \"W\", \"W_D\", \"W_D\", \"W_D\", \"W_D\"  ]\n",
    "\n",
    "plot_with_labels(upintervals, downintervals, uplabels, downlabels, user4_2, 7)"
   ]
  }
 ]
}