{
 "metadata": {
  "language_info": {
   "codemirror_mode": {
    "name": "ipython",
    "version": 3
   },
   "file_extension": ".py",
   "mimetype": "text/x-python",
   "name": "python",
   "nbconvert_exporter": "python",
   "pygments_lexer": "ipython3",
   "version": "3.9.1"
  },
  "orig_nbformat": 2,
  "kernelspec": {
   "name": "python391jvsc74a57bd027d4f6ba00e5f9584c5bb13eed1064ec5c4936beebf286aef9eac3e7bf19e409",
   "display_name": "Python 3.9.1 64-bit"
  },
  "metadata": {
   "interpreter": {
    "hash": "27d4f6ba00e5f9584c5bb13eed1064ec5c4936beebf286aef9eac3e7bf19e409"
   }
  }
 },
 "nbformat": 4,
 "nbformat_minor": 2,
 "cells": [
  {
   "source": [
    "# Projeto ATD\n",
    "## 2ºsemestre 2020/2021\n",
    "### FCTUC - DEI\n",
    "### Membros:\n",
    "* Joel Oliveira\n",
    "* Tomás Mendes\n"
   ],
   "cell_type": "markdown",
   "metadata": {}
  },
  {
   "cell_type": "code",
   "execution_count": null,
   "metadata": {},
   "outputs": [],
   "source": [
    "import numpy as np\n",
    "from sympy import *\n",
    "import matplotlib.pyplot as plt\n",
    "import pandas as pd\n",
    "import math\n",
    "from scipy import signal\n",
    "import scipy as sy\n",
    "from numpy.fft import fft, fftshift"
   ]
  },
  {
   "source": [
    "### Ler dados do acelerómetro para variável\n",
    "#### (1 variável / experiência )\n",
    "##### userA_expB (Experiência B do Sujeito A)"
   ],
   "cell_type": "markdown",
   "metadata": {}
  },
  {
   "cell_type": "code",
   "execution_count": null,
   "metadata": {},
   "outputs": [],
   "source": [
    "user1_1 = pd.DataFrame(data = np.loadtxt(\"Datasets/acc_exp01_user01.txt\"), columns = ['X','Y','Z'])\n",
    "user1_2 = pd.DataFrame(data = np.loadtxt(\"Datasets/acc_exp02_user01.txt\"), columns = ['X','Y','Z'])\n",
    "user2_1 = pd.DataFrame(data = np.loadtxt(\"Datasets/acc_exp03_user02.txt\"), columns = ['X','Y','Z'])\n",
    "user2_2 = pd.DataFrame(data = np.loadtxt(\"Datasets/acc_exp04_user02.txt\"), columns = ['X','Y','Z'])\n",
    "user3_1 = pd.DataFrame(data = np.loadtxt(\"Datasets/acc_exp05_user03.txt\"), columns = ['X','Y','Z'])\n",
    "user3_2 = pd.DataFrame(data = np.loadtxt(\"Datasets/acc_exp06_user03.txt\"), columns = ['X','Y','Z'])\n",
    "user4_1 = pd.DataFrame(data = np.loadtxt(\"Datasets/acc_exp07_user04.txt\"), columns = ['X','Y','Z'])\n",
    "user4_2 = pd.DataFrame(data = np.loadtxt(\"Datasets/acc_exp08_user04.txt\"), columns = ['X','Y','Z'])"
   ]
  },
  {
   "source": [
    "##### Juntar à estrutura com os dados a informação do tempo em minutos de cada experiência"
   ],
   "cell_type": "markdown",
   "metadata": {}
  },
  {
   "cell_type": "code",
   "execution_count": null,
   "metadata": {},
   "outputs": [],
   "source": [
    "freq = 50 # Hz\n",
    "T = 1/freq # sec\n",
    "\n",
    "user1_1['Time (min)'] = np.arange(0, len(user1_1['X']) * T, T)/60\n",
    "user1_2['Time (min)'] = np.arange(0, len(user1_2['X']) * T, T)/60 \n",
    "user2_1['Time (min)'] = np.arange(0, len(user2_1['X']) * T, T)/60 \n",
    "user2_2['Time (min)'] = np.arange(0, len(user2_2['X']) * T, T)/60 \n",
    "user3_1['Time (min)'] = np.arange(0, len(user3_1['X']) * T, T)/60 \n",
    "user3_2['Time (min)'] = np.arange(0, len(user3_2['X']) * T, T)/60 \n",
    "user4_1['Time (min)'] = np.arange(0, len(user4_1['X']) * T, T)/60 \n",
    "user4_2['Time (min)'] = np.arange(0, len(user4_2['X']) * T, T)/60"
   ]
  },
  {
   "source": [
    "#### Guardar os dados das experiências num ficheiro .dat, para ler mais tarde"
   ],
   "cell_type": "markdown",
   "metadata": {}
  },
  {
   "cell_type": "code",
   "execution_count": null,
   "metadata": {},
   "outputs": [],
   "source": [
    "users_exp = [user1_1, user1_2, user2_1, user2_2, user3_1, user3_2, user4_1, user4_2]\n",
    "pd.to_pickle(users_exp, \"users.dat\")"
   ]
  },
  {
   "source": [
    "### Verificação dos dados presentes no DataSet, através da função 'info()' das DataFrame da livraria Pandas.\n",
    "#### Esta função devolve informações sobre a informação presente na DataFrame. É devolvida uma string com a quantidade de valores presente não nula, a quantidade de valores presente com valor nulo e ainda o tipoda informação presente em cada coluna. \n",
    "#### Assim, é possível verificar que o DataSet está bastante completo, sem falhas de informação, e o tipo de dados existente nele. No caso dados do tipo float."
   ],
   "cell_type": "markdown",
   "metadata": {}
  },
  {
   "cell_type": "code",
   "execution_count": null,
   "metadata": {},
   "outputs": [],
   "source": [
    "for i in range(len(users_exp)):\n",
    "    print(\"//\" + \"_\"*9 + f\"Sujeito {i//2+1} Experiencia {i%2+1}\" + \"_\"*9 + \"\\\\\\\\\", end = '\\n\\n')\n",
    "    users_exp[i].info()\n",
    "    print(\"\\n\")\n",
    "    "
   ]
  },
  {
   "cell_type": "code",
   "execution_count": null,
   "metadata": {},
   "outputs": [],
   "source": [
    "for i in range(len(users_exp)):\n",
    "    print(\"//\" + \"_\"*15 + f\"Sujeito {i//2+1} Experiencia {i%2+1}\" + \"_\"*15 + \"\\\\\\\\\", end='\\n\\n')\n",
    "    print(users_exp[i].describe())\n",
    "    print(\"\\n\")\n"
   ]
  },
  {
   "source": [
    "#### Leitura dos dados inseridos no ficheiro 'users.dat', anteriormente.\n",
    "##### Este ficheiro contém um array com as informações de cada experiência inseridas numa DataFrame"
   ],
   "cell_type": "markdown",
   "metadata": {}
  },
  {
   "source": [
    "users_exp = pd.read_pickle(\"users.dat\")\n",
    "user1_1, user1_2, user2_1, user2_2, user3_1, user3_2, user4_1, user4_2 = users_exp"
   ],
   "cell_type": "code",
   "metadata": {},
   "execution_count": null,
   "outputs": []
  },
  {
   "source": [
    "### Atividades Dinâmicas:\n",
    "#### 1. WALKING\n",
    "#### 2. WALKING_UPSTAIRS\n",
    "#### 3. WALKING_DOWNSTAIRS\n",
    "\n",
    "### Atividades Estáticas:\n",
    "#### 1. SITTING\n",
    "#### 2. STANDING\n",
    "#### 3. LAYING\n",
    "\n",
    "### Atividades de Transição:\n",
    "#### 1. STAND_TO_SIT\n",
    "#### 2. SIT_TO_STAND\n",
    "#### 3. SIT_TO_LIE\n",
    "#### 4. LIE_TO_SIT\n",
    "#### 5. STAND_TO_LIE\n",
    "#### 6. LIE_TO_STAND"
   ],
   "cell_type": "markdown",
   "metadata": {}
  },
  {
   "source": [
    "#### Função para escrever manualmente as atividades nos plots"
   ],
   "cell_type": "markdown",
   "metadata": {}
  },
  {
   "cell_type": "code",
   "execution_count": null,
   "metadata": {},
   "outputs": [],
   "source": [
    "def plot_with_labels(upxvalues, downxvalues, up, down, user, index):\n",
    "    '''\n",
    "    Plots the X, Y, Z axis from the accelerometer\n",
    "            Parameters:\n",
    "                    upxvalues (list): ordenadas para impressão de up (labels a colocar em cima)\n",
    "                    downxvalues (list): ordenadas para impressão de down (labels a colocar em baixo)\n",
    "                    up (list): lista com as labels das atividades\n",
    "                    down (list): list com as labels das atividades\n",
    "                    user (pandas.dataFrame): dataFrame com os dados do user a imprimir.\n",
    "                    index (int): numero da experiência, de modo a imprimir o Numero do Sujeito, bem como da sua experiência\n",
    "    '''\n",
    "    figure, subplots = plt.subplots(nrows=3, ncols=1, figsize=(16,8))\n",
    "    figure.suptitle(f\"Valores Obtidos Pelo Acelerómetro na Experiência {index%2+1} do Sujeito {index//2+1}\", fontsize = 'xx-large')\n",
    "    \n",
    "    #X\n",
    "    subplots[0].plot( user['Time (min)'], user['X'], lw = 0.3)\n",
    "    subplots[0].set_xlabel(\"Time (min)\")\n",
    "    subplots[0].set_ylabel(\"ACC_X\")\n",
    "    subplots[0].set_xlim(0, max(user['Time (min)']))\n",
    "    \n",
    "    #Y\n",
    "    subplots[1].plot( user['Time (min)'], user['Y'], lw = 0.3)\n",
    "    subplots[1].set_xlabel(\"Time (min)\")\n",
    "    subplots[1].set_ylabel(\"ACC_Y\")\n",
    "    subplots[1].set_xlim(0, max(user['Time (min)']))\n",
    "    \n",
    "    #Z\n",
    "    subplots[2].plot( user['Time (min)'], user['Z'], lw = 0.3)\n",
    "    subplots[2].set_xlabel(\"Time (min)\")\n",
    "    subplots[2].set_ylabel(\"ACC_Z\")\n",
    "    subplots[2].set_xlim(0, max(user['Time (min)']))\n",
    "    \n",
    "    xmin,xmax = subplots[0].get_xlim()\n",
    "    \n",
    "    for i in range(len(upxvalues)):\n",
    "        yv = 0.95 if i % 2 == 0 else 0.90\n",
    "        frase = up[i]\n",
    "        xv = upxvalues[i]/xmax\n",
    "        \n",
    "        subplots[0].annotate(xycoords = 'axes fraction', text = frase, xy = (xv,yv), textcoords = subplots[0].transAxes, xytext = (xv,yv), fontweight='bold')\n",
    "        subplots[1].annotate(xycoords = 'axes fraction', text = frase, xy = (xv,yv), textcoords = subplots[1].transAxes, xytext = (xv,yv), fontweight='bold')\n",
    "        subplots[2].annotate(xycoords = 'axes fraction', text = frase, xy = (xv,yv), textcoords = subplots[2].transAxes, xytext = (xv,yv), fontweight='bold')\n",
    "        \n",
    "    yv = 0.01 \n",
    "    for i in range(len(downxvalues)):\n",
    "        frase = down[i]\n",
    "        xv = downxvalues[i]/xmax\n",
    "        \n",
    "        subplots[0].annotate(xycoords = 'axes fraction', text = frase, xy = (xv,yv), textcoords = subplots[0].transAxes, xytext = (xv,yv), fontweight='bold')\n",
    "        subplots[1].annotate(xycoords = 'axes fraction', text = frase, xy = (xv,yv), textcoords = subplots[1].transAxes, xytext = (xv,yv), fontweight='bold')\n",
    "        subplots[2].annotate(xycoords = 'axes fraction', text = frase, xy = (xv,yv), textcoords = subplots[2].transAxes, xytext =(xv,yv), fontweight='bold')\n",
    "    figure.tight_layout()"
   ]
  },
  {
   "source": [
    "## Visualização das atividades para todas as experiências do nosso dataset"
   ],
   "cell_type": "markdown",
   "metadata": {}
  },
  {
   "cell_type": "code",
   "execution_count": null,
   "metadata": {},
   "outputs": [],
   "source": [
    "downintervals = [0.08, 0.44, 0.78,  1.2, 1.6, 1.9, 2.5,  3.2, 4.4, 5, 5.6]\n",
    "upintervals = [0.39, 0.7, 1.1, 1.5, 1.9, 2.1, 2.8, 3.55, 4.7, 5.25, 5.8  ]\n",
    "\n",
    "downlabels = ['STAND', 'SIT', 'STAND','LAY', 'SIT', 'LAY', 'W', 'W','W_D', 'W_D', 'W_D']\n",
    "uplabels = ['STAND_SIT', 'SIT_STAND', 'STAND_LIE', 'LIE_SIT', 'SIT_LIE', 'LIE_STAND', 'W', 'W', 'W_U', 'W_U', 'W_U' ]\n",
    "\n",
    "plot_with_labels(upintervals, downintervals, uplabels, downlabels, user1_1, 0)"
   ]
  },
  {
   "cell_type": "code",
   "execution_count": null,
   "metadata": {},
   "outputs": [],
   "source": [
    "downintervals = [ 0.08, 0.45, 0.75, 1.3, 1.55, 1.95, 2.5, 3.4, 4.4, 5, 5.6]\n",
    "upintervals = [ 0.40, 0.7, 1.15, 1.5, 1.8, 2.1, 2.9, 3.8, 4.75, 5.3, 5.9 ]\n",
    "\n",
    "downlabels = [ 'STAND', \"SIT\", \"STAND\", \"LAY\", \"SIT\", \"LAY\", \"W\", \"W\", \"W_D\", \"W_D\", \"W_D\" ]\n",
    "uplabels = [ \"STAND_SIT\", \"SIT_STAND\", \"STAND_LIE\", \"LIE_SIT\", \"SIT_LIE\", \"LIE_STAND\", \"W\", \"W\", \"W_U\", \"W_U\", \"W_U\" ]\n",
    "\n",
    "plot_with_labels(upintervals, downintervals, uplabels, downlabels,user1_2, 1)"
   ]
  },
  {
   "cell_type": "code",
   "execution_count": null,
   "metadata": {},
   "outputs": [],
   "source": [
    "downintervals = [ 0.12, 0.6, 1, 1.5, 1.85, 2.2, 2.5, 3.4, 4.25, 4.9, 5.4 ]\n",
    "upintervals = [ 0.45, 0.87, 1.3, 1.6, 2.05, 2.5, 2.9, 3.95, 4.6, 5.15 ]\n",
    "\n",
    "downlabels = [ \"STAND\", \"SIT\", \"STAND\", \"LAY\", \"SIT\", \"LIE\", \"W\", \"W\", \"W_U\", \"W_U\", \"W_U\"]\n",
    "uplabels = [ \"STAND_SIT\", \"SIT_STAND\", \"STAND_LIE\", \"LIE_SIT\", \"SIT_LIE\", \"LIE_STAND\", \"W\", \"W_D\", \"W_D\", \"W_D\"]\n",
    "\n",
    "plot_with_labels(upintervals, downintervals, uplabels, downlabels, user2_1, 2)"
   ]
  },
  {
   "cell_type": "code",
   "execution_count": null,
   "metadata": {},
   "outputs": [],
   "source": [
    "downintervals = [ 0.2, 0.6, 0.8, 1.2, 1.5, 1.9, 2.3, 2.95, 3.8, 4.4, 4.9 ]\n",
    "upintervals = [ 0.4, 0.7, 1.1, 1.4, 1.7, 2.05, 2.6, 3.5, 4.1, 4.65 ]\n",
    "\n",
    "downlabels = [ \"STAND\", \"SIT\", \"STAND\", \"LAY\", \"SIT\", \"LIE\", \"W\", \"W\", \"W_U\", \"W_U\", \"W_U\" ]\n",
    "uplabels = [ \"STAND_SIT\",  \"SIT_STAND\", \"STAND_LIE\", \"LIE_SIT\", \"SIT_LIE\", \"LIE_STAND\", \"W\", \"W_D\", \"W_D\", \"W_D\" ]\n",
    "\n",
    "plot_with_labels(upintervals, downintervals, uplabels, downlabels, user2_2, 3)"
   ]
  },
  {
   "cell_type": "code",
   "execution_count": null,
   "metadata": {},
   "outputs": [],
   "source": [
    "downintervals = [ 0.1, 0.55, 0.9, 1.3, 1.7, 2.2, 2.6, 3.6, 4.7, 5.3, 6, 6.6]\n",
    "upintervals = [ 0.45, 0.7, 1.1, 1.6, 1.95, 2.3, 3, 4.3, 5.05, 5.7, 6.3 ]\n",
    "\n",
    "downlabels = [ \"STAND\", \"SIT\", \"STAND\", \"LAY\", \"SIT\", \"LAY\", \"W\", \"W\", \"W_U\", \"W_U\", \"W_U\", \"W_U\"]\n",
    "uplabels = [ \"STAND_SIT\", \"SIT_STAND\", \"STAND_LIE\", \"LIE_SIT\", \"SIT_LIE\", \"LIE_STAND\", \"W\", \"W_D\", \"W_D\", \"W_D\", \"W_D\" ]\n",
    "\n",
    "plot_with_labels(upintervals, downintervals, uplabels, downlabels, user3_1, 4)"
   ]
  },
  {
   "cell_type": "code",
   "execution_count": null,
   "metadata": {},
   "outputs": [],
   "source": [
    "downintervals = [ 0.2, 0.7, 1, 1.5, 1.9, 2.3, 2.6, 3.5, 4.3, 4.9, 5.45 ]\n",
    "upintervals = [ 0.6, 0.8, 1.3, 1.7, 2.1, 2.5, 3, 4, 4.6, 5.2 ]\n",
    "\n",
    "downlabels = [ \"STAND\", \"SIT\", \"STAND\", \"LAY\", \"SIT\", \"LAY\", \"W\", \"W\", \"W_U\", \"W_U\", \"W_U\", \"W_U\"]\n",
    "uplabels = [ \"STAND_SIT\", \"SIT_STAND\", \"STAND_LIE\", \"LIE_SIT\", \"SIT_LIE\", \"LIE_STAND\", \"W\", \"W_D\", \"W_D\", \"W_D\", \"W_D\" ]\n",
    "\n",
    "plot_with_labels(upintervals, downintervals, uplabels, downlabels, user3_2, 5)"
   ]
  },
  {
   "cell_type": "code",
   "execution_count": null,
   "metadata": {},
   "outputs": [],
   "source": [
    "downintervals = [ 0.15, 0.6, 0.9, 1.3, 1.7, 2.1, 2.45, 3.3, 4.3, 4.9, 5.45 ]\n",
    "upintervals = [ 0.4, 0.7, 1.1, 1.6, 1.9, 2.3, 2.9, 3.8, 4.6, 5.2 ]\n",
    "\n",
    "downlabels = [ \"STAND\", \"SIT\", \"STAND\", \"LAY\", \"STAND\", \"LAY\", \"W\", \"W\", \"W_U\", \"W_U\", \"W_U\", \"W_U\"]\n",
    "uplabels = [ \"STAND_SIT\", \"SIT_STAND\", \"STAND_LIE\", \"LIE_STAND\", \"STAND_LIE\", \"LIE_STAND\", \"W\", \"W_D\", \"W_D\", \"W_D\", \"W_D\" ]\n",
    "\n",
    "plot_with_labels(upintervals, downintervals, uplabels, downlabels, user4_1, 6)"
   ]
  },
  {
   "cell_type": "code",
   "execution_count": null,
   "metadata": {},
   "outputs": [],
   "source": [
    "downintervals = [ 0.15, 0.6, 0.9, 1.3, 1.6, 2, 2.4, 3.1, 3.9, 4.4, 4.9 ]\n",
    "upintervals = [ 0.4, 0.7, 1.1, 1.6, 1.9, 2.2, 2.7, 3.6, 4.2, 4.6 ]\n",
    "\n",
    "downlabels = [\"STAND\", \"SIT\", \"STAND\", \"LAY\", \"STAND\", \"LAY\", \"W\", \"W\", \"W_U\", \"W_U\", \"W_U\", \"W_U\"]\n",
    "uplabels = [  \"STAND_SIT\", \"SIT_STAND\", \"STAND_LIE\", \"LIE_STAND\", \"STAND_LIE\", \"LIE_STAND\", \"W\", \"W_D\", \"W_D\", \"W_D\", \"W_D\"  ]\n",
    "\n",
    "plot_with_labels(upintervals, downintervals, uplabels, downlabels, user4_2, 7)"
   ]
  },
  {
   "source": [
    "## cenas do 3"
   ],
   "cell_type": "markdown",
   "metadata": {}
  },
  {
   "cell_type": "code",
   "execution_count": null,
   "metadata": {},
   "outputs": [],
   "source": [
    "#uma segmentação das informações do user, num intervalo [*xi*, *xf*[\n",
    "def ufrag(user, xi, xf):\n",
    "    return user[ (xi<=user['Time (min)']) & (user['Time (min)'] < xf) ].reset_index().drop(\"index\", axis = 1)"
   ]
  },
  {
   "cell_type": "code",
   "execution_count": null,
   "metadata": {},
   "outputs": [],
   "source": [
    "### Dá plot às informações dos 3 eixos de uma fragmentação do utilizador nos subplots *subplots*, com a cor *c*\n",
    "## Para ajudar a análise também dá plot a uma linha com a média dos valores, bem como da média +/- 3* desvio padrão\n",
    "def plot_walk(subplots, user, c):\n",
    "    # subplots -- array com 3 subplots\n",
    "    # c -- string com a cor\n",
    "    # user -- DataFrame com o user\n",
    "    xmean = user['X'].mean()\n",
    "    xstd = user['X'].std()\n",
    "    user.plot( x = 'Time (min)', y = 'X', ax = subplots[0], color = c )\n",
    "    subplots[0].plot( user['Time (min)'], np.full( (len(user['X']), ), xmean ), 'k:')\n",
    "    subplots[0].plot( user['Time (min)'], np.full( (len(user['X']), ), xmean + 3*xstd ), 'r--')\n",
    "    subplots[0].plot( user['Time (min)'], np.full( (len(user['X']), ), xmean - 3*xstd ), 'r--')\n",
    "    subplots[0].set_xlabel(\"Time (min)\")\n",
    "    subplots[0].set_ylabel(\"ACC_X\")\n",
    "    \n",
    "    \n",
    "    ymean = user['Y'].mean()\n",
    "    ystd = user['Y'].std()\n",
    "    user.plot( x = 'Time (min)', y = 'Y', ax = subplots[1], color = c )\n",
    "    subplots[1].plot( user['Time (min)'], np.full( (len(user['Y']), ), ymean ), 'k:')\n",
    "    subplots[1].plot( user['Time (min)'], np.full( (len(user['Y']), ), ymean + 3*ystd ), 'r--')\n",
    "    subplots[1].plot( user['Time (min)'], np.full( (len(user['Y']), ), ymean - 3*ystd ), 'r--')\n",
    "    subplots[1].set_xlabel(\"Time (min)\")\n",
    "    subplots[1].set_ylabel(\"ACC_Y\")\n",
    "    \n",
    "    zmean = user['Z'].mean()\n",
    "    zstd = user['Z'].std()\n",
    "    user.plot( x = 'Time (min)', y = 'Z', ax = subplots[2], color = c )\n",
    "    subplots[2].plot( user['Time (min)'], np.full( (len(user['Z']), ), zmean ), 'k:')\n",
    "    subplots[2].plot( user['Time (min)'], np.full( (len(user['Z']), ), zmean + 3*zstd ), 'r--')\n",
    "    subplots[2].plot( user['Time (min)'], np.full( (len(user['Z']), ), zmean - 3*zstd ), 'r--')\n",
    "    subplots[2].set_xlabel(\"Time (min)\")\n",
    "    subplots[2].set_ylabel(\"ACC_Z\")"
   ]
  },
  {
   "cell_type": "code",
   "execution_count": null,
   "metadata": {},
   "outputs": [],
   "source": [
    "### Dá plot às informações nos eixos das fragmentações do utilizador\n",
    "def plot_user_walks(user_walks):\n",
    "    # user_walks -- array com as fragmentações dos dados do utilizador // não deve exceder 4 fragmentações.\n",
    "    figure, subplots = plt.subplots(nrows = 6, ncols= 2, figsize = (14,10))\n",
    "    colors = ['royalblue', 'maroon', 'darkorange', 'olive']\n",
    "    \n",
    "    for i in range(len(user_walks)):\n",
    "        if i < 2:\n",
    "            plot_walk(subplots[:3,i], user_walks[i], colors[i] )\n",
    "            subplots[0,i].set_title(f\"WALK {i+1}\")\n",
    "        else:\n",
    "            plot_walk(subplots[3:,i-2], user_walks[i], colors[i] )\n",
    "            subplots[3,i-2].set_title(f\"WALK {i+1}\")\n",
    "    figure.tight_layout()"
   ]
  },
  {
   "cell_type": "code",
   "execution_count": null,
   "metadata": {},
   "outputs": [],
   "source": [
    "def set_between_std(user):\n",
    "    xmean = user['X'].mean()\n",
    "    xstd = user['X'].std()\n",
    "    user['X'] = user['X'].map(lambda x: (xmean + 2.5*xstd) if (x > xmean + 3*xstd) \n",
    "                              else ( (xmean - 2.5*xstd) if (x < xmean - 3*xstd) \n",
    "                                    else x ) )\n",
    "    \n",
    "    ymean = user['Y'].mean()\n",
    "    ystd = user['Y'].std()\n",
    "    user['Y'] = user['Y'].map(lambda x: (ymean + 2.5*ystd) if (x > ymean + 3*ystd) \n",
    "                              else ( (ymean - 2.5*ystd) if (x < ymean - 3*ystd) \n",
    "                                    else x ) )\n",
    "    \n",
    "    zmean = user['Z'].mean()\n",
    "    zstd = user['Z'].std()\n",
    "    user['Z'] = user['Z'].map(lambda x: (zmean + 2.5*zstd) if (x > zmean + 3*zstd) \n",
    "                              else ( (zmean - 2.5*zstd) if (x < zmean - 3*zstd) \n",
    "                                    else x ) )"
   ]
  },
  {
   "cell_type": "code",
   "execution_count": null,
   "metadata": {},
   "outputs": [],
   "source": [
    "def detrend_user_walk(user):\n",
    "    new = user.copy()\n",
    "    new['X'] = signal.detrend(user['X'])\n",
    "    new['Y'] = signal.detrend(user['Y'])\n",
    "    new['Z'] = signal.detrend(user['Z'])\n",
    "    return new"
   ]
  },
  {
   "cell_type": "code",
   "execution_count": null,
   "metadata": {},
   "outputs": [],
   "source": [
    "def plot_period_walk_freqs(walks, axe, freqs, size, N, index, adjust = True):\n",
    "    user_walks = [ ]\n",
    "    for j in range(len(walks)):\n",
    "        user_walks.append( [] )\n",
    "        for i in range(size//N):\n",
    "            user_walks[-1].append( np.array(walks[j][axe])[i*step:(i+1)*step] )\n",
    "    \n",
    "    dfts = []\n",
    "    for j in range(len(walks)):\n",
    "        dfts.append(fftshift(fft( user_walks[j][index] )))\n",
    "        if adjust:\n",
    "            dfts[-1][ np.abs(dfts[-1]/N) < 0.01 ] = 0\n",
    "    \n",
    "    figure, subplots = plt.subplots(nrows = 2, ncols= 2, figsize = (16,8))\n",
    "    colors = ['royalblue', 'maroon', 'darkorange', 'olive']\n",
    "    \n",
    "    for i in range(len(user_walks)):\n",
    "        if i < 2:\n",
    "            subplots[0,i].stem(freqs, np.abs(dfts[i]))\n",
    "            subplots[0,i].set_title(f\"PERIOD {index} of WALK {i+1}, in AXE {axe}\")\n",
    "        else:\n",
    "            subplots[1,i-2].stem(freqs, np.abs(dfts[i]))\n",
    "            subplots[1,i-2].set_title(f\"PERIOD {index} of WALK {i+1} in AXE {axe}\")\n",
    "    figure.tight_layout()"
   ]
  },
  {
   "source": [
    "## Fragmentação da atividade dinâmica WALKING\n",
    "### Primeiro Seccionar os intervalos da realização da atividade, de modo a poder operar apenas sobre eles"
   ],
   "cell_type": "markdown",
   "metadata": {}
  },
  {
   "source": [
    "### AVALIAR A PRIMEIRA EXPERIÊNCIA DO PRIMEIRO VOLUNTÁRIO"
   ],
   "cell_type": "markdown",
   "metadata": {}
  },
  {
   "cell_type": "code",
   "execution_count": null,
   "metadata": {},
   "outputs": [],
   "source": [
    "unow = user1_1\n",
    "walks_user1_1 = [ ufrag(unow, 2.56, 2.693), ufrag(unow, 2.955, 3.088), ufrag(user1_1, 3.355, 3.488), ufrag(user1_1, 3.715, 3.848)]\n",
    "walks_user1_1_detrended = []\n",
    "for i in walks_user1_1:\n",
    "    walks_user1_1_detrended.append( detrend_user_walk(i) )\n",
    "plot_user_walks(walks_user1_1_detrended)"
   ]
  },
  {
   "source": [
    "### Pela análise visual dos gráficos acima, a ação aparenta ter uma periodicidade próxima dos 0.019 s"
   ],
   "cell_type": "markdown",
   "metadata": {}
  },
  {
   "cell_type": "code",
   "execution_count": null,
   "metadata": {},
   "outputs": [],
   "source": [
    "step = 57\n",
    "plt.figure(figsize = (16,8))\n",
    "plt.subplot(221)\n",
    "for i in range(1,399//step + 1):\n",
    "    plt.plot(walks_user1_1_detrended[0]['Time (min)'][(i-1)*step: i * step], walks_user1_1_detrended[0]['Z'][(i-1)*step: i * step])\n",
    "    \n",
    "plt.subplot(222)\n",
    "for i in range(1,399//step + 1):\n",
    "    plt.plot(walks_user1_1_detrended[1]['Time (min)'][(i-1)*step: i * step], walks_user1_1_detrended[1]['Z'][(i-1)*step: i * step])\n",
    "    \n",
    "plt.subplot(223)\n",
    "for i in range(1,399//step + 1):\n",
    "    plt.plot(walks_user1_1_detrended[2]['Time (min)'][(i-1)*step: i * step], walks_user1_1_detrended[2]['Z'][(i-1)*step: i * step])\n",
    "    \n",
    "plt.subplot(224)\n",
    "for i in range(1,399//step + 1):\n",
    "    plt.plot(walks_user1_1_detrended[3]['Time (min)'][(i-1)*step: i * step], walks_user1_1_detrended[3]['Z'][(i-1)*step: i * step])"
   ]
  },
  {
   "cell_type": "code",
   "execution_count": null,
   "metadata": {},
   "outputs": [],
   "source": [
    "step = 57\n",
    "plt.figure(figsize = (16,8))\n",
    "\n",
    "plt.subplot(221)\n",
    "for i in range(399//step):\n",
    "    values = np.array(walks_user1_1_detrended[0]['Z'])[i*step:(i+1)*step]\n",
    "    plt.plot(range(len(values)), values )\n",
    "\n",
    "plt.subplot(222)\n",
    "for i in range(399//step):\n",
    "    values = np.array(walks_user1_1_detrended[1]['Z'])[i*step:(i+1)*step]\n",
    "    plt.plot(range(len(values)), values )\n",
    "\n",
    "plt.subplot(223)    \n",
    "for i in range(399//step):\n",
    "    values = np.array(walks_user1_1_detrended[1]['Z'])[i*step:(i+1)*step]\n",
    "    plt.plot(range(len(values)), values )\n",
    "\n",
    "plt.subplot(224)\n",
    "for i in range(399//step):\n",
    "    values = np.array(walks_user1_1_detrended[1]['Z'])[i*step:(i+1)*step]\n",
    "    plt.plot(range(len(values)), values )"
   ]
  },
  {
   "source": [
    "### Como é visível pelos gráficos acima, parece legítimo considerar 57 como um valor aproximado de N para o intervalo criado, havendo uma sobreposição de todas as divisões e aproximando se bastante de um período no gráfico acima. Visualmente, no gráfico anterior, também se verifica que as diferentes cores se assemelham a um período"
   ],
   "cell_type": "markdown",
   "metadata": {}
  },
  {
   "cell_type": "code",
   "execution_count": null,
   "metadata": {},
   "outputs": [],
   "source": [
    "N = 57\n",
    "fs = 50\n",
    "if N%2==0:\n",
    "    f = np.arange( -fs/2, fs/2 - fs/2/N + fs/N, fs/N) \n",
    "else:\n",
    "    f = np.arange( -fs/2 + fs/2/N, fs/2 - fs/2/N + fs/N, fs/N)"
   ]
  },
  {
   "cell_type": "code",
   "execution_count": null,
   "metadata": {},
   "outputs": [],
   "source": [
    "plot_period_walk_freqs(walks_user1_1_detrended, 'Z', f, 399, N, 0, False)"
   ]
  },
  {
   "cell_type": "code",
   "execution_count": null,
   "metadata": {},
   "outputs": [],
   "source": [
    "values = []\n",
    "for i in range(399//N):\n",
    "    values.append(np.array(walks_user1_1_detrended[0]['Z'])[i*step:(i+1)*step])"
   ]
  },
  {
   "cell_type": "code",
   "execution_count": null,
   "metadata": {},
   "outputs": [],
   "source": [
    "#plt.stem(f, abs(fftshift(fft(values[0]* hann_window))))"
   ]
  },
  {
   "cell_type": "code",
   "execution_count": null,
   "metadata": {},
   "outputs": [],
   "source": [
    "plt.stem(f, abs(fftshift(fft(values[0]))))"
   ]
  }
 ]
}