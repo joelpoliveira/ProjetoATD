{
 "cells": [
  {
   "cell_type": "markdown",
   "metadata": {},
   "source": [
    "# <center>Projeto ATD</center>\n",
    "## <center>2ºsemestre 2020/2021</center>\n",
    "### <center>FCTUC - DEI</center>\n",
    "### Membros:\n",
    "* Joel Oliveira - 2019227468\n",
    "* Tomás Mendes - 2019232272\n",
    "\n",
    "\n",
    "#### Livrarias utilizadas neste projeto:\n",
    "* numpy\n",
    "* pandas\n",
    "* matplotlib\n",
    "* scipy\n",
    "* sklearn\n",
    "* seaborn\n",
    "\n",
    "#### Todas estas livrarias podem ser instaladas com recurso ao pip, na linha de comandos, ou ao conda, na consola do Conda.\n"
   ]
  },
  {
   "cell_type": "code",
   "execution_count": null,
   "metadata": {},
   "outputs": [],
   "source": [
    "import numpy as np\n",
    "from sympy import *\n",
    "import matplotlib.pyplot as plt\n",
    "import pandas as pd\n",
    "import math\n",
    "from scipy import signal\n",
    "import scipy as sy\n",
    "from numpy.fft import fft, fftshift\n",
    "import seaborn as sns\n",
    "import matplotlib\n",
    "from sklearn.metrics import confusion_matrix\n",
    "from IPython.display import Markdown as md\n",
    "\n",
    "from data import *\n",
    "from functions import *\n",
    "\n",
    "#Colocar a False para gráficos claros (concordância com theme branco do jupyter)\n",
    "sns.set_style(\"whitegrid\")\n",
    "sns.set_palette(\"deep\")"
   ]
  },
  {
   "cell_type": "markdown",
   "metadata": {},
   "source": [
    "#### Leitura do ficheiro 'labels.txt'\n",
    "#### A Leitura do ficheiro 'activity_labels.txt' é realizada no ficheiro 'data.py', e os dados são importados desse ficheiro"
   ]
  },
  {
   "cell_type": "code",
   "execution_count": null,
   "metadata": {},
   "outputs": [],
   "source": [
    "# Filtrar dados do ficheiro para serem recebidos dados dos 8 primeiros voluntários\n",
    "intervalos = np.array(list(filter(lambda x: x[0]<=8, np.loadtxt('labels.txt', dtype = int))))"
   ]
  },
  {
   "cell_type": "markdown",
   "metadata": {},
   "source": [
    "## Verificação dos dados presentes no DataSet, através do método 'info()' da <i>DataFrame</i> do módulo <i>Pandas</i>. \n",
    "\n",
    "Esta função devolve informações sobre a informação presente na <i>DataFrame</i>. É devolvida uma <i>string</i> com:\n",
    "* quantidade de valores nulos e não nulos\n",
    "* tipo de dados em cada coluna\n",
    "\n",
    "Assim, é possível verificar que o <i>DataSet</i> está bastante completo, sem falhas de informação e o tipo de dados presentes, do tipo <i>Float</i> neste caso.\n"
   ]
  },
  {
   "cell_type": "code",
   "execution_count": null,
   "metadata": {
    "scrolled": true
   },
   "outputs": [],
   "source": [
    "for i in range(len(users)):\n",
    "    print(\"//\" + \"_\"*15 + f\"Sujeito {i//2+1} Experiencia {i%2+1}\" + \"_\"*15 + \"\\\\\\\\\", end='\\n\\n')\n",
    "    print(users[i].info())\n",
    "    print()"
   ]
  },
  {
   "cell_type": "markdown",
   "metadata": {},
   "source": [
    "## Atividades presentes nos <i>Datasets<i>\n",
    "### Atividades Dinâmicas:\n",
    "* WALKING\n",
    "* WALKING_UPSTAIRS\n",
    "* WALKING_DOWNSTAIRS\n",
    "\n",
    "### Atividades Estáticas:\n",
    "* SITTING\n",
    "* STANDING\n",
    "* LAYING\n",
    "\n",
    "### Atividades de Transição:\n",
    "* STAND_TO_SIT\n",
    "* SIT_TO_STAND\n",
    "* SIT_TO_LIE\n",
    "* LIE_TO_SIT\n",
    "* STAND_TO_LIE\n",
    "* LIE_TO_STAND"
   ]
  },
  {
   "cell_type": "markdown",
   "metadata": {},
   "source": [
    "## 2. Visualização e identificação das atividades do sinal de cada experiência"
   ]
  },
  {
   "cell_type": "code",
   "execution_count": null,
   "metadata": {},
   "outputs": [],
   "source": [
    "user = get_user(1,1)\n",
    "coordenadas = np.array(list(map(lambda y: [y[-3], y[-2]], filter(lambda x: x[0] == 1 and x[1] == 1, intervalos))))\n",
    "upcoords = list(map(lambda x: x[1], coordenadas[1::2]))\n",
    "downcoords = list(map(lambda x: x[1], coordenadas[::2]))\n",
    "\n",
    "uplabels = list(map(lambda x: x[0], coordenadas[1::2]))\n",
    "downlabels = list(map(lambda x: x[0], coordenadas[::2]))\n",
    "\n",
    "plot_with_labels(upcoords, downcoords, uplabels, downlabels, user, 0)"
   ]
  },
  {
   "cell_type": "code",
   "execution_count": null,
   "metadata": {},
   "outputs": [],
   "source": [
    "user = get_user(1,2)\n",
    "coordenadas = np.array(list(map(lambda y: [y[-3], y[-2]], filter(lambda x: x[0] == 1 and x[1] == 1, intervalos))))\n",
    "upcoords = list(map(lambda x: x[1], coordenadas[1::2]))\n",
    "downcoords = list(map(lambda x: x[1], coordenadas[::2]))\n",
    "\n",
    "uplabels = list(map(lambda x: x[0], coordenadas[1::2]))\n",
    "downlabels = list(map(lambda x: x[0], coordenadas[::2]))\n",
    "\n",
    "plot_with_labels(upcoords, downcoords, uplabels, downlabels, user, 0)"
   ]
  },
  {
   "cell_type": "code",
   "execution_count": null,
   "metadata": {},
   "outputs": [],
   "source": [
    "user = get_user(2,3)\n",
    "coordenadas = np.array(list(map(lambda y: [y[-3], y[-2]], filter(lambda x: x[0] == 1 and x[1] == 1, intervalos))))\n",
    "upcoords = list(map(lambda x: x[1], coordenadas[1::2]))\n",
    "downcoords = list(map(lambda x: x[1], coordenadas[::2]))\n",
    "\n",
    "uplabels = list(map(lambda x: x[0], coordenadas[1::2]))\n",
    "downlabels = list(map(lambda x: x[0], coordenadas[::2]))\n",
    "\n",
    "plot_with_labels(upcoords, downcoords, uplabels, downlabels, user, 0)"
   ]
  },
  {
   "cell_type": "code",
   "execution_count": null,
   "metadata": {},
   "outputs": [],
   "source": [
    "user = get_user(2,4)\n",
    "coordenadas = np.array(list(map(lambda y: [y[-3], y[-2]], filter(lambda x: x[0] == 1 and x[1] == 1, intervalos))))\n",
    "upcoords = list(map(lambda x: x[1], coordenadas[1::2]))\n",
    "downcoords = list(map(lambda x: x[1], coordenadas[::2]))\n",
    "\n",
    "uplabels = list(map(lambda x: x[0], coordenadas[1::2]))\n",
    "downlabels = list(map(lambda x: x[0], coordenadas[::2]))\n",
    "\n",
    "plot_with_labels(upcoords, downcoords, uplabels, downlabels, user, 0)"
   ]
  },
  {
   "cell_type": "code",
   "execution_count": null,
   "metadata": {},
   "outputs": [],
   "source": [
    "user = get_user(3,5)\n",
    "coordenadas = np.array(list(map(lambda y: [y[-3], y[-2]], filter(lambda x: x[0] == 1 and x[1] == 1, intervalos))))\n",
    "upcoords = list(map(lambda x: x[1], coordenadas[1::2]))\n",
    "downcoords = list(map(lambda x: x[1], coordenadas[::2]))\n",
    "\n",
    "uplabels = list(map(lambda x: x[0], coordenadas[1::2]))\n",
    "downlabels = list(map(lambda x: x[0], coordenadas[::2]))\n",
    "\n",
    "plot_with_labels(upcoords, downcoords, uplabels, downlabels, user, 0)"
   ]
  },
  {
   "cell_type": "code",
   "execution_count": null,
   "metadata": {},
   "outputs": [],
   "source": [
    "user = get_user(3,6)\n",
    "coordenadas = np.array(list(map(lambda y: [y[-3], y[-2]], filter(lambda x: x[0] == 1 and x[1] == 1, intervalos))))\n",
    "upcoords = list(map(lambda x: x[1], coordenadas[1::2]))\n",
    "downcoords = list(map(lambda x: x[1], coordenadas[::2]))\n",
    "\n",
    "uplabels = list(map(lambda x: x[0], coordenadas[1::2]))\n",
    "downlabels = list(map(lambda x: x[0], coordenadas[::2]))\n",
    "\n",
    "plot_with_labels(upcoords, downcoords, uplabels, downlabels, user, 0)"
   ]
  },
  {
   "cell_type": "code",
   "execution_count": null,
   "metadata": {},
   "outputs": [],
   "source": [
    "user = get_user(4,7)\n",
    "coordenadas = np.array(list(map(lambda y: [y[-3], y[-2]], filter(lambda x: x[0] == 1 and x[1] == 1, intervalos))))\n",
    "upcoords = list(map(lambda x: x[1], coordenadas[1::2]))\n",
    "downcoords = list(map(lambda x: x[1], coordenadas[::2]))\n",
    "\n",
    "uplabels = list(map(lambda x: x[0], coordenadas[1::2]))\n",
    "downlabels = list(map(lambda x: x[0], coordenadas[::2]))\n",
    "\n",
    "plot_with_labels(upcoords, downcoords, uplabels, downlabels, user, 0)"
   ]
  },
  {
   "cell_type": "code",
   "execution_count": null,
   "metadata": {},
   "outputs": [],
   "source": [
    "user = get_user(4,8)\n",
    "coordenadas = np.array(list(map(lambda y: [y[-3], y[-2]], filter(lambda x: x[0] == 1 and x[1] == 1, intervalos))))\n",
    "upcoords = list(map(lambda x: x[1], coordenadas[1::2]))\n",
    "downcoords = list(map(lambda x: x[1], coordenadas[::2]))\n",
    "\n",
    "uplabels = list(map(lambda x: x[0], coordenadas[1::2]))\n",
    "downlabels = list(map(lambda x: x[0], coordenadas[::2]))\n",
    "\n",
    "plot_with_labels(upcoords, downcoords, uplabels, downlabels, user, 0)"
   ]
  },
  {
   "cell_type": "markdown",
   "metadata": {},
   "source": [
    "## 3. Identificação das caraterísticas principais das várias atividades"
   ]
  },
  {
   "cell_type": "markdown",
   "metadata": {},
   "source": [
    "$\n",
    "\\text{Para Calcular a amplitude Cm: } \\\\\n",
    "X_{DFT}[m] - \\text{magnitude dos pontos na DFT} \\\\\n",
    "c_{m} = \\frac{X_{DFT}[m]}{N} -> N = len(\\text{ufrag}) \\\\\n",
    "C_{m} = \\begin{cases} \\frac{|X_{DFT}[0]|}{N}, \\mbox{ if } m \\mbox{ = 0} \\\\ \n",
    "\\frac{2|X_{DFT}[m]|}{N}, \\mbox{ if } m\\mbox{ > 0} \\end{cases}\n",
    "$"
   ]
  },
  {
   "cell_type": "markdown",
   "metadata": {},
   "source": [
    "## Seleção da janela para segmentar as atividades\n",
    "Nos <i>slides</i> das <i>TP's<i> há 3 exemplos de janelas usadas para estudos de frequências associadas a sinais. Estas são a janela de <i>Blackman</i>,de <i>Hamming</i> e de <i>Hanning</i>. Na documentação do módulo <i>numpy</i>, é possível encontrar mais algumas com história. A janela de <i>Bartlett</i>, que tem a forma de um triângulo, e a janela de <i>Kaiser</i>, que tem como parâmetro um $\\beta$ que na prática serve como fator de equilibrio tempo-frequência na análise do sinal.\n",
    "    \n",
    "Para o caso vamos testar apenas as 3 primeiras referidas."
   ]
  },
  {
   "cell_type": "code",
   "execution_count": null,
   "metadata": {},
   "outputs": [],
   "source": [
    "uteste = walks_user1_1[0]\n",
    "size = len(uteste)\n",
    "bwindow = signal.windows.blackman(size)\n",
    "hmwindow = np.hamming(size)\n",
    "hnwindow = signal.windows.hann(size)\n",
    "beta = 7.5\n",
    "kwindow = signal.windows.kaiser(size, beta)\n",
    "## PLOTTING \n",
    "fig = plt.figure(figsize=(14,5))\n",
    "\n",
    "plt.plot(bwindow, label = 'Blackman')\n",
    "plt.plot(hmwindow, label = 'Hamming')\n",
    "plt.plot(hnwindow, label = 'Hann')\n",
    "\n",
    "plt.title(\"Windows Distribution\")\n",
    "plt.tick_params(axis='x')\n",
    "plt.tick_params(axis='y')\n",
    "\n",
    "plt.legend()\n",
    "plt.tight_layout()"
   ]
  },
  {
   "cell_type": "markdown",
   "metadata": {},
   "source": [
    "Pela Documentação do <i>Numpy</i> foi implementado código para verificação visual de resposta a frequência de cada uma destas janelas "
   ]
  },
  {
   "cell_type": "code",
   "execution_count": null,
   "metadata": {},
   "outputs": [],
   "source": [
    "fbwindow = np.abs(fftshift(fft(bwindow,1024)))\n",
    "fhmwindow = np.abs(fftshift(fft(hmwindow,1024)))\n",
    "fhnwindow = np.abs(fftshift(fft(hnwindow,1024)))\n",
    "\n",
    "freq = np.linspace(-0.5, 0.5, 1024)\n",
    "\n",
    "with np.errstate(divide='ignore', invalid='ignore'):\n",
    "    nfbwindow = 20*np.log10(fbwindow)\n",
    "    nfhmwindow = 20* np.log10(fhmwindow)\n",
    "    nfhnwindow = 20 * np.log10(fhnwindow)\n",
    "\n",
    "nfbwindow = np.clip(nfbwindow, -150, 100)\n",
    "nfhmwindow = np.clip(nfhmwindow, -150, 100)\n",
    "nfhnwindow = np.clip(nfhnwindow, -150, 100)\n",
    "    \n",
    "fig = plt.figure(figsize=(14,5))\n",
    "\n",
    "plt.plot(freq, nfbwindow, label = 'Blackman')\n",
    "plt.plot(freq, nfhmwindow, label = 'Hamming')\n",
    "plt.plot(freq, nfhnwindow, label = 'Hann')\n",
    "\n",
    "plt.title(\"Windows Distribution\")\n",
    "plt.tick_params(axis='x')\n",
    "plt.tick_params(axis='y')\n",
    "\n",
    "\n",
    "plt.legend()\n",
    "plt.tight_layout()"
   ]
  },
  {
   "cell_type": "markdown",
   "metadata": {},
   "source": [
    "Pelos gráficos das janelas no tempo e da resposta a frequência das janelas a pensamos que a mais apropriada para o este projeto será a <i>Hanning</i>, apesar de que na prática e com testes feitos anteriormente, os resultados serem basicamente os mesmos. A janela de <i>Hanning</i>, pelo nossa pesquisa, tem uma eficiência, na computação, similar à da janela de <i>Hamming</i>. Obtém resultados piores no domínio do tempo, pois a sua janela atinge 0 nas pontas, o que pode alterar bastante o sinal original. \n",
    "No entanto, para a análise das frequências, isto pode não ser algo negativo. Isto faz com que tenhamos a certeza de que não é adicionada nenhuma frequência indesejada na transformada. Pelos fragmentos feitos das atividades, também nos parece que com a quantidade de dados em cada fragmento, o abate das pontas não seja significativo para a perda total das frequências fundamentais à análise da DFT. Para além disto, no caso da STFT, será efetuada uma sobreposição de janelas, pelo que a maioria dessas frequências abatidas, será recuperada na janela seguinte."
   ]
  },
  {
   "cell_type": "code",
   "execution_count": null,
   "metadata": {},
   "outputs": [],
   "source": [
    "fig = plt.figure(figsize=(8,5))\n",
    "accax = 'Y'\n",
    "plt.subplot(311)\n",
    "plt.plot(bwindow*uteste[accax])\n",
    "plt.title(\"Blackman Window\")\n",
    "plt.tick_params(axis='x')\n",
    "plt.tick_params(axis='y')\n",
    "\n",
    "\n",
    "\n",
    "plt.subplot(312)\n",
    "plt.plot(hmwindow*uteste[accax])\n",
    "plt.title(\"Hamming Window\")\n",
    "plt.tick_params(axis='x')\n",
    "plt.tick_params(axis='y')\n",
    "\n",
    "\n",
    "plt.subplot(313)\n",
    "plt.plot(hnwindow*uteste[accax])\n",
    "plt.title(\"Hanning Window\")\n",
    "plt.tick_params(axis='x')\n",
    "plt.tick_params(axis='y')\n",
    "\n",
    "\n",
    "plt.tight_layout()"
   ]
  },
  {
   "cell_type": "code",
   "execution_count": null,
   "metadata": {},
   "outputs": [],
   "source": [
    "uteste = walks_user1_1_detrended[0]\n",
    "\n",
    "fig = plt.figure(figsize=(8,5))\n",
    "accax = 'Y'\n",
    "plt.subplot(311)\n",
    "plt.plot(bwindow*uteste[accax])\n",
    "plt.title(\"Blackman Window\")\n",
    "plt.tick_params(axis='x')\n",
    "plt.tick_params(axis='y')\n",
    "\n",
    "\n",
    "\n",
    "plt.subplot(312)\n",
    "plt.plot(hmwindow*uteste[accax])\n",
    "plt.title(\"Hamming Window\")\n",
    "plt.tick_params(axis='x')\n",
    "plt.tick_params(axis='y')\n",
    "\n",
    "\n",
    "plt.subplot(313)\n",
    "plt.plot(hnwindow*uteste[accax])\n",
    "plt.title(\"Hanning Window\")\n",
    "plt.tick_params(axis='x')\n",
    "plt.tick_params(axis='y')\n",
    "\n",
    "plt.tight_layout()"
   ]
  },
  {
   "cell_type": "markdown",
   "metadata": {},
   "source": [
    "Como é visível no plot dos gráficos, não efetuar um detrend aos dados pode levar a um formato não desejado do sinal, pelo que no nosso estudo, em principio será aplicado um dentrend a cada sinal, de forma a centrá-lo no eixo y=0."
   ]
  },
  {
   "cell_type": "code",
   "execution_count": null,
   "metadata": {
    "tags": []
   },
   "outputs": [],
   "source": [
    "patamar = 0.7\n",
    "#plot_activity_dft(uteste, len(uteste), 0, 0, 'WALK', False, patamar,True,'b')\n",
    "#plot_activity_dft(uteste, len(uteste), 0, 0, 'WALK', False, patamar,True,'hm')\n",
    "#plot_activity_dft(uteste, len(uteste), 0, 0, 'WALK', False, patamar,True,'hn')\n",
    "#plot_activity_dft(uteste, len(uteste), 0, 0, 'WALK', False, patamar,True,'k')\n"
   ]
  },
  {
   "cell_type": "markdown",
   "metadata": {},
   "source": [
    "Pela verificação do produto do das janelas, com o segmento do sinal associado a atividades dinâmicas e ao mesmo sinal após um 'detrend', verifica-se que o sinal detrended obtém melhores resultados para uma melhor análise, pois fica mais simétrico em relação ao eixo central. "
   ]
  },
  {
   "cell_type": "code",
   "execution_count": null,
   "metadata": {},
   "outputs": [],
   "source": [
    "x, y, z = plot_activity_dft(walks_down_user2_2_detrended[0], len(walks_down_user2_2_detrended[0]), 1, 2, 'WALK DOWN', False, 0,'blackman',True)\n",
    "x, y, z = plot_activity_dft(walks_down_user2_2_detrended[0], len(walks_down_user2_2_detrended[0]), 1, 2, 'WALK DOWN', False, 0, 'hamming', True)\n",
    "x, y, z = plot_activity_dft(walks_down_user2_2_detrended[0], len(walks_down_user2_2_detrended[0]), 1, 2, 'WALK DOWN', False, 0, 'hann', True)\n",
    "x, y, z = plot_activity_dft(walks_down_user2_2_detrended[0], len(walks_down_user2_2_detrended[0]), 1, 2, 'WALK DOWN', False, 0, 'rect', True)"
   ]
  },
  {
   "cell_type": "markdown",
   "metadata": {},
   "source": [
    "## Calculo das DFT's das várias experiências dos utilizadores do nosso dataset\n",
    "\n",
    "Para fazer o cálculo das DFT's é usada a função 'plot_activity_dft(activity, size, user, exp, title, zeros, threshold, window, plotit)'\n",
    "* activity: fragmento para calcular a DFT\n",
    "* size: len(activity)\n",
    "* user: nº do user\n",
    "* exp: nº da experiência\n",
    "* title: nome da atividade\n",
    "* zeros: ignorar os frequências abaixo da frequência máxima * threshold\n",
    "* window: tipo de janela a usar\n",
    "* plotit: mostar o gráfico ou não\n",
    "\n",
    "#### <u>Nota</u>: Apenas esta a ser mostrado o cálculo das DFT's para a 1º atividade de cada categoria, i.e, apenas o 1º <i>walking</i> dos vários users, porque cada experiência tem 3-4 <i>walkings</i>"
   ]
  },
  {
   "cell_type": "code",
   "execution_count": null,
   "metadata": {},
   "outputs": [],
   "source": [
    "hannx, y, z = plot_activity_dft(walks_down_user1_1_detrended[0], len(walks_down_user1_1_detrended[0]), 1, 1, 'WALK DOWN', True, 0.7, 'hann', False)\n",
    "x, y, z = plot_activity_dft(walks_down_user1_2_detrended[0], len(walks_down_user1_2_detrended[0]), 1, 2, 'WALK DOWN', True, 0.7, 'hann', False)\n",
    "x, y, z = plot_activity_dft(walks_down_user2_1_detrended[0], len(walks_down_user2_1_detrended[0]), 2, 1, 'WALK DOWN', True, 0.7, 'hann', False)\n",
    "x, y, z = plot_activity_dft(walks_down_user2_2_detrended[0], len(walks_down_user2_2_detrended[0]), 2, 2, 'WALK DOWN', True, 0.7, 'hann', False)\n",
    "x, y, z = plot_activity_dft(walks_down_user3_1_detrended[0], len(walks_down_user3_1_detrended[0]), 3, 1, 'WALK DOWN', True, 0.7, 'hann', False)\n",
    "x, y, z = plot_activity_dft(walks_down_user3_2_detrended[0], len(walks_down_user3_2_detrended[0]), 3, 2, 'WALK DOWN', True, 0.7, 'hann', False)\n",
    "x, y, z = plot_activity_dft(walks_down_user4_1_detrended[0], len(walks_down_user4_1_detrended[0]), 4, 1, 'WALK DOWN', True, 0.7, 'hann', False)\n",
    "x, y, z = plot_activity_dft(walks_down_user4_2_detrended[0], len(walks_down_user4_2_detrended[0]), 4, 2, 'WALK DOWN', True, 0.7, 'hann', False)"
   ]
  },
  {
   "cell_type": "markdown",
   "metadata": {},
   "source": [
    "### DFT's da atividades WALK_UP de todos as experiências"
   ]
  },
  {
   "cell_type": "code",
   "execution_count": null,
   "metadata": {},
   "outputs": [],
   "source": [
    "x, y, z = plot_activity_dft(walks_up_user1_1_detrended[0], len(walks_up_user1_1_detrended[0]), 1, 1, 'WALK UP', True, 0.7, 'hann', False)\n",
    "x, y, z = plot_activity_dft(walks_up_user1_2_detrended[0], len(walks_up_user1_2_detrended[0]), 1, 2, 'WALK UP', True, 0.7, 'hann', False)\n",
    "x, y, z = plot_activity_dft(walks_up_user2_1_detrended[0], len(walks_up_user2_1_detrended[0]), 2, 1, 'WALK UP', True, 0.7, 'hann', False)\n",
    "x, y, z = plot_activity_dft(walks_up_user2_2_detrended[0], len(walks_up_user2_2_detrended[0]), 2, 2, 'WALK UP', True, 0.7, 'hann', False)\n",
    "x, y, z = plot_activity_dft(walks_up_user3_1_detrended[0], len(walks_up_user3_1_detrended[0]), 3, 1, 'WALK UP', True, 0.7, 'hann', False)\n",
    "x, y, z = plot_activity_dft(walks_up_user3_2_detrended[0], len(walks_up_user3_2_detrended[0]), 3, 2, 'WALK UP', True, 0.7, 'hann', False)\n",
    "x, y, z = plot_activity_dft(walks_up_user4_1_detrended[0], len(walks_up_user4_1_detrended[0]), 4, 1, 'WALK UP', True, 0.7, 'hann', False)\n",
    "x, y, z = plot_activity_dft(walks_up_user4_2_detrended[0], len(walks_up_user4_2_detrended[0]), 4, 2, 'WALK UP', True, 0.7, 'hann', False)"
   ]
  },
  {
   "cell_type": "markdown",
   "metadata": {},
   "source": [
    "### DFT's da atividades WALK de todos as experiências"
   ]
  },
  {
   "cell_type": "code",
   "execution_count": null,
   "metadata": {},
   "outputs": [],
   "source": [
    "x, y, z = plot_activity_dft(walks_user1_1_detrended[0], len(walks_user1_1_detrended[0]), 1, 1, 'WALK', True, 0.7, 'hann', False)\n",
    "x, y, z = plot_activity_dft(walks_user1_2_detrended[0], len(walks_user1_2_detrended[0]), 1, 2, 'WALK', True, 0.7, 'hann', False)\n",
    "x, y, z = plot_activity_dft(walks_user2_1_detrended[0], len(walks_user2_1_detrended[0]), 2, 1, 'WALK', True, 0.7, 'hann', False)\n",
    "x, y, z = plot_activity_dft(walks_user2_2_detrended[0], len(walks_user2_2_detrended[0]), 2, 2, 'WALK', True, 0.7, 'hann', False)\n",
    "x, y, z = plot_activity_dft(walks_user3_1_detrended[0], len(walks_user3_1_detrended[0]), 3, 1, 'WALK', True, 0.7, 'hann', False)\n",
    "x, y, z = plot_activity_dft(walks_user3_2_detrended[0], len(walks_user3_2_detrended[0]), 3, 2, 'WALK', True, 0.7, 'hann', False)\n",
    "x, y, z = plot_activity_dft(walks_user4_1_detrended[0], len(walks_user4_1_detrended[0]), 4, 1, 'WALK', True, 0.7, 'hann', False)\n",
    "x, y, z = plot_activity_dft(walks_user4_2_detrended[0], len(walks_user4_2_detrended[0]), 4, 2, 'WALK', True, 0.7, 'hann', False)"
   ]
  },
  {
   "cell_type": "markdown",
   "metadata": {},
   "source": [
    "### DFT's da atividades STAND de todos as experiências"
   ]
  },
  {
   "cell_type": "code",
   "execution_count": null,
   "metadata": {},
   "outputs": [],
   "source": [
    "x, y, z = plot_activity_dft(stand_user1_1_detrended[0], len(stand_user1_1_detrended[0]), 1, 1, 'STAND', True, 0.7, 'hann', False)\n",
    "x, y, z = plot_activity_dft(stand_user1_2_detrended[0], len(stand_user1_2_detrended[0]), 1, 2, 'STAND', True, 0.7, 'hann', False)\n",
    "x, y, z = plot_activity_dft(stand_user2_1_detrended[0], len(stand_user2_1_detrended[0]), 2, 1, 'STAND', True, 0.7, 'hann', False)\n",
    "x, y, z = plot_activity_dft(stand_user2_2_detrended[0], len(stand_user2_2_detrended[0]), 2, 2, 'STAND', True, 0.7, 'hann', False)\n",
    "x, y, z = plot_activity_dft(stand_user3_1_detrended[0], len(stand_user3_1_detrended[0]), 3, 1, 'STAND', True, 0.7, 'hann', False)\n",
    "x, y, z = plot_activity_dft(stand_user3_2_detrended[0], len(stand_user3_2_detrended[0]), 3, 2, 'STAND', True, 0.7, 'hann', False)\n",
    "x, y, z = plot_activity_dft(stand_user4_1_detrended[0], len(stand_user4_1_detrended[0]), 4, 1, 'STAND', True, 0.7, 'hann', False)\n",
    "x, y, z = plot_activity_dft(stand_user4_2_detrended[0], len(stand_user4_2_detrended[0]), 4, 2, 'STAND', True, 0.7, 'hann', False)"
   ]
  },
  {
   "cell_type": "markdown",
   "metadata": {},
   "source": [
    "### DFT's da atividades SIT de todos as experiências"
   ]
  },
  {
   "cell_type": "code",
   "execution_count": null,
   "metadata": {
    "scrolled": true
   },
   "outputs": [],
   "source": [
    "x, y, z = plot_activity_dft(sit_user1_1_detrended[0], len(sit_user1_1_detrended[0]), 1, 1, 'SIT', True, 0.7, 'hann', False)\n",
    "x, y, z = plot_activity_dft(sit_user1_2_detrended[0], len(sit_user1_2_detrended[0]), 1, 2, 'SIT', True, 0.7, 'hann', False)\n",
    "x, y, z = plot_activity_dft(sit_user2_1_detrended[0], len(sit_user2_1_detrended[0]), 2, 1, 'SIT', True, 0.7, 'hann', False)\n",
    "x, y, z = plot_activity_dft(sit_user2_2_detrended[0], len(sit_user2_2_detrended[0]), 2, 2, 'SIT', True, 0.7, 'hann', False)\n",
    "x, y, z = plot_activity_dft(sit_user3_1_detrended[0], len(sit_user3_1_detrended[0]), 3, 1, 'SIT', True, 0.7, 'hann', False)\n",
    "x, y, z = plot_activity_dft(sit_user3_2_detrended[0], len(sit_user3_2_detrended[0]), 3, 2, 'SIT', True, 0.7, 'hann', False)\n",
    "x, y, z = plot_activity_dft(sit_user4_1_detrended[0], len(sit_user4_1_detrended[0]), 4, 1, 'SIT', True, 0.7, 'hann', False)\n",
    "x, y, z = plot_activity_dft(sit_user4_2_detrended[0], len(sit_user4_2_detrended[0]), 4, 2, 'SIT', True, 0.7, 'hann', False)"
   ]
  },
  {
   "cell_type": "markdown",
   "metadata": {},
   "source": [
    "### DFT's da atividades LAY de todos as experiências"
   ]
  },
  {
   "cell_type": "code",
   "execution_count": null,
   "metadata": {},
   "outputs": [],
   "source": [
    "x, y, z = plot_activity_dft(lay_user1_1_detrended[1], len(lay_user1_1_detrended[1]), 1, 1, 'LAY', True, 0.7, 'hann', False)\n",
    "x, y, z = plot_activity_dft(lay_user1_2_detrended[1], len(lay_user1_2_detrended[1]), 1, 2, 'LAY', True, 0.7, 'hann', False)\n",
    "x, y, z = plot_activity_dft(lay_user2_1_detrended[1], len(lay_user2_1_detrended[1]), 2, 1, 'LAY', True, 0.7, 'hann', False)\n",
    "x, y, z = plot_activity_dft(lay_user2_2_detrended[1], len(lay_user2_2_detrended[1]), 2, 2, 'LAY', True, 0.7, 'hann', False)\n",
    "x, y, z = plot_activity_dft(lay_user3_1_detrended[1], len(lay_user3_1_detrended[1]), 3, 1, 'LAY', True, 0.7, 'hann', False)\n",
    "x, y, z = plot_activity_dft(lay_user3_2_detrended[1], len(lay_user3_2_detrended[1]), 3, 2, 'LAY', True, 0.7, 'hann', False)\n",
    "x, y, z = plot_activity_dft(lay_user4_1_detrended[1], len(lay_user4_1_detrended[1]), 4, 1, 'LAY', True, 0.7, 'hann', False)\n",
    "x, y, z = plot_activity_dft(lay_user4_2_detrended[1], len(lay_user4_2_detrended[1]), 4, 2, 'LAY', True, 0.7, 'hann', False)"
   ]
  },
  {
   "cell_type": "markdown",
   "metadata": {},
   "source": [
    "### DFT's da atividades STAND_SIT de todos as experiências"
   ]
  },
  {
   "cell_type": "code",
   "execution_count": null,
   "metadata": {
    "scrolled": true
   },
   "outputs": [],
   "source": [
    "x, y, z = plot_activity_dft(stand_sit_user1_1_detrended, len(stand_sit_user1_1_detrended), 1, 1, 'STAND_SIT', True, 0.7, 'hann', False)\n",
    "x, y, z = plot_activity_dft(stand_sit_user1_2_detrended, len(stand_sit_user1_2_detrended), 1, 2, 'STAND_SIT', True, 0.7, 'hann', False)\n",
    "x, y, z = plot_activity_dft(stand_sit_user2_1_detrended, len(stand_sit_user2_1_detrended), 2, 1, 'STAND_SIT', True, 0.7, 'hann', False)\n",
    "x, y, z = plot_activity_dft(stand_sit_user2_2_detrended, len(stand_sit_user2_2_detrended), 2, 2, 'STAND_SIT', True, 0.7, 'hann', False)\n",
    "x, y, z = plot_activity_dft(stand_sit_user3_1_detrended, len(stand_sit_user3_1_detrended), 3, 1, 'STAND_SIT', True, 0.7, 'hann', False)\n",
    "x, y, z = plot_activity_dft(stand_sit_user3_2_detrended, len(stand_sit_user3_2_detrended), 3, 2, 'STAND_SIT', True, 0.7, 'hann', False)\n",
    "x, y, z = plot_activity_dft(stand_sit_user4_1_detrended, len(stand_sit_user4_1_detrended), 4, 1, 'STAND_SIT', True, 0.7, 'hann', False)\n",
    "x, y, z = plot_activity_dft(stand_sit_user4_2_detrended, len(stand_sit_user4_2_detrended), 4, 2, 'STAND_SIT', True, 0.7, 'hann', False)\n"
   ]
  },
  {
   "cell_type": "markdown",
   "metadata": {},
   "source": [
    "### DFT's da atividades SIT_STAND de todos as experiências"
   ]
  },
  {
   "cell_type": "code",
   "execution_count": null,
   "metadata": {},
   "outputs": [],
   "source": [
    "hann, y, z = plot_activity_dft(sit_stand_user1_1_detrended, len(sit_stand_user1_1_detrended), 1, 1, 'SIT_STAND', True, 0.7, 'hann', False)\n",
    "x, y, z = plot_activity_dft(sit_stand_user1_2_detrended, len(sit_stand_user1_2_detrended), 1, 2, 'SIT_STAND', True, 0.7, 'hann', False)\n",
    "x, y, z = plot_activity_dft(sit_stand_user2_1_detrended, len(sit_stand_user2_1_detrended), 2, 1, 'SIT_STAND', True, 0.7, 'hann', False)\n",
    "x, y, z = plot_activity_dft(sit_stand_user2_2_detrended, len(sit_stand_user2_2_detrended), 2, 2, 'SIT_STAND', True, 0.7, 'hann', False)\n",
    "x, y, z = plot_activity_dft(sit_stand_user3_1_detrended, len(sit_stand_user3_1_detrended), 3, 1, 'SIT_STAND', True, 0.7, 'hann', False)\n",
    "x, y, z = plot_activity_dft(sit_stand_user3_2_detrended, len(sit_stand_user3_2_detrended), 3, 2, 'SIT_STAND', True, 0.7, 'hann', False)\n",
    "x, y, z = plot_activity_dft(sit_stand_user4_1_detrended, len(sit_stand_user4_1_detrended), 4, 1, 'SIT_STAND', True, 0.7, 'hann', False)\n",
    "x, y, z = plot_activity_dft(sit_stand_user4_2_detrended, len(sit_stand_user4_2_detrended), 4, 2, 'SIT_STAND', True, 0.7, 'hann', False)"
   ]
  },
  {
   "cell_type": "markdown",
   "metadata": {},
   "source": [
    "### DFT's da atividades STAND_LIE de todos as experiências"
   ]
  },
  {
   "cell_type": "code",
   "execution_count": null,
   "metadata": {},
   "outputs": [],
   "source": [
    "x, y, z = plot_activity_dft(stand_lie_user1_1_detrended, len(stand_lie_user1_1_detrended), 1, 1, 'STAND_LIE', True, 0.7, 'hann', False)\n",
    "x, y, z = plot_activity_dft(stand_lie_user1_2_detrended, len(stand_lie_user1_2_detrended), 1, 2, 'STAND_LIE', True, 0.7, 'hann', False)\n",
    "x, y, z = plot_activity_dft(stand_lie_user2_1_detrended, len(stand_lie_user2_1_detrended), 2, 1, 'STAND_LIE', True, 0.7, 'hann', False)\n",
    "x, y, z = plot_activity_dft(stand_lie_user2_2_detrended, len(stand_lie_user2_2_detrended), 2, 2, 'STAND_LIE', True, 0.7, 'hann', False)\n",
    "x, y, z = plot_activity_dft(stand_lie_user3_1_detrended, len(stand_lie_user3_1_detrended), 3, 1, 'STAND_LIE', True, 0.7, 'hann', False)\n",
    "x, y, z = plot_activity_dft(stand_lie_user3_2_detrended, len(stand_lie_user3_2_detrended), 3, 2, 'STAND_LIE', True, 0.7, 'hann', False)\n",
    "x, y, z = plot_activity_dft(stand_lie_user4_1_detrended, len(stand_lie_user4_1_detrended), 4, 1, 'STAND_LIE', True, 0.7, 'hann', False)\n",
    "x, y, z = plot_activity_dft(stand_lie_user4_2_detrended, len(stand_lie_user4_2_detrended), 4, 2, 'STAND_LIE', True, 0.7, 'hann', False)"
   ]
  },
  {
   "cell_type": "markdown",
   "metadata": {},
   "source": [
    "### DFT's da atividades LIE_STAND de todos as experiências"
   ]
  },
  {
   "cell_type": "code",
   "execution_count": null,
   "metadata": {
    "scrolled": true
   },
   "outputs": [],
   "source": [
    "x, y, z = plot_activity_dft(lie_stand_user1_1_detrended, len(lie_stand_user1_1_detrended), 1, 1, 'LIE_STAND', True, 0.7, 'hann', False)\n",
    "x, y, z = plot_activity_dft(lie_stand_user1_2_detrended, len(lie_stand_user1_2_detrended), 1, 2, 'LIE_STAND', True, 0.7, 'hann', False)\n",
    "x, y, z = plot_activity_dft(lie_stand_user2_1_detrended, len(lie_stand_user2_1_detrended), 2, 1, 'LIE_STAND', True, 0.7, 'hann', False)\n",
    "x, y, z = plot_activity_dft(lie_stand_user2_2_detrended, len(lie_stand_user2_2_detrended), 2, 2, 'LIE_STAND', True, 0.7, 'hann', False)\n",
    "x, y, z = plot_activity_dft(lie_stand_user3_1_detrended, len(lie_stand_user3_1_detrended), 3, 1, 'LIE_STAND', True, 0.7, 'hann', False)\n",
    "x, y, z = plot_activity_dft(lie_stand_user3_2_detrended, len(lie_stand_user3_2_detrended), 3, 2, 'LIE_STAND', True, 0.7, 'hann', False)\n",
    "x, y, z = plot_activity_dft(lie_stand_user4_1_detrended, len(lie_stand_user4_1_detrended), 4, 1, 'LIE_STAND', True, 0.7, 'hann', False)\n",
    "x, y, z = plot_activity_dft(lie_stand_user4_2_detrended, len(lie_stand_user4_2_detrended), 4, 2, 'LIE_STAND', True, 0.7, 'hann', False)"
   ]
  },
  {
   "cell_type": "markdown",
   "metadata": {},
   "source": [
    "### DFT's da atividades LIE_SIT de todos as experiências"
   ]
  },
  {
   "cell_type": "code",
   "execution_count": null,
   "metadata": {},
   "outputs": [],
   "source": [
    "x, y, z = plot_activity_dft(lie_sit_user1_1_detrended, len(lie_sit_user1_1_detrended), 1, 1, 'LIE_SIT', True, 0.7, 'hann', False)\n",
    "x, y, z = plot_activity_dft(lie_sit_user1_2_detrended, len(lie_sit_user1_2_detrended), 1, 2, 'LIE_SIT', True, 0.7, 'hann', False)\n",
    "x, y, z = plot_activity_dft(lie_sit_user2_1_detrended, len(lie_sit_user2_1_detrended), 2, 1, 'LIE_SIT', True, 0.7, 'hann', False)\n",
    "x, y, z = plot_activity_dft(lie_sit_user2_2_detrended, len(lie_sit_user2_2_detrended), 2, 2, 'LIE_SIT', True, 0.7, 'hann', False)\n",
    "x, y, z = plot_activity_dft(lie_sit_user3_1_detrended, len(lie_sit_user3_1_detrended), 3, 1, 'LIE_SIT', True, 0.7, 'hann', False)\n",
    "x, y, z = plot_activity_dft(lie_sit_user3_2_detrended, len(lie_sit_user3_2_detrended), 3, 2, 'LIE_SIT', True, 0.7, 'hann', False)\n",
    "x, y, z = plot_activity_dft(lie_sit_user4_1_detrended, len(lie_sit_user4_1_detrended), 4, 1, 'LIE_SIT', True, 0.7, 'hann', False)\n",
    "x, y, z = plot_activity_dft(lie_sit_user4_2_detrended, len(lie_sit_user4_2_detrended), 4, 2, 'LIE_SIT', True, 0.7, 'hann', False)"
   ]
  },
  {
   "cell_type": "markdown",
   "metadata": {},
   "source": [
    "### DFT's da atividades SIT_LIE de todos as experiências"
   ]
  },
  {
   "cell_type": "code",
   "execution_count": null,
   "metadata": {},
   "outputs": [],
   "source": [
    "x, y, z = plot_activity_dft(sit_lie_user1_1_detrended, len(sit_lie_user1_1_detrended), 1, 1, 'SIT_LIE', True, 0.7, 'hann', False)\n",
    "x, y, z = plot_activity_dft(sit_lie_user1_2_detrended, len(sit_lie_user1_2_detrended), 1, 2, 'SIT_LIE', True, 0.7, 'hann', False)\n",
    "x, y, z = plot_activity_dft(sit_lie_user2_1_detrended, len(sit_lie_user2_1_detrended), 2, 1, 'SIT_LIE', True, 0.7, 'hann', False)\n",
    "x, y, z = plot_activity_dft(sit_lie_user2_2_detrended, len(sit_lie_user2_2_detrended), 2, 2, 'SIT_LIE', True, 0.7, 'hann', False)\n",
    "x, y, z = plot_activity_dft(sit_lie_user3_1_detrended, len(sit_lie_user3_1_detrended), 3, 1, 'SIT_LIE', True, 0.7, 'hann', False)\n",
    "x, y, z = plot_activity_dft(sit_lie_user3_2_detrended, len(sit_lie_user3_2_detrended), 3, 2, 'SIT_LIE', True, 0.7, 'hann', False)\n",
    "x, y, z = plot_activity_dft(sit_lie_user4_1_detrended, len(sit_lie_user4_1_detrended), 4, 1, 'SIT_LIE', True, 0.7, 'hann', False)\n",
    "x, y, z = plot_activity_dft(sit_lie_user4_2_detrended, len(sit_lie_user4_2_detrended), 4, 2, 'SIT_LIE', True, 0.7, 'hann', False)"
   ]
  },
  {
   "cell_type": "markdown",
   "metadata": {},
   "source": [
    "## Frequências representativas de cada atividade\n",
    "Para obter as frequências que representam cada atividade, é usada a função 'get_frequencies_from_activities()' que da print ao 'describe()' de um <i>DataFrame</i> do módulo <i>Pandas</i> que tem a informação de uma atividade de todos os <i>users</i>. O 'describe()' mostra o valor minimo presente, o maximo, a média, o desvio padrão, entre outros. Com estes dados podemos escolher um intervalo de frequências, em cada eixo, que representam uma atividade. "
   ]
  },
  {
   "cell_type": "markdown",
   "metadata": {},
   "source": [
    "### Walking"
   ]
  },
  {
   "cell_type": "code",
   "execution_count": null,
   "metadata": {},
   "outputs": [],
   "source": [
    "d = get_frequencies_from_activities(walks_user, 0.8, 'hann')\n",
    "walk_user_freq = {'X':[d['X'].min(), d['X'].max()], 'Y': [d['Y'].min(), d['Y'].max()], 'Z':[d['Z'].min(), d['Z'].max()]}\n",
    "d.describe()"
   ]
  },
  {
   "cell_type": "markdown",
   "metadata": {},
   "source": [
    "### Walking down"
   ]
  },
  {
   "cell_type": "code",
   "execution_count": null,
   "metadata": {},
   "outputs": [],
   "source": [
    "d = get_frequencies_from_activities(walks_down_user, 0.8, 'hann')\n",
    "walk_down_user_freq = {'X':[d['X'].min(), d['X'].max()], 'Y': [d['Y'].min(), d['Y'].max()], 'Z':[d['Z'].min(), d['Z'].max()]}\n",
    "d.describe()"
   ]
  },
  {
   "cell_type": "markdown",
   "metadata": {},
   "source": [
    "### Walking up"
   ]
  },
  {
   "cell_type": "code",
   "execution_count": null,
   "metadata": {},
   "outputs": [],
   "source": [
    "d = get_frequencies_from_activities(walks_up_user, 0.8, 'hann')\n",
    "walk_up_user_freq = {'X':[d['X'].min(), d['X'].max()], 'Y': [d['Y'].min(), d['Y'].max()], 'Z':[d['Z'].min(), d['Z'].max()]}\n",
    "d.describe()"
   ]
  },
  {
   "cell_type": "markdown",
   "metadata": {},
   "source": [
    "### Stand"
   ]
  },
  {
   "cell_type": "code",
   "execution_count": null,
   "metadata": {},
   "outputs": [],
   "source": [
    "d = get_frequencies_from_activities(stand_user, 0.8, 'hann')\n",
    "stand_user_freq = {'X':[d['X'].min(), d['X'].max()], 'Y': [d['Y'].min(), d['Y'].max()], 'Z':[d['Z'].min(), d['Z'].max()]}\n",
    "d.describe()"
   ]
  },
  {
   "cell_type": "markdown",
   "metadata": {},
   "source": [
    "### Sit"
   ]
  },
  {
   "cell_type": "code",
   "execution_count": null,
   "metadata": {},
   "outputs": [],
   "source": [
    "d = get_frequencies_from_activities(sit_user, 0.8, 'hann')\n",
    "sit_user_freq = {'X':[d['X'].min(), d['X'].max()], 'Y': [d['Y'].min(), d['Y'].max()], 'Z':[d['Z'].min(), d['Z'].max()]}\n",
    "d.describe()"
   ]
  },
  {
   "cell_type": "markdown",
   "metadata": {},
   "source": [
    "### Lay"
   ]
  },
  {
   "cell_type": "code",
   "execution_count": null,
   "metadata": {},
   "outputs": [],
   "source": [
    "d = get_frequencies_from_activities(lay_user, 0.8, 'hann')\n",
    "lay_user_freq = {'X':[d['X'].min(), d['X'].max()], 'Y': [d['Y'].min(), d['Y'].max()], 'Z':[d['Z'].min(), d['Z'].max()]}\n",
    "d.describe()"
   ]
  },
  {
   "cell_type": "markdown",
   "metadata": {},
   "source": [
    "### Stand to sit"
   ]
  },
  {
   "cell_type": "code",
   "execution_count": null,
   "metadata": {},
   "outputs": [],
   "source": [
    "d = get_frequencies_from_activities(stand_sit_user, 0.8, 'hann')\n",
    "stand_sit_user_freq = {'X':[d['X'].min(), d['X'].max()], 'Y': [d['Y'].min(), d['Y'].max()], 'Z':[d['Z'].min(), d['Z'].max()]}\n",
    "d.describe()"
   ]
  },
  {
   "cell_type": "markdown",
   "metadata": {},
   "source": [
    "### Sit to stand"
   ]
  },
  {
   "cell_type": "code",
   "execution_count": null,
   "metadata": {},
   "outputs": [],
   "source": [
    "d = get_frequencies_from_activities(sit_stand_user, 0.8, 'hann')\n",
    "sit_stand_user_freq = {'X':[d['X'].min(), d['X'].max()], 'Y': [d['Y'].min(), d['Y'].max()], 'Z':[d['Z'].min(), d['Z'].max()]}\n",
    "d.describe()"
   ]
  },
  {
   "cell_type": "markdown",
   "metadata": {},
   "source": [
    "### Stand to lie"
   ]
  },
  {
   "cell_type": "code",
   "execution_count": null,
   "metadata": {},
   "outputs": [],
   "source": [
    "d = get_frequencies_from_activities(stand_lie_user, 0.8, 'hann')\n",
    "stand_lie_user_freq = {'X':[d['X'].min(), d['X'].max()], 'Y': [d['Y'].min(), d['Y'].max()], 'Z':[d['Z'].min(), d['Z'].max()]}\n",
    "d.describe()"
   ]
  },
  {
   "cell_type": "markdown",
   "metadata": {},
   "source": [
    "### Lie to stand"
   ]
  },
  {
   "cell_type": "code",
   "execution_count": null,
   "metadata": {},
   "outputs": [],
   "source": [
    "d = get_frequencies_from_activities(lie_stand_user, 0.8, 'hann')\n",
    "lie_stand_user_freq = {'X':[d['X'].min(), d['X'].max()], 'Y': [d['Y'].min(), d['Y'].max()], 'Z':[d['Z'].min(), d['Z'].max()]}\n",
    "d.describe()"
   ]
  },
  {
   "cell_type": "markdown",
   "metadata": {},
   "source": [
    "### Lie to sit"
   ]
  },
  {
   "cell_type": "code",
   "execution_count": null,
   "metadata": {},
   "outputs": [],
   "source": [
    "d = get_frequencies_from_activities(lie_sit_user, 0.8, 'hann')\n",
    "lie_sit_user_freq = {'X':[d['X'].min(), d['X'].max()], 'Y': [d['Y'].min(), d['Y'].max()], 'Z':[d['Z'].min(), d['Z'].max()]}\n",
    "d.describe()"
   ]
  },
  {
   "cell_type": "markdown",
   "metadata": {},
   "source": [
    "### Sit to lie"
   ]
  },
  {
   "cell_type": "code",
   "execution_count": null,
   "metadata": {},
   "outputs": [],
   "source": [
    "d = get_frequencies_from_activities(sit_lie_user, 0.8, 'hann')\n",
    "sit_lie_user_freq = {'X':[d['X'].min(), d['X'].max()], 'Y': [d['Y'].min(), d['Y'].max()], 'Z':[d['Z'].min(), d['Z'].max()]}\n",
    "d.describe()"
   ]
  },
  {
   "cell_type": "markdown",
   "metadata": {},
   "source": [
    "## Calculo dos passos por minuto\n",
    "Para estimar os passos por minuto, é necessário ter o valor do período, ou da frequência do sinal corresponde à atividade.\n",
    "Visto que não temos a frequência exata do sinal, é necessário, também, estimar este parâmetro. Esta estimativa é calculada através de uma média aritmética das frequências mais significativas presentes em cada segmento da atividade em estudo.<br>\n",
    "O eixo das acelerações 'X' pareceu-nos o mais indicado para o cálculo, pois é o que sofre mais alterações em cada passo, visto termos oscilações verticais aquando do mesmo, principalmente na subida e descida de escadas. O eixo 'Y', no entanto, também seria um bom candidato, visto termos uma rotação de tronco que acompanha o passo.<br>\n",
    "O número de passos por minuto é calculado através da seguinte fórmula: <br>\n",
    "$$\n",
    "steps = \\frac{60}{\\frac{1}{freqs[X]}}\n",
    "$$\n",
    "\n",
    "$\\frac{1}{freqs[X]}$ = período do sinal. Apenas é necesário fazer $\\frac{60}{T}$ para obter os passos por minuto.\n"
   ]
  },
  {
   "cell_type": "markdown",
   "metadata": {},
   "source": [
    "### Walking"
   ]
  },
  {
   "cell_type": "code",
   "execution_count": null,
   "metadata": {},
   "outputs": [],
   "source": [
    "aux = []\n",
    "for i in range(4):\n",
    "    for j in range(2):\n",
    "        d = get_frequencies_from_activities(walks_user[i+j], 0.8, 'hann')\n",
    "        steps = 60 / (1/d['X'].mean())\n",
    "        aux.append(steps)\n",
    "        print(f'user{i+1}_{j+1} -> {steps:.2f}')\n",
    "\n",
    "d = pd.DataFrame(np.array(aux), columns = ['Steps p/ min'])\n",
    "d.describe().loc[['mean','std']]"
   ]
  },
  {
   "cell_type": "markdown",
   "metadata": {},
   "source": [
    "### Walking up"
   ]
  },
  {
   "cell_type": "code",
   "execution_count": null,
   "metadata": {},
   "outputs": [],
   "source": [
    "aux = []\n",
    "for i in range(4):\n",
    "    for j in range(2):\n",
    "        d = get_frequencies_from_activities(walks_up_user[i+j], 0.8, 'blackman')\n",
    "        steps = 60 / (1/d['X'].mean())\n",
    "        aux.append(steps)\n",
    "        print(f'user{i+1}_{j+1} -> {steps:.2f}')\n",
    "\n",
    "d = pd.DataFrame(np.array(aux), columns = ['Steps p/ min'])\n",
    "d.describe().loc[['mean','std']]"
   ]
  },
  {
   "cell_type": "markdown",
   "metadata": {},
   "source": [
    "### Walking down"
   ]
  },
  {
   "cell_type": "code",
   "execution_count": null,
   "metadata": {},
   "outputs": [],
   "source": [
    "aux = []\n",
    "for i in range(4):\n",
    "    for j in range(2):\n",
    "        d = get_frequencies_from_activities(walks_down_user[i+j], 0.8, 'blackman')\n",
    "        steps = 60 / (1/d['X'].mean())\n",
    "        aux.append(steps)\n",
    "        print(f'user{i+1}_{j+1} -> {steps:.2f}')\n",
    "\n",
    "d = pd.DataFrame(np.array(aux), columns = ['Steps p/ min'])\n",
    "d.describe().loc[['mean','std']]"
   ]
  },
  {
   "cell_type": "markdown",
   "metadata": {},
   "source": [
    "### <i>Print</i> das frequências representativas de cada atividade, obtidas anteriormente"
   ]
  },
  {
   "cell_type": "code",
   "execution_count": null,
   "metadata": {},
   "outputs": [],
   "source": [
    "print('walk')\n",
    "print(walk_user_freq)\n",
    "print('walk down')\n",
    "print(walk_down_user_freq)\n",
    "print('walk up')\n",
    "print(walk_up_user_freq)\n",
    "print('stand')\n",
    "print(stand_user_freq)\n",
    "print('sit')\n",
    "print(sit_user_freq)\n",
    "print('lay')\n",
    "print(lay_user_freq)\n",
    "print('stand to sit')\n",
    "print(stand_sit_user_freq)\n",
    "print('sit to stand')\n",
    "print(sit_stand_user_freq)\n",
    "print('stand to lie')\n",
    "print(stand_lie_user_freq)\n",
    "print('lie to stand')\n",
    "print(lie_stand_user_freq)\n",
    "print('lie to sit')\n",
    "print(lie_sit_user_freq)\n",
    "print('sit to lie')\n",
    "print(sit_lie_user_freq)"
   ]
  },
  {
   "cell_type": "markdown",
   "metadata": {},
   "source": [
    "### Juntar as freqências num dicionário para ser mais fácil de fazer a indentificação"
   ]
  },
  {
   "cell_type": "code",
   "execution_count": null,
   "metadata": {},
   "outputs": [],
   "source": [
    "atividades = {}\n",
    "atividades['walk'] = walk_user_freq\n",
    "atividades['walk_down'] = walk_down_user_freq\n",
    "atividades['walk_up'] = walk_up_user_freq\n",
    "atividades['stand'] = stand_user_freq\n",
    "atividades['lay'] = lay_user_freq\n",
    "atividades['sit'] = sit_user_freq\n",
    "atividades['stand_sit'] = stand_sit_user_freq\n",
    "atividades['sit_stand'] = sit_stand_user_freq\n",
    "atividades['stand_lie'] = stand_lie_user_freq\n",
    "atividades['lie_stand'] = lie_stand_user_freq\n",
    "atividades['lie_sit'] = lie_sit_user_freq\n",
    "atividades['sit_lie'] = sit_lie_user_freq"
   ]
  },
  {
   "cell_type": "code",
   "execution_count": null,
   "metadata": {},
   "outputs": [],
   "source": [
    "#walks_index = np.array(list(filter(lambda x: x[2]==1, intervalos)))\n",
    "#walks_down_index = np.array(list(filter(lambda x: x[2]==3, intervalos)))\n",
    "#walks_up_index = np.array(list(filter(lambda x: x[2]==3, intervalos)))\n",
    "\n",
    "#sit_index = np.array(list(filter(lambda x: x[2]==4, intervalos)))\n",
    "#stand_index = np.array(list(filter(lambda x: x[2]==5, intervalos)))\n",
    "#lay_index = np.array(list(filter(lambda x: x[2]==6, intervalos)))\n",
    "\n",
    "#stand_sit_index = np.array(list(filter(lambda x: x[2]==7, intervalos)))\n",
    "#sit_stand_index = np.array(list(filter(lambda x: x[2]==8, intervalos)))\n",
    "#sit_lie_index = np.array(list(filter(lambda x: x[2]==9, intervalos)))\n",
    "#lie_sit_index = np.array(list(filter(lambda x: x[2]==10, intervalos)))\n",
    "#stand_lie_index = np.array(list(filter(lambda x: x[2]==11, intervalos)))\n",
    "#lie_stand_index = np.array(list(filter(lambda x: x[2]==12, intervalos)))"
   ]
  },
  {
   "cell_type": "markdown",
   "metadata": {},
   "source": [
    "## Métodos de distinguir as atividades de transição, dinâmicas e estáticas\n",
    "Pela análise da sinal tempo, bem como da sua Transformada de Fourier, foi possível verificar que as atividades estáticas, em casos normais (ou seja, sem ruído), são caracterizadas por terem uma amplitude baixa. Num caso perfeito em que o ruído não estivesse presente, seriam também caracterizados por uma grande magnitude na frequência 0.<br>\n",
    "Nas atividades de Transição, é claro, do lado do tempo, que estas têm uma duração de um instante, não perduram no tempo, pelo que para a verificação da duração do sinal nos pareceu um bom método.\n",
    "Para as atividades dinâmicas, a verificação, é feita maioritariamente a partir da frequência do segmento do sinal."
   ]
  },
  {
   "cell_type": "markdown",
   "metadata": {},
   "source": [
    "### 3.5 Verificação da atividade presente em cada Segmento para teste à Sensibilidade e especificidade dos parâmetros usados para distinguir atividades"
   ]
  },
  {
   "cell_type": "markdown",
   "metadata": {},
   "source": [
    "colocar um array com os resultados que são suposto obter (pela ordem do ficheiro 'activity_labels.txt')\n"
   ]
  },
  {
   "cell_type": "code",
   "execution_count": null,
   "metadata": {},
   "outputs": [],
   "source": [
    "real = []\n",
    "for i in intervalos:\n",
    "    real.append( convert_to_class(i) )"
   ]
  },
  {
   "cell_type": "markdown",
   "metadata": {},
   "source": [
    "Mapear os resultados para formato binário, para cada classe, de modo a obter uma melhor matriz confusão.\n",
    "Isto é. Conforme a classe de atividades que estamos a testar colocar 1 onde é essa atividade, 0 onde não é essa atividade.\n",
    "Estes são os valores de 'teste' para cada atividade."
   ]
  },
  {
   "cell_type": "code",
   "execution_count": null,
   "metadata": {},
   "outputs": [],
   "source": [
    "dinamicos = list(map(lambda x: 1 if x==3 else 0, real))\n",
    "estaticos = list(map(lambda x: 1 if x==1 else 0, real))\n",
    "transicao = list(map(lambda x: 1 if x==2 else 0, real))"
   ]
  },
  {
   "cell_type": "code",
   "execution_count": null,
   "metadata": {},
   "outputs": [],
   "source": [
    "predict = []\n",
    "for i in intervalos:\n",
    "    value = get_sample_predict(get_user(i[1], i[0]), 1, [i[-2], i[-1]])\n",
    "    predict.append( value )"
   ]
  },
  {
   "cell_type": "markdown",
   "metadata": {},
   "source": [
    "de igual modo, mapear a resposta obtida para formato binaria conforme a atividade a testar."
   ]
  },
  {
   "cell_type": "code",
   "execution_count": null,
   "metadata": {},
   "outputs": [],
   "source": [
    "dinamicos_predict = list(map(lambda x: 1 if x==3 else 0, predict))\n",
    "estaticos_predict = list(map(lambda x: 1 if x==1 else 0, predict))\n",
    "transicao_predict = list(map(lambda x: 1 if x==2 else 0, predict))"
   ]
  },
  {
   "cell_type": "markdown",
   "metadata": {},
   "source": [
    "##### Formatação da matriz de confusão da livraria sklearn:\n",
    "$\n",
    "\\begin{array}{c|c}\n",
    "    TrueNegative & FalsePositive\n",
    "    \\\\ \\hline\n",
    "    FalseNegative & TruePosivite\n",
    "\\end{array}\n",
    "$"
   ]
  },
  {
   "cell_type": "code",
   "execution_count": null,
   "metadata": {},
   "outputs": [],
   "source": [
    "a = confusion_matrix(dinamicos, dinamicos_predict)\n",
    "b = confusion_matrix(estaticos, estaticos_predict)\n",
    "c = confusion_matrix(transicao, transicao_predict)"
   ]
  },
  {
   "cell_type": "code",
   "execution_count": null,
   "metadata": {},
   "outputs": [],
   "source": [
    "md(\"\"\"\n",
    "### Matriz de confusão para atividades dinâmicas\n",
    "$\n",
    "\\\\begin{array}{c|c}\n",
    "    %d & %d\n",
    "    \\\\\\\\ \\\\hline\n",
    "    %d & %d\n",
    "\\\\end{array}\n",
    "$\n",
    "### Matriz de confusão para atividades estáticas\n",
    "$\n",
    "\\\\begin{array}{c|c}\n",
    "    %d & %d\n",
    "    \\\\\\\\ \\\\hline\n",
    "    %d & %d\n",
    "\\\\end{array}\n",
    "$\n",
    "### Matriz de confusão para atividades transição\n",
    "$\n",
    "\\\\begin{array}{c|c}\n",
    "    %d & %d\n",
    "    \\\\\\\\ \\\\hline\n",
    "    %d & %d\n",
    "\\\\end{array}\n",
    "$\n",
    "\"\"\"%(a[0,0], a[0,1], a[1,0], a[1,1], b[0,0], b[0,1], b[1,0], b[1,1], c[0,0], c[0,1], c[1,0], c[1,1]))\n"
   ]
  },
  {
   "cell_type": "code",
   "execution_count": null,
   "metadata": {},
   "outputs": [],
   "source": [
    "md(\"\"\"\n",
    "### Sensibilidade para deteção de atividades dinâmicas:\n",
    "$\n",
    "\\\\frac{%d}{%d+%d} = %.2f \\\\%%\n",
    "$ \n",
    "### Especificidade para deteção de atividades dinâmicas:\n",
    "$ \n",
    "\\\\frac{%d}{%d+%d} = %.2f \\\\%%\n",
    "$\n",
    "\"\"\"%(a[1,1], a[1,1], a[1,0], a[1,1]/(a[1,1]+a[1,0])*100, a[0,0], a[0,0], a[0,1], a[0,0] / (a[0,0]+a[0,1])*100\n",
    "))"
   ]
  },
  {
   "cell_type": "code",
   "execution_count": null,
   "metadata": {},
   "outputs": [],
   "source": [
    "md(\"\"\"\n",
    "### Sensibilidade para detecao de atividade estatica:\n",
    "$\n",
    "\\\\frac{%d}{%d+%d} = %.2f \\\\%%\n",
    "$ \n",
    "### Especificidade para deteção de atividade estática:\n",
    "$ \n",
    "\\\\frac{%d}{%d+%d} = %.2f \\\\%%\n",
    "$\n",
    "\"\"\"%(b[1,1], b[1,1], b[1,0], b[1,1]/(b[1,1]+b[1,0])*100, b[0,0], b[0,0], b[0,1], b[0,0] / (b[0,0]+b[0,1])*100\n",
    "))"
   ]
  },
  {
   "cell_type": "code",
   "execution_count": null,
   "metadata": {},
   "outputs": [],
   "source": [
    "md(\"\"\"\n",
    "### Sensibilidade para detecao de atividades de transição:\n",
    "$\n",
    "\\\\frac{%d}{%d+%d} = %.2f \\\\%%\n",
    "$ \n",
    "### Especificidade para deteção de atividades de transição:\n",
    "$ \n",
    "\\\\frac{%d}{%d+%d} = %.2f \\\\%%\n",
    "$\n",
    "\"\"\"%(c[1,1], c[1,1], c[1,0], c[1,1]/(c[1,1]+c[1,0])*100, c[0,0], c[0,0], c[0,1], c[0,0] / (c[0,0]+c[0,1])*100\n",
    "))"
   ]
  },
  {
   "cell_type": "markdown",
   "metadata": {},
   "source": [
    "## 4. STFT - <i> Short Time Fourrier Transform </i>"
   ]
  },
  {
   "cell_type": "markdown",
   "metadata": {},
   "source": [
    "Como na STFT, as janelas vão ter sempre uma duração pequena, é impraticável a verificação da duração do tempo do segmento para verificar transições. Assim, atualizámos o parâmetro para verificação de uma atividade de transição. Faz se acompanhar o sinal de um filtro de ruído, média móvel. Esta apenas sofre variação aquando de uma alteração brusca nos valores, e é quando isto acontece que presumimos ter acontecido uma atividade de transição.<br>\n",
    "Isto pode ser verificado no plot na célula abaixo."
   ]
  },
  {
   "cell_type": "code",
   "execution_count": null,
   "metadata": {},
   "outputs": [],
   "source": [
    "v = 300 # numero de pontos para calcular a média aritmética\n",
    "step = 300 # tamanho da janela\n",
    "user = user1_1\n",
    "media_movel = []\n",
    "for i in range(v,len(user)):\n",
    "    media_movel.append( (user['Z'][i-v:i-1]/v).sum() )\n",
    "\n",
    "plt.figure(figsize=(15,4))\n",
    "axe = plt.subplot(111)\n",
    "user.plot('Time (min)','Z', ax = axe)\n",
    "axe.plot(user['Time (min)'][v:], media_movel)\n",
    "plt.vlines([(v+i)/60/50 for i in range(0, len(user), step)], plt.ylim()[0], plt.ylim()[1], linestyle = ':', color='k')"
   ]
  },
  {
   "cell_type": "code",
   "execution_count": null,
   "metadata": {},
   "outputs": [],
   "source": [
    "unow = user1_1\n",
    "size = 400\n",
    "half = size//2\n",
    "times, freqs, cms, var = stft(unow, size, 300)\n",
    "times = np.append([0], times)\n",
    "freqs = np.append([0], freqs)\n",
    "cms = np.append([0], cms)\n",
    "var = np.append([0], var)\n",
    "\n",
    "t1 = times[::2]\n",
    "t2 = times[1::2]\n",
    "\n",
    "# i = numero da janela. Apenas para visualizar uma janela em específico\n",
    "i = 10\n",
    "fig = plt.figure(figsize=(20,15))\n",
    "plt.subplot(411)\n",
    "plt.title('Frequências')\n",
    "plt.plot(times, freqs, 'o', c = 'royalblue')\n",
    "plt.axvspan(times[i], times[i+2], facecolor='g', alpha=0.5)\n",
    "plt.vlines(t1, plt.ylim()[0] , plt.ylim()[1] , linestyle='dashed', color='red', lw = 0.6)\n",
    "plt.vlines(t2, plt.ylim()[0] , plt.ylim()[1] , linestyle='dashed', color='blue', lw = 0.6)\n",
    "\n",
    "plt.subplot(412)\n",
    "plt.title('Amplitudes máximas')\n",
    "plt.plot(times, cms, 'o', c = 'darkslategrey')\n",
    "plt.axvspan(times[i], times[i+2], facecolor='g', alpha=0.5)\n",
    "plt.vlines(t1, plt.ylim()[0] , plt.ylim()[1] , linestyle='dashed', color='red', lw = 0.6)\n",
    "plt.vlines(t2, plt.ylim()[0] , plt.ylim()[1] , linestyle='dashed', color='blue', lw = 0.6)\n",
    "\n",
    "plt.subplot(413)\n",
    "plt.title('Variações na média móvel')\n",
    "plt.plot(times, var, 'or')\n",
    "plt.axvspan(times[i], times[i+2], facecolor='g', alpha=0.5)\n",
    "plt.vlines(t1, plt.ylim()[0] , plt.ylim()[1] , linestyle='dashed', color='red', lw = 0.6)\n",
    "plt.vlines(t2, plt.ylim()[0] , plt.ylim()[1] , linestyle='dashed', color='blue', lw = 0.6)\n",
    "\n",
    "plt.subplot(414)\n",
    "x_axis = np.arange(0, len(unow['Z']) * (1/50), (1/50)) / 60\n",
    "plt.plot(x_axis, unow['Z'], 'k', lw = 0.7)\n",
    "plt.vlines(t1, plt.ylim()[0] , plt.ylim()[1] , linestyle='dashed', color='red', lw = 0.6)\n",
    "plt.vlines(t2, plt.ylim()[0] , plt.ylim()[1] , linestyle='dashed', color='blue', lw = 0.6)\n",
    "\n",
    "a = int(times[i]*60*50)\n",
    "b = int(times[i+2]*60*50)\n",
    "plt.plot(x_axis[a:b], unow['Z'][a:b], 'g', lw = 1)\n",
    "plt.axvspan(times[i], times[i+2], facecolor='g', alpha=0.5)\n",
    "\n",
    "fig.tight_layout()"
   ]
  },
  {
   "cell_type": "markdown",
   "metadata": {},
   "source": [
    "Plot das previsões"
   ]
  },
  {
   "cell_type": "code",
   "execution_count": null,
   "metadata": {},
   "outputs": [],
   "source": [
    "cores = ['blue', 'olive', 'maroon', 'black']\n",
    "#arranjar as cores\n",
    "cores_to_plot = []\n",
    "for i in range(1, len(freqs)):\n",
    "    if var[i] > 0.1:\n",
    "        \n",
    "        if freqs[i] > 1.5 or np.round(cms[i], 2) > 0.01:\n",
    "            cores_to_plot.append(cores[0])\n",
    "\n",
    "        elif np.round(cms[i], 2) <= 0.01:\n",
    "            cores_to_plot.append(cores[1])\n",
    "        \n",
    "        elif 0.5<=freqs[i]<=2:\n",
    "            cores_to_plot.append(cores[2])\n",
    "            \n",
    "        else:\n",
    "            cores_to_plot.append(cores[-1])\n",
    "        \n",
    "    else:\n",
    "        if np.round(cms[i], 2) <= 0.01:\n",
    "            cores_to_plot.append(cores[1])\n",
    "            \n",
    "        elif 0.5<=freqs[i]<=2 and np.round(cms[i], 3) > 0.025:\n",
    "            cores_to_plot.append(cores[2])\n",
    "            \n",
    "        else:\n",
    "            cores_to_plot.append(cores[-1])"
   ]
  },
  {
   "cell_type": "code",
   "execution_count": null,
   "metadata": {},
   "outputs": [],
   "source": [
    "from matplotlib.lines import Line2D\n",
    "array = [Line2D([0], [0], color='blue', lw=4), Line2D([0], [0], color='maroon', lw=4), Line2D([0], [0], color='olive', lw=4), Line2D([0], [0], color='black', lw=4)]\n",
    "\n",
    "plt.figure(figsize = (16,4))\n",
    "j=0\n",
    "for  i in range(0, len(unow) - size + 1, half):\n",
    "    plt.plot(unow['Time (min)'][i:i+size], unow['Z'][i:i+size], c = cores_to_plot[j], lw=0.5)\n",
    "    j+=1\n",
    "\n",
    "plt.tight_layout()\n",
    "plt.legend(array, ['Transição', 'Dinâmica', 'Estática', 'Não indentificado'])"
   ]
  },
  {
   "cell_type": "markdown",
   "metadata": {},
   "source": [
    "Os resultados obtidos, apesar de não serem maus, poderiam ser melhores. Para isso seria necessária mais informação, para se conseguir generalizar melhor a população. A previsão de atividades com uso de apenas um eixo, também limita bastante a previsão.<br>\n",
    "Apesar de termos apenas previsto classe de atividades, verificámos diferenças entre as próprias atividades dinâmicas, como por exemplo a atividade <i> Walk_Downstairs </i> têm amplitudes superiores nas acelerações recebidas no eixo X, enquanto que a atividade <i> Walk_Upstairs </i> tem uma frequência menor nas acelerações do eixo Z. <br>\n",
    "Pelos dados avaliados, que não são muitos, pelo que é complicado uma generalização, mas também há uma semelhança nas atividades estáticas, que são os intervalos das acelerações recebidas nos eixos Y. Estas são as unicas que se mantêm similares entre todas as experiências<br><br>\n"
   ]
  },
  {
   "cell_type": "code",
   "execution_count": null,
   "metadata": {},
   "outputs": [],
   "source": []
  }
 ],
 "metadata": {
  "kernelspec": {
   "display_name": "Python 3",
   "language": "python",
   "name": "python3"
  },
  "language_info": {
   "codemirror_mode": {
    "name": "ipython",
    "version": 3
   },
   "file_extension": ".py",
   "mimetype": "text/x-python",
   "name": "python",
   "nbconvert_exporter": "python",
   "pygments_lexer": "ipython3",
   "version": "3.8.7"
  },
  "metadata": {
   "interpreter": {
    "hash": "27d4f6ba00e5f9584c5bb13eed1064ec5c4936beebf286aef9eac3e7bf19e409"
   }
  }
 },
 "nbformat": 4,
 "nbformat_minor": 4
}
