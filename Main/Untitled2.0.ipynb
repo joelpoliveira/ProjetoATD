{
 "cells": [
  {
   "cell_type": "code",
   "execution_count": null,
   "id": "supposed-dancing",
   "metadata": {},
   "outputs": [],
   "source": [
    "import numpy as np\n",
    "from sympy import *\n",
    "import matplotlib.pyplot as plt\n",
    "import pandas as pd\n",
    "import math\n",
    "from scipy import signal\n",
    "import scipy as sy\n",
    "from numpy.fft import fft, fftshift\n",
    "import seaborn as sns\n",
    "from funcoes_usadas import *\n",
    "from scipy.stats import entropy\n",
    "\n",
    "users_exp = pd.read_pickle(\"users.dat\")\n",
    "user1_1, user1_2, user2_1, user2_2, user3_1, user3_2, user4_1, user4_2 = users_exp"
   ]
  },
  {
   "cell_type": "code",
   "execution_count": null,
   "id": "cheap-tanzania",
   "metadata": {},
   "outputs": [],
   "source": [
    "downintervals = [0.08, 0.44, 0.78,  1.2, 1.6, 1.9, 2.5,  3.2, 4.4, 5, 5.6]\n",
    "upintervals = [0.39, 0.7, 1.1, 1.5, 1.9, 2.1, 2.8, 3.55, 4.7, 5.25, 5.8  ]\n",
    "\n",
    "downlabels = ['STAND', 'SIT', 'STAND','LAY', 'SIT', 'LAY', 'W', 'W','W_D', 'W_D', 'W_D']\n",
    "uplabels = ['STAND_SIT', 'SIT_STAND', 'STAND_LIE', 'LIE_SIT', 'SIT_LIE', 'LIE_STAND', 'W', 'W', 'W_U', 'W_U', 'W_U' ]\n",
    "\n",
    "plot_with_labels(upintervals, downintervals, uplabels, downlabels, user1_1, 0)"
   ]
  },
  {
   "cell_type": "code",
   "execution_count": null,
   "id": "extreme-modem",
   "metadata": {},
   "outputs": [],
   "source": [
    "unow = user1_1\n",
    "walks = [ ufrag(unow, 7496, 8078), ufrag(unow, 8356, 9250), ufrag(unow, 9657, 10567), ufrag(unow, 10750, 11714)]\n",
    "\n",
    "walks_d = []\n",
    "for i in walks:\n",
    "    walks_d.append( detrend_user_walk(i) )\n",
    "\n",
    "up_walks = [ ufrag(unow, 14069, 14699), ufrag(unow, 15712, 16377), ufrag(unow, 17298, 17970) ]\n",
    "\n",
    "up_walks_d = []\n",
    "for i in up_walks:\n",
    "    up_walks_d.append( detrend_user_walk(i) )\n",
    "    \n",
    "down_walks = [ ufrag(unow, 13191, 13846), ufrag(unow, 14869, 15492), ufrag(unow, 16530, 17153) ]\n",
    "\n",
    "down_walks_d = []\n",
    "for i in down_walks:\n",
    "    down_walks_d.append( detrend_user_walk(i) )\n",
    "    \n",
    "stands = [ ufrag(unow, 250, 1232), ufrag(unow, 2360, 3374) ]\n",
    "\n",
    "stands_d = []\n",
    "for i in stands:\n",
    "    stands_d.append( detrend_user_walk(i) )\n",
    "    \n",
    "sits = [ ufrag(unow, 1393, 2194), ufrag(unow, 4736, 5667) ]\n",
    "\n",
    "sits_d = []\n",
    "for i in sits:\n",
    "    sits_d.append( detrend_user_walk(i) )\n",
    "    \n",
    "lays = [ ufrag(unow, 3663, 4538), ufrag(unow, 5860, 6786) ]\n",
    "\n",
    "lays_d = []\n",
    "for i in lays:\n",
    "    lays_d.append( detrend_user_walk(i) )\n",
    "    \n",
    "stand_to_sit = ufrag(unow, 1233, 1392)\n",
    "stand_to_sit_d = detrend_user_walk(stand_to_sit)\n",
    "\n",
    "sit_to_stand = ufrag(unow, 2195, 2359)\n",
    "sit_to_stand_d = detrend_user_walk(sit_to_stand)\n",
    "\n",
    "stand_to_lie = ufrag(unow, 3375, 3662)\n",
    "stand_to_lie_d = detrend_user_walk(stand_to_lie)\n",
    "\n",
    "lie_to_sit = ufrag(unow, 4539, 4735)\n",
    "lie_to_sit_d = detrend_user_walk(lie_to_sit)\n",
    "\n",
    "sit_to_lie = ufrag(unow, 5668, 5859)\n",
    "sit_to_lie_d = detrend_user_walk(sit_to_lie)\n",
    "\n",
    "lie_to_stand = ufrag(unow, 6787, 6977)\n",
    "lie_to_stand_d = detrend_user_walk(lie_to_stand)"
   ]
  },
  {
   "cell_type": "markdown",
   "id": "collect-tomato",
   "metadata": {},
   "source": [
    "# ATIVIDADES DINÂMICAS\n",
    "\n",
    "# --> WALKING <--"
   ]
  },
  {
   "cell_type": "code",
   "execution_count": null,
   "id": "excess-guarantee",
   "metadata": {},
   "outputs": [],
   "source": [
    "now = walks_d[0]\n",
    "lim = 0.8\n",
    "aux = get_dft(now, len(now),  False, lim, True, 'hann')\n",
    "\n",
    "print( np.unique( np.round( np.abs( aux['Frequency (Hz)'][ (aux['X']>lim*aux['X']) & (np.abs(aux['Frequency (Hz)'])<=3) ] ), 8 ) ), end = '\\t'*6)\n",
    "print( np.unique( np.round( np.abs( aux['Frequency (Hz)'][ (aux['Y']>lim*aux['Y']) & (np.abs(aux['Frequency (Hz)'])<=3) ] ), 8 ) )  ,end = '\\t'*6)\n",
    "print( np.unique( np.round( np.abs( aux['Frequency (Hz)'][ (aux['Z']>lim*aux['Z']) & (np.abs(aux['Frequency (Hz)'])<=3) ] ), 8 ) )  ,end = '')"
   ]
  },
  {
   "cell_type": "code",
   "execution_count": null,
   "id": "magnetic-tower",
   "metadata": {},
   "outputs": [],
   "source": [
    "aux2 = get_amps(aux, len(aux))\n",
    "\n",
    "print( np.array(aux2['X'][np.where(aux2['X'])[0]]), end = '\\t'*5)\n",
    "print( np.array(aux2['Y'][np.where(aux2['Y'])[0]]) ,end = '\\t'*6)\n",
    "print( np.array(aux2['Z'][np.where(aux2['Z'])[0]])  ,end = '')"
   ]
  },
  {
   "cell_type": "code",
   "execution_count": null,
   "id": "stylish-dairy",
   "metadata": {},
   "outputs": [],
   "source": [
    "now = walks_d[1]\n",
    "lim = 0.6\n",
    "aux = get_dft(now, len(now),  False, lim, True, True)\n",
    "\n",
    "print( np.unique( np.round( np.abs( aux['Frequency (Hz)'][ (aux['X']>lim*aux['X']) & (np.abs(aux['Frequency (Hz)'])<=3) ] ), 8 ) ), end = '\\t'*4)\n",
    "print( np.unique( np.round( np.abs( aux['Frequency (Hz)'][ (aux['Y']>lim*aux['Y']) & (np.abs(aux['Frequency (Hz)'])<=3) ] ), 8 ) )  ,end = '\\t'*2)\n",
    "print( np.unique( np.round( np.abs( aux['Frequency (Hz)'][ (aux['Z']>lim*aux['Z']) & (np.abs(aux['Frequency (Hz)'])<=3) ] ), 8 ) )  ,end = '')"
   ]
  },
  {
   "cell_type": "code",
   "execution_count": null,
   "id": "determined-architecture",
   "metadata": {},
   "outputs": [],
   "source": [
    "aux2 = get_amps(aux, len(aux))\n",
    "\n",
    "print( np.array(aux2['X'][np.where(aux2['X'])[0]]), end = '\\t'*7)\n",
    "print( np.array(aux2['Y'][np.where(aux2['Y'])[0]]) ,end = '\\t'*5)\n",
    "print( np.array(aux2['Z'][np.where(aux2['Z'])[0]])  ,end = '')"
   ]
  },
  {
   "cell_type": "code",
   "execution_count": null,
   "id": "metropolitan-general",
   "metadata": {},
   "outputs": [],
   "source": [
    "now = walks_d[2]\n",
    "lim = 0.6\n",
    "aux = get_dft(now, len(now),  False, lim, True, True)\n",
    "\n",
    "print( np.unique( np.round( np.abs( aux['Frequency (Hz)'][ (aux['X']>lim*aux['X']) & (np.abs(aux['Frequency (Hz)'])<=3) ] ), 8 ) ), end = '\\t')\n",
    "print( np.unique( np.round( np.abs( aux['Frequency (Hz)'][ (aux['Y']>lim*aux['Y']) & (np.abs(aux['Frequency (Hz)'])<=3) ] ), 8 ) )  ,end = '\\t'*2)\n",
    "print( np.unique( np.round( np.abs( aux['Frequency (Hz)'][ (aux['Z']>lim*aux['Z']) & (np.abs(aux['Frequency (Hz)'])<=3) ] ), 8 ) )  ,end = '')"
   ]
  },
  {
   "cell_type": "code",
   "execution_count": null,
   "id": "modified-camcorder",
   "metadata": {},
   "outputs": [],
   "source": [
    "aux2 = get_amps(aux, len(aux))\n",
    "\n",
    "print( np.array(aux2['X'][np.where(aux2['X'])[0]]), end = '\\t'*5)\n",
    "print( np.array(aux2['Y'][np.where(aux2['Y'])[0]]) ,end = '\\t'*5)\n",
    "print( np.array(aux2['Z'][np.where(aux2['Z'])[0]])  ,end = '')"
   ]
  },
  {
   "cell_type": "code",
   "execution_count": null,
   "id": "coordinate-greene",
   "metadata": {},
   "outputs": [],
   "source": [
    "now = walks_d[3]\n",
    "lim = 0.6\n",
    "aux = get_dft(now, len(now),  False, lim, True, True)\n",
    "\n",
    "print( np.unique( np.round( np.abs( aux['Frequency (Hz)'][ (aux['X']>lim*aux['X']) & (np.abs(aux['Frequency (Hz)'])<=3) ] ), 8 ) ), end = '\\t')\n",
    "print( np.unique( np.round( np.abs( aux['Frequency (Hz)'][ (aux['Y']>lim*aux['Y']) & (np.abs(aux['Frequency (Hz)'])<=3) ] ), 8 ) )  ,end = '\\t'*3)\n",
    "print( np.unique( np.round( np.abs( aux['Frequency (Hz)'][ (aux['Z']>lim*aux['Z']) & (np.abs(aux['Frequency (Hz)'])<=3) ] ), 8 ) )  ,end = '')"
   ]
  },
  {
   "cell_type": "code",
   "execution_count": null,
   "id": "handy-swiss",
   "metadata": {},
   "outputs": [],
   "source": [
    "aux2 = get_amps(aux, len(aux))\n",
    "\n",
    "print( np.array(aux2['X'][np.where(aux2['X'])[0]]), end = '\\t'*5)\n",
    "print( np.array(aux2['Y'][np.where(aux2['Y'])[0]]) ,end = '\\t'*5)\n",
    "print( np.array(aux2['Z'][np.where(aux2['Z'])[0]])  ,end = '')"
   ]
  },
  {
   "cell_type": "markdown",
   "id": "flush-farmer",
   "metadata": {},
   "source": [
    "# --> WALKING_DOWN <--"
   ]
  },
  {
   "cell_type": "code",
   "execution_count": null,
   "id": "polyphonic-happening",
   "metadata": {},
   "outputs": [],
   "source": [
    "now = down_walks_d[0]\n",
    "lim = 0.6\n",
    "aux = get_dft(now, len(now),  False, lim, True, True)\n",
    "\n",
    "print( np.unique( np.round( np.abs( aux['Frequency (Hz)'][ (aux['X']>lim*aux['X']) & (np.abs(aux['Frequency (Hz)'])<=2.5) ] ), 8 ) ), end = '\\t'*7)\n",
    "print( np.unique( np.round( np.abs( aux['Frequency (Hz)'][ (aux['Y']>lim*aux['Y']) & (np.abs(aux['Frequency (Hz)'])<=2.5) ] ), 8 ) )  ,end = '\\t'*6)\n",
    "print( np.unique( np.round( np.abs( aux['Frequency (Hz)'][ (aux['Z']>lim*aux['Z']) & (np.abs(aux['Frequency (Hz)'])<=2.5) ] ), 8 ) )  ,end = '')"
   ]
  },
  {
   "cell_type": "code",
   "execution_count": null,
   "id": "foster-oakland",
   "metadata": {},
   "outputs": [],
   "source": [
    "aux2 = get_amps(aux, len(aux))\n",
    "\n",
    "print( np.array(aux2['X'][np.where(aux2['X'])[0]]), end = '\\t'*7)\n",
    "print( np.array(aux2['Y'][np.where(aux2['Y'])[0]]) ,end = '\\t'*2)\n",
    "print( np.array(aux2['Z'][np.where(aux2['Z'])[0]])  ,end = '')"
   ]
  },
  {
   "cell_type": "code",
   "execution_count": null,
   "id": "retired-noise",
   "metadata": {},
   "outputs": [],
   "source": [
    "now = down_walks_d[1]\n",
    "lim = 0.6\n",
    "aux = get_dft(now, len(now),  False, lim, True, True)\n",
    "\n",
    "print( np.unique( np.round( np.abs( aux['Frequency (Hz)'][ (aux['X']>lim*aux['X']) & (np.abs(aux['Frequency (Hz)'])<=2.5) ] ), 8 ) ), end = '\\t'*8)\n",
    "print( np.unique( np.round( np.abs( aux['Frequency (Hz)'][ (aux['Y']>lim*aux['Y']) & (np.abs(aux['Frequency (Hz)'])<=2.5) ] ), 8 ) )  ,end = '\\t'*6)\n",
    "print( np.unique( np.round( np.abs( aux['Frequency (Hz)'][ (aux['Z']>lim*aux['Z']) & (np.abs(aux['Frequency (Hz)'])<=2.5) ] ), 8 ) )  ,end = '')"
   ]
  },
  {
   "cell_type": "code",
   "execution_count": null,
   "id": "administrative-placement",
   "metadata": {},
   "outputs": [],
   "source": [
    "aux2 = get_amps(aux, len(aux))\n",
    "\n",
    "print( np.array(aux2['X'][np.where(aux2['X'])[0]]), end = '\\t'*7)\n",
    "print( np.array(aux2['Y'][np.where(aux2['Y'])[0]]) ,end = '\\t'*2)\n",
    "print( np.array(aux2['Z'][np.where(aux2['Z'])[0]])  ,end = '')"
   ]
  },
  {
   "cell_type": "code",
   "execution_count": null,
   "id": "three-briefing",
   "metadata": {},
   "outputs": [],
   "source": [
    "now = down_walks_d[2]\n",
    "lim = 0.8\n",
    "aux = get_dft(now, len(now),  False, lim, True, 'hann')\n",
    "\n",
    "print( np.unique( np.round( np.abs( aux['Frequency (Hz)'][ (aux['X']>lim*aux['X']) & (np.abs(aux['Frequency (Hz)'])<=2.5) ] ), 8 ) ), end = '\\t'*5)\n",
    "print( np.unique( np.round( np.abs( aux['Frequency (Hz)'][ (aux['Y']>lim*aux['Y']) & (np.abs(aux['Frequency (Hz)'])<=2.5) ] ), 8 ) )  ,end = '\\t'*3)\n",
    "print( np.unique( np.round( np.abs( aux['Frequency (Hz)'][ (aux['Z']>lim*aux['Z']) & (np.abs(aux['Frequency (Hz)'])<=2.5) ] ), 8 ) )  ,end = '')"
   ]
  },
  {
   "cell_type": "code",
   "execution_count": null,
   "id": "democratic-event",
   "metadata": {},
   "outputs": [],
   "source": [
    "aux2 = get_amps(aux, len(aux))\n",
    "\n",
    "print( np.array(aux2['X'][np.where(aux2['X'])[0]]), end = '\\t'*7)\n",
    "print( np.array(aux2['Y'][np.where(aux2['Y'])[0]]) ,end = '\\t'*2)\n",
    "print( np.array(aux2['Z'][np.where(aux2['Z'])[0]])  ,end = '')"
   ]
  },
  {
   "cell_type": "markdown",
   "id": "honest-giant",
   "metadata": {},
   "source": [
    "## USER 1 EXPERIENCIA 1 \n",
    "### >>>WALKING<<<:\n",
    "#### Apenas foram verificadas frequências com magnitude acima de 60% da máxima, e abaixo de 3Hz, para esta atividade\n",
    "#### EIXO X --> Para este voluntário, as frequências presentes nos eixos X rondam os valores 1.7 a 1.9 Hz.\n",
    "#### EIXO Y --> Similarmente aos eixos X, as frequências presentes nos eixos Y rondam os valores 1.7 a 1.9 Hz\n",
    "#### EIXO Z --> Este eixo tem em todo o caso, para além de uma frequência similar à dos outros eixos, entre 1.7 e 1.9, uma frequência adicional a rondar valores no intervalo [0.85, 0.90]\n",
    "##### Em todas as caminhadas, há duas frequências comuns aos 3 eixos, pelo que presumimos que estas sejam frequências correspondentes ao passo do utilizador em cada caminhada por ele feita.\n",
    "No caso são, respetivamente, $ \\{1.78416168, 1.82719094 \\} $ , $ \\{ 1.83267322, 1.86066874 \\} $ , $ \\{1.80043279, 1.82793554 \\} $ e $ \\{1.75142083, 1.77738137\\} $.\n",
    "Assim, uma estimativa para a frequência média do passo deste voluntário será:\n",
    "$ \n",
    "\\dfrac{(1.78416168 + 1.82719094 + 1.83267322 +  1.86066874 + 1.80043279 + 1.82793554 +  1.75142083 + 1.77738137)}8 = 1.8077331387500002\n",
    "$\n",
    "Hz\n",
    "\n",
    "Em relação a magnitudes do sinal, as presentes nesta atividade são da ordem de grandeza $ 10^{-1} \\ a \\ 10^{-2} $, sendo que o valor mais alto se encontrou sempre nos eixos X\n",
    "\n",
    "---------------------------------------\n",
    "\n",
    "### >>>WALKING DOWNSTAIRS<<<\n",
    "#### Para esta experiência o limiar de frequências aceites foi diferente em cada momento, pois os valores estavam mais concentrados sem picos nalguns dos dados.\n",
    "#### EIXO X --> Nesta atividade os resultados deste voluntário já variaram um pouco em cada momento desta atividade. No primeiro momento as frequências estavam entre 1.5 e 1.6, aproximadamente, no segundo um pouco acima, mas dentro do espectável, 1.7 a 1.85, e no ultimo momento foram verificadas frequências significativas nos 2 intervalos\n",
    "#### EIXO Y --> Nos eixos Y as frequências foram similares as dos eixos X\n",
    "#### EIXO Z --> As frequências significativas sentidas nos eixos Z foram baixas, inferiores a 1 em todos os casos.\n",
    "##### Similarmente à atividade walking, as frequências iguais presentes nos eixos foram selecionadas para a previsão do passo "
   ]
  },
  {
   "cell_type": "code",
   "execution_count": null,
   "id": "thick-wales",
   "metadata": {},
   "outputs": [],
   "source": []
  }
 ],
 "metadata": {
  "kernelspec": {
   "display_name": "Python 3",
   "language": "python",
   "name": "python3"
  },
  "language_info": {
   "codemirror_mode": {
    "name": "ipython",
    "version": 3
   },
   "file_extension": ".py",
   "mimetype": "text/x-python",
   "name": "python",
   "nbconvert_exporter": "python",
   "pygments_lexer": "ipython3",
   "version": "3.8.7"
  }
 },
 "nbformat": 4,
 "nbformat_minor": 5
}
