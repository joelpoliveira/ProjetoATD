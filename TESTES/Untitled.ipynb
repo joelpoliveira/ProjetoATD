{
 "cells": [
  {
   "cell_type": "code",
   "execution_count": null,
   "id": "ef1ecaaf",
   "metadata": {},
   "outputs": [],
   "source": [
    "import numpy as np\n",
    "from sympy import *\n",
    "import matplotlib.pyplot as plt\n",
    "import pandas as pd\n",
    "import math\n",
    "from scipy import signal\n",
    "import scipy as sy\n",
    "from numpy.fft import fft, fftshift\n",
    "import seaborn as sns\n",
    "#sns.set_style(\"darkgrid\")\n",
    "plt.style.use('seaborn-dark-palette')\n",
    "plt.style.use('seaborn-darkgrid')\n",
    "\n",
    "from functions_tomas import *\n",
    "from data import *\n",
    "\n",
    "import chart_studio as py\n",
    "from plotly.offline import download_plotlyjs, init_notebook_mode, plot, iplot\n",
    "import plotly\n",
    "import cufflinks as cf\n",
    "init_notebook_mode(connected=True)\n",
    "cf.go_offline()"
   ]
  },
  {
   "cell_type": "code",
   "execution_count": null,
   "id": "3b6cc693",
   "metadata": {},
   "outputs": [],
   "source": [
    "user1_1['Z'].plot(figsize=((14,5)))"
   ]
  },
  {
   "cell_type": "code",
   "execution_count": null,
   "id": "382e1bf6",
   "metadata": {},
   "outputs": [],
   "source": [
    "ax = user4_2.iplot(x = 'Time (min)', size = (10,15))"
   ]
  },
  {
   "cell_type": "code",
   "execution_count": null,
   "id": "3fa720e8",
   "metadata": {},
   "outputs": [],
   "source": [
    "unow = user1_1\n",
    "unow.plot(x = 'Time (min)', figsize=(15,4))"
   ]
  },
  {
   "cell_type": "code",
   "execution_count": null,
   "id": "9a2be40e",
   "metadata": {},
   "outputs": [],
   "source": []
  }
 ],
 "metadata": {
  "kernelspec": {
   "display_name": "Python 3",
   "language": "python",
   "name": "python3"
  },
  "language_info": {
   "codemirror_mode": {
    "name": "ipython",
    "version": 3
   },
   "file_extension": ".py",
   "mimetype": "text/x-python",
   "name": "python",
   "nbconvert_exporter": "python",
   "pygments_lexer": "ipython3",
   "version": "3.8.5"
  }
 },
 "nbformat": 4,
 "nbformat_minor": 5
}
