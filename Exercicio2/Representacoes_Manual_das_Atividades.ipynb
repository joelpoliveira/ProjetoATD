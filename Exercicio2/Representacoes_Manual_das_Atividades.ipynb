{
 "cells": [
  {
   "cell_type": "code",
   "execution_count": 2,
   "id": "freelance-running",
   "metadata": {},
   "outputs": [],
   "source": [
    "import numpy as np\n",
    "import pandas as pd\n",
    "import matplotlib.pyplot as plt\n",
    "import seaborn as sns\n",
    "from sympy import *\n",
    "sns.set_style(\"whitegrid\")"
   ]
  },
  {
   "cell_type": "code",
   "execution_count": 3,
   "id": "experienced-lending",
   "metadata": {},
   "outputs": [],
   "source": [
    "users_exp = pd.read_pickle(\"users.dat\")"
   ]
  },
  {
   "cell_type": "code",
   "execution_count": 6,
   "id": "forbidden-mills",
   "metadata": {},
   "outputs": [],
   "source": [
    "user1_1, user1_2, user2_1, user2_2, user3_1, user3_2, user4_1, user4_2 = users_exp"
   ]
  },
  {
   "cell_type": "code",
   "execution_count": null,
   "id": "infectious-rehabilitation",
   "metadata": {},
   "outputs": [],
   "source": [
    "for i in range(len(users_exp)):\n",
    "    user = users_exp[i]\n",
    "    \n",
    "    figure, plots = plt.subplots(nrows=3, ncols=1, figsize=(14,8))\n",
    "    figure.suptitle(f\"Valores Obtidos Pelo Acelerómetro na Experiência {i%2+1} do Sujeito {i//2+1}\", fontsize = 'x-large')\n",
    "    \n",
    "    fig_now = sns.lineplot( x='Time (min)', y = 'X', data = user, size = 0.01, legend = False, ax=plots[0])\n",
    "    fig_now.set_xlabel(\"Time (min)\")\n",
    "    fig_now.set_ylabel(\"ACC_X\")\n",
    "    #plt.title(\"Variação das Acelerações no Eixo X\")\n",
    "\n",
    "    fig_now = sns.lineplot( x='Time (min)', y = 'Y', data = user, size = 0.01, legend = False, ax=plots[1])\n",
    "    fig_now.set_xlabel(\"Time (min)\")\n",
    "    fig_now.set_ylabel(\"ACC_Y\")\n",
    "\n",
    "    #plt.title(\"Variação das Acelerações no Eixo Y\")\n",
    "\n",
    "    fig_now = sns.lineplot( x='Time (min)', y = 'Z', data = user, size = 0.01, legend = False, ax = plots[2])\n",
    "    fig_now.set_xlabel(\"Time (min)\")\n",
    "    fig_now.set_ylabel(\"ACC_Z\")\n",
    "    #plt.title(\"Variação das Acelerações no Eixo Z\")\n",
    "\n",
    "    figure.tight_layout()\n",
    "    #print(\"\\n\\n\")"
   ]
  },
  {
   "cell_type": "code",
   "execution_count": null,
   "id": "neural-rating",
   "metadata": {},
   "outputs": [],
   "source": []
  }
 ],
 "metadata": {
  "kernelspec": {
   "display_name": "Python 3",
   "language": "python",
   "name": "python3"
  },
  "language_info": {
   "codemirror_mode": {
    "name": "ipython",
    "version": 3
   },
   "file_extension": ".py",
   "mimetype": "text/x-python",
   "name": "python",
   "nbconvert_exporter": "python",
   "pygments_lexer": "ipython3",
   "version": "3.8.7"
  }
 },
 "nbformat": 4,
 "nbformat_minor": 5
}
