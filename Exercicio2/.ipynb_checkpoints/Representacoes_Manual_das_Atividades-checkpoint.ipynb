{
 "cells": [
  {
   "cell_type": "code",
   "execution_count": null,
   "id": "aggregate-writer",
   "metadata": {},
   "outputs": [],
   "source": [
    "import numpy as np\n",
    "import pandas as pd\n",
    "import matplotlib.pyplot as plt\n",
    "import seaborn as sns\n",
    "from sympy import *\n",
    "import math\n",
    "from scipy import signal as sig\n",
    "import matplotlib\n",
    "matplotlib.use(\"nbagg\")\n",
    "sns.set_style(\"whitegrid\")"
   ]
  },
  {
   "cell_type": "markdown",
   "id": "referenced-bobby",
   "metadata": {},
   "source": [
    "#### Leitura dos dados inseridos no ficheiro 'users.dat', anteriormente.\n",
    "##### Este ficheiro contém um array com as informações de cada experiência inseridas numa DataFrame"
   ]
  },
  {
   "cell_type": "code",
   "execution_count": null,
   "id": "native-tribune",
   "metadata": {},
   "outputs": [],
   "source": [
    "users_exp = pd.read_pickle(\"users.dat\")\n",
    "user1_1, user1_2, user2_1, user2_2, user3_1, user3_2, user4_1, user4_2 = users_exp"
   ]
  },
  {
   "cell_type": "markdown",
   "id": "published-giving",
   "metadata": {},
   "source": [
    "### Atividades Dinâmicas:\n",
    "###### 1. WALKING\n",
    "###### 2. WALKING_UPSTAIRS\n",
    "###### 3. WALKING_DOWNSTAIRS\n",
    "\n",
    "### Atividades Estáticas:\n",
    "###### 1. SITTING\n",
    "###### 2. STANDING\n",
    "###### 3. LAYING\n",
    "\n",
    "### Atividades de Transição:\n",
    "###### 1. STAND_TO_SIT\n",
    "###### 2. SIT_TO_STAND\n",
    "###### 3. SIT_TO_LIE\n",
    "###### 4. LIE_TO_SIT\n",
    "###### 5. STAND_TO_LIE\n",
    "###### 6. LIE_TO_STAND"
   ]
  },
  {
   "cell_type": "markdown",
   "id": "superior-partnership",
   "metadata": {},
   "source": [
    "### Função para escrever manualmente as atividades nos plots"
   ]
  },
  {
   "cell_type": "code",
   "execution_count": null,
   "id": "worldwide-contact",
   "metadata": {},
   "outputs": [],
   "source": [
    "def plot_with_labels(upxvalues, downxvalues, up, down, user, index):\n",
    "    '''\n",
    "    Plots the X, Y, Z axis from the accelerometer\n",
    "            Parameters:\n",
    "                    upxvalues (list): ordenadas para impressão de up (labels a colocar em cima)\n",
    "                    downxvalues (list): ordenadas para impressão de down (labels a colocar em baixo)\n",
    "                    up (list): lista com as labels das atividades\n",
    "                    down (list): list com as labels das atividades\n",
    "                    user (pandas.dataFrame): dataFrame com os dados do user a imprimir.\n",
    "                    index (int): numero da experiência, de modo a imprimir o Numero do Sujeito, bem como da sua experiência\n",
    "    '''\n",
    "    figure, subplots = plt.subplots(nrows=3, ncols=1, figsize=(16,8))\n",
    "    figure.suptitle(f\"Valores Obtidos Pelo Acelerómetro na Experiência {index%2+1} do Sujeito {index//2+1}\", fontsize = 'xx-large')\n",
    "    \n",
    "    #X\n",
    "    subplots[0].plot( user['Time (min)'], user['X'], lw = 0.3)\n",
    "    subplots[0].set_xlabel(\"Time (min)\")\n",
    "    subplots[0].set_ylabel(\"ACC_X\")\n",
    "    subplots[0].set_xlim(0, max(user['Time (min)']))\n",
    "    \n",
    "    #Y\n",
    "    subplots[1].plot( user['Time (min)'], user['Y'], lw = 0.3)\n",
    "    subplots[1].set_xlabel(\"Time (min)\")\n",
    "    subplots[1].set_ylabel(\"ACC_Y\")\n",
    "    subplots[1].set_xlim(0, max(user['Time (min)']))\n",
    "    \n",
    "    #Z\n",
    "    subplots[2].plot( user['Time (min)'], user['Z'], lw = 0.3)\n",
    "    subplots[2].set_xlabel(\"Time (min)\")\n",
    "    subplots[2].set_ylabel(\"ACC_Z\")\n",
    "    subplots[2].set_xlim(0, max(user['Time (min)']))\n",
    "    \n",
    "    xmin,xmax = subplots[0].get_xlim()\n",
    "    \n",
    "    for i in range(len(upxvalues)):\n",
    "        yv = 0.95 if i%2==0 else 0.90\n",
    "        frase = up[i]\n",
    "        xv = upxvalues[i]/xmax\n",
    "        \n",
    "        subplots[0].annotate(xycoords = 'axes fraction', text = frase, xy = (xv,yv), textcoords = subplots[0].transAxes, xytext = (xv,yv), fontweight='bold')\n",
    "        subplots[1].annotate(xycoords = 'axes fraction', text = frase, xy = (xv,yv), textcoords = subplots[1].transAxes, xytext = (xv,yv), fontweight='bold')\n",
    "        subplots[2].annotate(xycoords = 'axes fraction', text = frase, xy = (xv,yv), textcoords = subplots[2].transAxes, xytext = (xv,yv), fontweight='bold')\n",
    "        \n",
    "    yv = 0.01 \n",
    "    for i in range(len(downxvalues)):\n",
    "        frase = down[i]\n",
    "        xv = downxvalues[i]/xmax\n",
    "        \n",
    "        subplots[0].annotate(xycoords = 'axes fraction', text = frase, xy = (xv,yv), textcoords = subplots[0].transAxes, xytext = (xv,yv), fontweight='bold')\n",
    "        subplots[1].annotate(xycoords = 'axes fraction', text = frase, xy = (xv,yv), textcoords = subplots[1].transAxes, xytext = (xv,yv), fontweight='bold')\n",
    "        subplots[2].annotate(xycoords = 'axes fraction', text = frase, xy = (xv,yv), textcoords = subplots[2].transAxes, xytext = (xv,yv), fontweight='bold')\n",
    "    figure.tight_layout()"
   ]
  },
  {
   "cell_type": "markdown",
   "id": "abroad-clone",
   "metadata": {},
   "source": [
    "## Visualização das atividades para todas as experiências do nosso dataset"
   ]
  },
  {
   "cell_type": "code",
   "execution_count": null,
   "id": "pretty-sequence",
   "metadata": {},
   "outputs": [],
   "source": [
    "#%matplotlib inline\n",
    "downintervals = [0.08, 0.44, 0.78,  1.2, 1.6, 1.9, 2.5,  3.2, 4.4, 5, 5.6]\n",
    "upintervals = [0.39, 0.7, 1.1, 1.5, 1.9, 2.1, 2.8, 3.55, 4.7, 5.25, 5.8  ]\n",
    "\n",
    "downlabels = ['STAND', 'SIT', 'STAND','LAY', 'SIT', 'LAY', 'W', 'W','W_D', 'W_D', 'W_D']\n",
    "uplabels = ['STAND_SIT', 'SIT_STAND', 'STAND_LIE', 'LIE_SIT', 'SIT_LIE', 'LIE_STAND', 'W', 'W', 'W_U', 'W_U', 'W_U' ]\n",
    "\n",
    "plot_with_labels(upintervals, downintervals, uplabels, downlabels, user1_1, 0)"
   ]
  },
  {
   "cell_type": "code",
   "execution_count": null,
   "id": "micro-anniversary",
   "metadata": {},
   "outputs": [],
   "source": [
    "downintervals = [ 0.08, 0.45, 0.75, 1.3, 1.55, 1.95, 2.5, 3.4, 4.4, 5, 5.6]\n",
    "upintervals = [ 0.40, 0.7, 1.15, 1.5, 1.8, 2.1, 2.9, 3.8, 4.75, 5.3, 5.9 ]\n",
    "\n",
    "downlabels = [ 'STAND', \"SIT\", \"STAND\", \"LAY\", \"SIT\", \"LAY\", \"W\", \"W\", \"W_D\", \"W_D\", \"W_D\" ]\n",
    "uplabels = [ \"STAND_SIT\", \"SIT_STAND\", \"STAND_LIE\", \"LIE_SIT\", \"SIT_LIE\", \"LIE_STAND\", \"W\", \"W\", \"W_U\", \"W_U\", \"W_U\" ]\n",
    "\n",
    "plot_with_labels(upintervals, downintervals, uplabels, downlabels,user1_2, 1)"
   ]
  },
  {
   "cell_type": "code",
   "execution_count": null,
   "id": "double-choice",
   "metadata": {},
   "outputs": [],
   "source": [
    "downintervals = [ 0.12, 0.6, 1, 1.5, 1.85, 2.2, 2.5, 3.4, 4.25, 4.9, 5.4 ]\n",
    "upintervals = [ 0.45, 0.87, 1.3, 1.6, 2.05, 2.5, 2.9, 3.95, 4.6, 5.15 ]\n",
    "\n",
    "downlabels = [ \"STAND\", \"SIT\", \"STAND\", \"LAY\", \"SIT\", \"LIE\", \"W\", \"W\", \"W_U\", \"W_U\", \"W_U\"]\n",
    "uplabels = [ \"STAND_SIT\", \"SIT_STAND\", \"STAND_LIE\", \"LIE_SIT\", \"SIT_LIE\", \"LIE_STAND\", \"W\", \"W_D\", \"W_D\", \"W_D\"]\n",
    "\n",
    "plot_with_labels(upintervals, downintervals, uplabels, downlabels, user2_1, 2)"
   ]
  },
  {
   "cell_type": "code",
   "execution_count": null,
   "id": "sexual-joseph",
   "metadata": {},
   "outputs": [],
   "source": [
    "downintervals = [ 0.2, 0.6, 0.8, 1.2, 1.5, 1.9, 2.3, 2.95, 3.8, 4.4, 4.9 ]\n",
    "upintervals = [ 0.4, 0.7, 1.1, 1.4, 1.7, 2.05, 2.6, 3.5, 4.1, 4.65 ]\n",
    "\n",
    "downlabels = [ \"STAND\", \"SIT\", \"STAND\", \"LAY\", \"SIT\", \"LIE\", \"W\", \"W\", \"W_U\", \"W_U\", \"W_U\" ]\n",
    "uplabels = [ \"STAND_SIT\",  \"SIT_STAND\", \"STAND_LIE\", \"LIE_SIT\", \"SIT_LIE\", \"LIE_STAND\", \"W\", \"W_D\", \"W_D\", \"W_D\" ]\n",
    "\n",
    "plot_with_labels(upintervals, downintervals, uplabels, downlabels, user2_2, 3)"
   ]
  },
  {
   "cell_type": "code",
   "execution_count": null,
   "id": "usual-vulnerability",
   "metadata": {},
   "outputs": [],
   "source": [
    "downintervals = [ 0.1, 0.55, 0.9, 1.3, 1.7, 2.2, 2.6, 3.6, 4.7, 5.3, 6, 6.6]\n",
    "upintervals = [ 0.45, 0.7, 1.1, 1.6, 1.95, 2.3, 3, 4.3, 5.05, 5.7, 6.3 ]\n",
    "\n",
    "downlabels = [ \"STAND\", \"SIT\", \"STAND\", \"LAY\", \"SIT\", \"LAY\", \"W\", \"W\", \"W_U\", \"W_U\", \"W_U\", \"W_U\"]\n",
    "uplabels = [ \"STAND_SIT\", \"SIT_STAND\", \"STAND_LIE\", \"LIE_SIT\", \"SIT_LIE\", \"LIE_STAND\", \"W\", \"W_D\", \"W_D\", \"W_D\", \"W_D\" ]\n",
    "\n",
    "plot_with_labels(upintervals, downintervals, uplabels, downlabels, user3_1, 4)"
   ]
  },
  {
   "cell_type": "code",
   "execution_count": null,
   "id": "subsequent-helmet",
   "metadata": {},
   "outputs": [],
   "source": [
    "downintervals = [ 0.2, 0.7, 1, 1.5, 1.9, 2.3, 2.6, 3.5, 4.3, 4.9, 5.45 ]\n",
    "upintervals = [ 0.6, 0.8, 1.3, 1.7, 2.1, 2.5, 3, 4, 4.6, 5.2 ]\n",
    "\n",
    "downlabels = [ \"STAND\", \"SIT\", \"STAND\", \"LAY\", \"SIT\", \"LAY\", \"W\", \"W\", \"W_U\", \"W_U\", \"W_U\", \"W_U\"]\n",
    "uplabels = [ \"STAND_SIT\", \"SIT_STAND\", \"STAND_LIE\", \"LIE_SIT\", \"SIT_LIE\", \"LIE_STAND\", \"W\", \"W_D\", \"W_D\", \"W_D\", \"W_D\" ]\n",
    "\n",
    "plot_with_labels(upintervals, downintervals, uplabels, downlabels, user3_2, 5)"
   ]
  },
  {
   "cell_type": "code",
   "execution_count": null,
   "id": "micro-convert",
   "metadata": {},
   "outputs": [],
   "source": [
    "downintervals = [ 0.15, 0.6, 0.9, 1.3, 1.7, 2.1, 2.45, 3.3, 4.3, 4.9, 5.45 ]\n",
    "upintervals = [ 0.4, 0.7, 1.1, 1.6, 1.9, 2.3, 2.9, 3.8, 4.6, 5.2 ]\n",
    "\n",
    "downlabels = [ \"STAND\", \"SIT\", \"STAND\", \"LAY\", \"STAND\", \"LAY\", \"W\", \"W\", \"W_U\", \"W_U\", \"W_U\", \"W_U\"]\n",
    "uplabels = [ \"STAND_SIT\", \"SIT_STAND\", \"STAND_LIE\", \"LIE_STAND\", \"STAND_LIE\", \"LIE_STAND\", \"W\", \"W_D\", \"W_D\", \"W_D\", \"W_D\" ]\n",
    "\n",
    "plot_with_labels(upintervals, downintervals, uplabels, downlabels, user4_1, 6)"
   ]
  },
  {
   "cell_type": "code",
   "execution_count": null,
   "id": "micro-slovenia",
   "metadata": {},
   "outputs": [],
   "source": [
    "downintervals = [ 0.15, 0.6, 0.9, 1.3, 1.6, 2, 2.4, 3.1, 3.9, 4.4, 4.9 ]\n",
    "upintervals = [ 0.4, 0.7, 1.1, 1.6, 1.9, 2.2, 2.7, 3.6, 4.2, 4.6 ]\n",
    "\n",
    "downlabels = [\"STAND\", \"SIT\", \"STAND\", \"LAY\", \"STAND\", \"LAY\", \"W\", \"W\", \"W_U\", \"W_U\", \"W_U\", \"W_U\"]\n",
    "uplabels = [  \"STAND_SIT\", \"SIT_STAND\", \"STAND_LIE\", \"LIE_STAND\", \"STAND_LIE\", \"LIE_STAND\", \"W\", \"W_D\", \"W_D\", \"W_D\", \"W_D\"  ]\n",
    "\n",
    "plot_with_labels(upintervals, downintervals, uplabels, downlabels, user4_2, 7)"
   ]
  },
  {
   "cell_type": "code",
   "execution_count": null,
   "id": "valid-spencer",
   "metadata": {},
   "outputs": [],
   "source": []
  }
 ],
 "metadata": {
  "kernelspec": {
   "display_name": "Python 3",
   "language": "python",
   "name": "python3"
  },
  "language_info": {
   "codemirror_mode": {
    "name": "ipython",
    "version": 3
   },
   "file_extension": ".py",
   "mimetype": "text/x-python",
   "name": "python",
   "nbconvert_exporter": "python",
   "pygments_lexer": "ipython3",
   "version": "3.8.7"
  },
  "metadata": {
   "interpreter": {
    "hash": "27d4f6ba00e5f9584c5bb13eed1064ec5c4936beebf286aef9eac3e7bf19e409"
   }
  }
 },
 "nbformat": 4,
 "nbformat_minor": 5
}
