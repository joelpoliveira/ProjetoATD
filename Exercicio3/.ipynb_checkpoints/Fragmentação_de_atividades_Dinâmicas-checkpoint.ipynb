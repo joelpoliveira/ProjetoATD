{
 "cells": [
  {
   "cell_type": "code",
   "execution_count": null,
   "id": "fifty-oliver",
   "metadata": {},
   "outputs": [],
   "source": [
    "import numpy as np\n",
    "import pandas as pd\n",
    "import matplotlib.pyplot as plt\n",
    "import seaborn as sns\n",
    "from sympy import *\n",
    "from scipy import signal\n",
    "import scipy as sy\n",
    "import math\n",
    "sns.set_style(\"whitegrid\")\n",
    "from numpy.fft import fft, fftshift"
   ]
  },
  {
   "cell_type": "code",
   "execution_count": null,
   "id": "talented-hardwood",
   "metadata": {},
   "outputs": [],
   "source": [
    "users_exp = pd.read_pickle(\"../Exercicio2/users.dat\")\n",
    "user1_1, user1_2, user2_1, user2_2, user3_1, user3_2, user4_1, user4_2 = users_exp"
   ]
  },
  {
   "cell_type": "code",
   "execution_count": null,
   "id": "smart-immune",
   "metadata": {},
   "outputs": [],
   "source": [
    "#uma segmentação das informações do user, num intervalo [*xi*, *xf*[\n",
    "def ufrag(user, xi, xf):\n",
    "    return user[ (xi<=user['Time (min)']) & (user['Time (min)'] < xf) ].reset_index().drop(\"index\", axis = 1)"
   ]
  },
  {
   "cell_type": "code",
   "execution_count": null,
   "id": "cheap-pattern",
   "metadata": {},
   "outputs": [],
   "source": [
    "### Dá plot às informações dos 3 eixos de uma fragmentação do utilizador nos subplots *subplots*, com a cor *c*\n",
    "## Para ajudar a análise também dá plot a uma linha com a média dos valores, bem como da média +/- 3* desvio padrão\n",
    "def plot_walk(subplots, user, c):\n",
    "    # subplots -- array com 3 subplots\n",
    "    # c -- string com a cor\n",
    "    # user -- DataFrame com o user\n",
    "    xmean = user['X'].mean()\n",
    "    xstd = user['X'].std()\n",
    "    user.plot( x = 'Time (min)', y='X', ax = subplots[0], color=c )\n",
    "    subplots[0].plot( user['Time (min)'], np.full( (len(user['X']), ), xmean ), 'k:')\n",
    "    subplots[0].plot( user['Time (min)'], np.full( (len(user['X']), ), xmean + 3*xstd ), 'r--')\n",
    "    subplots[0].plot( user['Time (min)'], np.full( (len(user['X']), ), xmean - 3*xstd ), 'r--')\n",
    "    subplots[0].set_xlabel(\"Time (min)\")\n",
    "    subplots[0].set_ylabel(\"ACC_X\")\n",
    "    \n",
    "    \n",
    "    ymean = user['Y'].mean()\n",
    "    ystd = user['Y'].std()\n",
    "    user.plot( x='Time (min)', y='Y', ax = subplots[1], color=c )\n",
    "    subplots[1].plot( user['Time (min)'], np.full( (len(user['Y']), ), ymean ), 'k:')\n",
    "    subplots[1].plot( user['Time (min)'], np.full( (len(user['Y']), ), ymean + 3*ystd ), 'r--')\n",
    "    subplots[1].plot( user['Time (min)'], np.full( (len(user['Y']), ), ymean - 3*ystd ), 'r--')\n",
    "    subplots[1].set_xlabel(\"Time (min)\")\n",
    "    subplots[1].set_ylabel(\"ACC_Y\")\n",
    "    \n",
    "    zmean = user['Z'].mean()\n",
    "    zstd = user['Z'].std()\n",
    "    user.plot( x='Time (min)', y='Z', ax = subplots[2], color=c )\n",
    "    subplots[2].plot( user['Time (min)'], np.full( (len(user['Z']), ), zmean ), 'k:')\n",
    "    subplots[2].plot( user['Time (min)'], np.full( (len(user['Z']), ), zmean + 3*zstd ), 'r--')\n",
    "    subplots[2].plot( user['Time (min)'], np.full( (len(user['Z']), ), zmean - 3*zstd ), 'r--')\n",
    "    subplots[2].set_xlabel(\"Time (min)\")\n",
    "    subplots[2].set_ylabel(\"ACC_Z\")"
   ]
  },
  {
   "cell_type": "code",
   "execution_count": null,
   "id": "broad-tennessee",
   "metadata": {},
   "outputs": [],
   "source": [
    "### Dá plot às informações nos eixos das fragmentações do utilizador\n",
    "def plot_user_walks(user_walks):\n",
    "    # user_walks -- array com as fragmentações dos dados do utilizador // não deve exceder 4 fragmentações.\n",
    "    figure, subplots = plt.subplots(nrows = 6, ncols= 2, figsize = (14,10))\n",
    "    colors = ['royalblue', 'maroon', 'darkorange', 'olive']\n",
    "    \n",
    "    for i in range(len(user_walks)):\n",
    "        if i < 2:\n",
    "            plot_walk(subplots[:3,i], user_walks[i], colors[i] )\n",
    "            subplots[0,i].set_title(f\"WALK {i+1}\")\n",
    "        else:\n",
    "            plot_walk(subplots[3:,i-2], user_walks[i], colors[i] )\n",
    "            subplots[3,i-2].set_title(f\"WALK {i+1}\")\n",
    "    figure.tight_layout()"
   ]
  },
  {
   "cell_type": "code",
   "execution_count": null,
   "id": "efficient-spare",
   "metadata": {},
   "outputs": [],
   "source": [
    "def set_between_std(user):\n",
    "    xmean = user['X'].mean()\n",
    "    xstd = user['X'].std()\n",
    "    user['X'] = user['X'].map(lambda x: (xmean + 2.5*xstd) if (x > xmean + 3*xstd) \n",
    "                              else ( (xmean - 2.5*xstd) if (x < xmean - 3*xstd) \n",
    "                                    else x ) )\n",
    "    \n",
    "    ymean = user['Y'].mean()\n",
    "    ystd = user['Y'].std()\n",
    "    user['Y'] = user['Y'].map(lambda x: (ymean + 2.5*ystd) if (x > ymean + 3*ystd) \n",
    "                              else ( (ymean - 2.5*ystd) if (x < ymean - 3*ystd) \n",
    "                                    else x ) )\n",
    "    \n",
    "    zmean = user['Z'].mean()\n",
    "    zstd = user['Z'].std()\n",
    "    user['Z'] = user['Z'].map(lambda x: (zmean + 2.5*zstd) if (x > zmean + 3*zstd) \n",
    "                              else ( (zmean - 2.5*zstd) if (x < zmean - 3*zstd) \n",
    "                                    else x ) )"
   ]
  },
  {
   "cell_type": "code",
   "execution_count": null,
   "id": "novel-sequence",
   "metadata": {},
   "outputs": [],
   "source": [
    "def detrend_user_walk(user):\n",
    "    new = user.copy()\n",
    "    new['X'] = signal.detrend(user['X'])\n",
    "    new['Y'] = signal.detrend(user['Y'])\n",
    "    new['Z'] = signal.detrend(user['Z'])\n",
    "    return new"
   ]
  },
  {
   "cell_type": "code",
   "execution_count": null,
   "id": "dirty-consultancy",
   "metadata": {},
   "outputs": [],
   "source": [
    "def plot_period_walk_freqs(user, freqs ):\n",
    "    dfts = []\n",
    "    dfts.append( np.abs( fftshift( fft( user['X'] ) ) ) )\n",
    "    dfts.append( np.abs( fftshift( fft( user['Y'] ) ) ) )\n",
    "    dfts.append( np.abs( fftshift( fft( user['Z'] ) ) ) )\n",
    "    for i in range(3):\n",
    "        dfts[i][ dfts[i]<np.max(dfts[i])*0.7 ] = 0\n",
    "    \n",
    "    figure, subplots = plt.subplots(nrows = 1, ncols= 3, figsize = (16,4))\n",
    "    \n",
    "    for i in range(3):\n",
    "        subplots[i].stem(freqs, dfts[i])\n",
    "    subplots[0].set_xlabel(\"Frequency in Axis X\")\n",
    "    subplots[1].set_xlabel(\"Frequency in Axis Y\")\n",
    "    subplots[2].set_xlabel(\"Frequency in Axis Z\")\n",
    "    \n",
    "    figure.tight_layout()\n",
    "    \n",
    "    print('X:', np.unique(np.abs(f[np.where(dfts[0])])))\n",
    "    print('Y:', np.unique(np.abs(f[np.where(dfts[1])])))\n",
    "    print('Z:', np.unique(np.abs(f[np.where(dfts[2])])))"
   ]
  },
  {
   "cell_type": "markdown",
   "id": "offensive-strip",
   "metadata": {},
   "source": [
    "## Fragmentação da atividade dinâmica WALKING\n",
    "### Primeiro Seccionar os intervalos da realização da atividade, de modo a poder operar apenas sobre eles"
   ]
  },
  {
   "cell_type": "markdown",
   "id": "mineral-ladder",
   "metadata": {},
   "source": [
    "### AVALIAR A PRIMEIRA EXPERIÊNCIA DO PRIMEIRO VOLUNTÁRIO"
   ]
  },
  {
   "cell_type": "code",
   "execution_count": null,
   "id": "expected-nightmare",
   "metadata": {},
   "outputs": [],
   "source": [
    "unow = user1_1\n",
    "walks_user1_1 = [ ufrag(unow, 2.56, 2.693), ufrag(unow, 2.955, 3.088), ufrag(user1_1, 3.355, 3.488), ufrag(user1_1, 3.715, 3.848) ]\n",
    "walks_user1_1_detrended = []\n",
    "for i in walks_user1_1:\n",
    "    walks_user1_1_detrended.append( detrend_user_walk(i) )\n",
    "plot_user_walks(walks_user1_1_detrended)"
   ]
  },
  {
   "cell_type": "markdown",
   "id": "offshore-hamburg",
   "metadata": {},
   "source": [
    "### Pela análise visual dos gráficos acima, a ação aparenta ter uma periodicidade próxima dos 0.019 s"
   ]
  },
  {
   "cell_type": "code",
   "execution_count": null,
   "id": "engaging-bradford",
   "metadata": {},
   "outputs": [],
   "source": [
    "step = 57\n",
    "plt.figure(figsize = (16,8))\n",
    "plt.subplot(221)\n",
    "for i in range(1,399//step + 1):\n",
    "    plt.plot(walks_user1_1_detrended[0]['Time (min)'][(i-1)*step: i * step], walks_user1_1_detrended[0]['Z'][(i-1)*step: i * step])\n",
    "    \n",
    "plt.subplot(222)\n",
    "for i in range(1,399//step + 1):\n",
    "    plt.plot(walks_user1_1_detrended[1]['Time (min)'][(i-1)*step: i * step], walks_user1_1_detrended[1]['Z'][(i-1)*step: i * step])\n",
    "    \n",
    "plt.subplot(223)\n",
    "for i in range(1,399//step + 1):\n",
    "    plt.plot(walks_user1_1_detrended[2]['Time (min)'][(i-1)*step: i * step], walks_user1_1_detrended[2]['Z'][(i-1)*step: i * step])\n",
    "    \n",
    "plt.subplot(224)\n",
    "for i in range(1,399//step + 1):\n",
    "    plt.plot(walks_user1_1_detrended[3]['Time (min)'][(i-1)*step: i * step], walks_user1_1_detrended[3]['Z'][(i-1)*step: i * step])"
   ]
  },
  {
   "cell_type": "code",
   "execution_count": null,
   "id": "precise-satin",
   "metadata": {},
   "outputs": [],
   "source": [
    "step = 57\n",
    "plt.figure(figsize = (16,8))\n",
    "\n",
    "plt.subplot(221)\n",
    "for i in range(399//step):\n",
    "    values = np.array(walks_user1_1_detrended[0]['Z'])[i*step:(i+1)*step]\n",
    "    plt.plot(range(len(values)), values )\n",
    "\n",
    "plt.subplot(222)\n",
    "for i in range(399//step):\n",
    "    values = np.array(walks_user1_1_detrended[1]['Z'])[i*step:(i+1)*step]\n",
    "    plt.plot(range(len(values)), values )\n",
    "\n",
    "plt.subplot(223)    \n",
    "for i in range(399//step):\n",
    "    values = np.array(walks_user1_1_detrended[1]['Z'])[i*step:(i+1)*step]\n",
    "    plt.plot(range(len(values)), values )\n",
    "\n",
    "plt.subplot(224)\n",
    "for i in range(399//step):\n",
    "    values = np.array(walks_user1_1_detrended[1]['Z'])[i*step:(i+1)*step]\n",
    "    plt.plot(range(len(values)), values )"
   ]
  },
  {
   "cell_type": "markdown",
   "id": "quarterly-reflection",
   "metadata": {},
   "source": [
    "### Como é visível pelos gráficos acima, parece legítimo considerar 57 como um valor aproximado de N para o intervalo criado, havendo uma sobreposição de todas as divisões e aproximando se bastante de um período no gráfico acima. Visualmente, no gráfico anterior, também se verifica que as diferentes cores se assemelham a um período"
   ]
  },
  {
   "cell_type": "code",
   "execution_count": null,
   "id": "drawn-trial",
   "metadata": {},
   "outputs": [],
   "source": [
    "N = 399\n",
    "fs = 50\n",
    "if N%2==0:\n",
    "    f = np.arange( -fs/2, fs/2 - fs/2/N + fs/N, fs/N) \n",
    "else:\n",
    "    f = np.arange( -fs/2 + fs/2/N, fs/2 - fs/2/N + fs/N, fs/N)"
   ]
  },
  {
   "cell_type": "code",
   "execution_count": null,
   "id": "liable-granny",
   "metadata": {},
   "outputs": [],
   "source": [
    "dft = np.abs(fftshift(fft(walks_user1_1_detrended[0]['Z'])))\n",
    "dft[dft<0.2*np.max(dft)]=0"
   ]
  },
  {
   "cell_type": "code",
   "execution_count": null,
   "id": "legal-tiger",
   "metadata": {},
   "outputs": [],
   "source": [
    "plot_period_walk_freqs(walks_user1_1_detrended[0], f)"
   ]
  },
  {
   "cell_type": "code",
   "execution_count": null,
   "id": "preceding-adaptation",
   "metadata": {},
   "outputs": [],
   "source": [
    "plot_period_walk_freqs(walks_user1_1_detrended[1], f)"
   ]
  },
  {
   "cell_type": "code",
   "execution_count": null,
   "id": "nutritional-color",
   "metadata": {},
   "outputs": [],
   "source": [
    "plot_period_walk_freqs(walks_user1_1_detrended[2], f)"
   ]
  },
  {
   "cell_type": "code",
   "execution_count": null,
   "id": "taken-reach",
   "metadata": {},
   "outputs": [],
   "source": [
    "plot_period_walk_freqs(walks_user1_1_detrended[3], f)"
   ]
  },
  {
   "cell_type": "code",
   "execution_count": null,
   "id": "naval-poland",
   "metadata": {},
   "outputs": [],
   "source": [
    "unow = user2_1\n",
    "walks_user2_1 = [ ufrag(unow, 2.550, 2.7), ufrag(unow, 2.95, 3.1), ufrag(unow, 3.35, 3.5) ]\n",
    "walks_user2_1_detrended = []\n",
    "for i in walks_user2_1:\n",
    "    walks_user2_1_detrended.append( detrend_user_walk(i) )\n",
    "plot_user_walks(walks_user2_1_detrended)"
   ]
  },
  {
   "cell_type": "code",
   "execution_count": null,
   "id": "irish-shelf",
   "metadata": {},
   "outputs": [],
   "source": [
    "\n",
    "\n",
    "\n",
    "\n",
    "plot_period_walk_freqs(walks_user2_1_detrended[0], f)"
   ]
  },
  {
   "cell_type": "code",
   "execution_count": null,
   "id": "middle-carrier",
   "metadata": {},
   "outputs": [],
   "source": []
  }
 ],
 "metadata": {
  "kernelspec": {
   "display_name": "Python 3",
   "language": "python",
   "name": "python3"
  },
  "language_info": {
   "codemirror_mode": {
    "name": "ipython",
    "version": 3
   },
   "file_extension": ".py",
   "mimetype": "text/x-python",
   "name": "python",
   "nbconvert_exporter": "python",
   "pygments_lexer": "ipython3",
   "version": "3.8.7"
  }
 },
 "nbformat": 4,
 "nbformat_minor": 5
}
